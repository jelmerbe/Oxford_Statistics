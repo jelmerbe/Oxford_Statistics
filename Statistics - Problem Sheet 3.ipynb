{
 "cells": [
  {
   "cell_type": "code",
   "execution_count": 408,
   "id": "262eb26c",
   "metadata": {},
   "outputs": [],
   "source": [
    "import numpy as np\n",
    "import pandas as pd\n",
    "import pandas_datareader \n",
    "import math\n",
    "import yfinance as yf\n",
    "import statsmodels.api as sm\n",
    "import matplotlib.pyplot as plt\n",
    "\n",
    "# sklearn packages\n",
    "from sklearn.model_selection import train_test_split\n",
    "from sklearn.model_selection import cross_val_score\n",
    "from sklearn.linear_model import LinearRegression\n",
    "from sklearn import linear_model\n",
    "\n",
    "from statsmodels.graphics.tsaplots import plot_acf\n",
    "from statsmodels.graphics.tsaplots import acf\n",
    "import scipy.stats as stats\n",
    "\n",
    "# Suppress warnings\n",
    "import warnings\n",
    "warnings.filterwarnings('ignore')"
   ]
  },
  {
   "cell_type": "markdown",
   "id": "a478b549",
   "metadata": {},
   "source": [
    "# Question 1"
   ]
  },
  {
   "cell_type": "markdown",
   "id": "19c7fd4c",
   "metadata": {},
   "source": [
    "## download data"
   ]
  },
  {
   "cell_type": "markdown",
   "id": "7b725147",
   "metadata": {},
   "source": [
    "Using pandas_datareader, download daily prices for symbols GS, SPY,\n",
    "DIA, WMT, EURUSD = X and GBPUSD = X from yahoo finance,\n",
    "using the ‘Adj Close’ price for your analysis. In particular, use the period\n",
    "‘2018-01-01’-‘2018-12-31’."
   ]
  },
  {
   "cell_type": "code",
   "execution_count": 516,
   "id": "b64397b2",
   "metadata": {},
   "outputs": [
    {
     "name": "stdout",
     "output_type": "stream",
     "text": [
      "[*********************100%%**********************]  6 of 6 completed\n"
     ]
    }
   ],
   "source": [
    "tickers = ['GS', 'SPY', 'DIA', 'WMT', 'EURUSD=X', 'GBPUSD=X']\n",
    "daily_prices = yf.download(tickers, start = '2018-01-01', end='2018-12-31')['Adj Close'].dropna()"
   ]
  },
  {
   "cell_type": "code",
   "execution_count": 517,
   "id": "5edda796",
   "metadata": {},
   "outputs": [
    {
     "data": {
      "text/html": [
       "<div>\n",
       "<style scoped>\n",
       "    .dataframe tbody tr th:only-of-type {\n",
       "        vertical-align: middle;\n",
       "    }\n",
       "\n",
       "    .dataframe tbody tr th {\n",
       "        vertical-align: top;\n",
       "    }\n",
       "\n",
       "    .dataframe thead th {\n",
       "        text-align: right;\n",
       "    }\n",
       "</style>\n",
       "<table border=\"1\" class=\"dataframe\">\n",
       "  <thead>\n",
       "    <tr style=\"text-align: right;\">\n",
       "      <th></th>\n",
       "      <th>DIA</th>\n",
       "      <th>EURUSD=X</th>\n",
       "      <th>GBPUSD=X</th>\n",
       "      <th>GS</th>\n",
       "      <th>SPY</th>\n",
       "      <th>WMT</th>\n",
       "    </tr>\n",
       "    <tr>\n",
       "      <th>Date</th>\n",
       "      <th></th>\n",
       "      <th></th>\n",
       "      <th></th>\n",
       "      <th></th>\n",
       "      <th></th>\n",
       "      <th></th>\n",
       "    </tr>\n",
       "  </thead>\n",
       "  <tbody>\n",
       "    <tr>\n",
       "      <th>2018-01-02</th>\n",
       "      <td>220.279739</td>\n",
       "      <td>1.201158</td>\n",
       "      <td>1.351132</td>\n",
       "      <td>225.773880</td>\n",
       "      <td>244.057770</td>\n",
       "      <td>88.952400</td>\n",
       "    </tr>\n",
       "    <tr>\n",
       "      <th>2018-01-03</th>\n",
       "      <td>221.105682</td>\n",
       "      <td>1.206345</td>\n",
       "      <td>1.359619</td>\n",
       "      <td>223.672180</td>\n",
       "      <td>245.601471</td>\n",
       "      <td>89.728310</td>\n",
       "    </tr>\n",
       "    <tr>\n",
       "      <th>2018-01-04</th>\n",
       "      <td>222.571213</td>\n",
       "      <td>1.201043</td>\n",
       "      <td>1.351132</td>\n",
       "      <td>226.798233</td>\n",
       "      <td>246.636612</td>\n",
       "      <td>89.809509</td>\n",
       "    </tr>\n",
       "  </tbody>\n",
       "</table>\n",
       "</div>"
      ],
      "text/plain": [
       "                   DIA  EURUSD=X  GBPUSD=X          GS         SPY        WMT\n",
       "Date                                                                         \n",
       "2018-01-02  220.279739  1.201158  1.351132  225.773880  244.057770  88.952400\n",
       "2018-01-03  221.105682  1.206345  1.359619  223.672180  245.601471  89.728310\n",
       "2018-01-04  222.571213  1.201043  1.351132  226.798233  246.636612  89.809509"
      ]
     },
     "execution_count": 517,
     "metadata": {},
     "output_type": "execute_result"
    }
   ],
   "source": [
    "daily_prices.head(3)"
   ]
  },
  {
   "cell_type": "markdown",
   "id": "f5837f1c",
   "metadata": {},
   "source": [
    "## a \n",
    "\n",
    "(a) Regress the daily log returns of GS on the daily log returns of all other\n",
    "predictors using a simple OLS model (no need to add or remove predictors\n",
    "for this exercise)."
   ]
  },
  {
   "cell_type": "code",
   "execution_count": 79,
   "id": "ac4337a3",
   "metadata": {},
   "outputs": [
    {
     "data": {
      "text/html": [
       "<div>\n",
       "<style scoped>\n",
       "    .dataframe tbody tr th:only-of-type {\n",
       "        vertical-align: middle;\n",
       "    }\n",
       "\n",
       "    .dataframe tbody tr th {\n",
       "        vertical-align: top;\n",
       "    }\n",
       "\n",
       "    .dataframe thead th {\n",
       "        text-align: right;\n",
       "    }\n",
       "</style>\n",
       "<table border=\"1\" class=\"dataframe\">\n",
       "  <thead>\n",
       "    <tr style=\"text-align: right;\">\n",
       "      <th></th>\n",
       "      <th>DIA</th>\n",
       "      <th>EURUSD=X</th>\n",
       "      <th>GBPUSD=X</th>\n",
       "      <th>GS</th>\n",
       "      <th>SPY</th>\n",
       "      <th>WMT</th>\n",
       "    </tr>\n",
       "    <tr>\n",
       "      <th>Date</th>\n",
       "      <th></th>\n",
       "      <th></th>\n",
       "      <th></th>\n",
       "      <th></th>\n",
       "      <th></th>\n",
       "      <th></th>\n",
       "    </tr>\n",
       "  </thead>\n",
       "  <tbody>\n",
       "    <tr>\n",
       "      <th>2018-01-03</th>\n",
       "      <td>0.003743</td>\n",
       "      <td>0.004309</td>\n",
       "      <td>0.006262</td>\n",
       "      <td>-0.009352</td>\n",
       "      <td>0.006305</td>\n",
       "      <td>0.008685</td>\n",
       "    </tr>\n",
       "    <tr>\n",
       "      <th>2018-01-04</th>\n",
       "      <td>0.006606</td>\n",
       "      <td>-0.004406</td>\n",
       "      <td>-0.006262</td>\n",
       "      <td>0.013879</td>\n",
       "      <td>0.004206</td>\n",
       "      <td>0.000905</td>\n",
       "    </tr>\n",
       "    <tr>\n",
       "      <th>2018-01-05</th>\n",
       "      <td>0.008424</td>\n",
       "      <td>0.004852</td>\n",
       "      <td>0.003072</td>\n",
       "      <td>-0.005113</td>\n",
       "      <td>0.006642</td>\n",
       "      <td>0.005910</td>\n",
       "    </tr>\n",
       "  </tbody>\n",
       "</table>\n",
       "</div>"
      ],
      "text/plain": [
       "                 DIA  EURUSD=X  GBPUSD=X        GS       SPY       WMT\n",
       "Date                                                                  \n",
       "2018-01-03  0.003743  0.004309  0.006262 -0.009352  0.006305  0.008685\n",
       "2018-01-04  0.006606 -0.004406 -0.006262  0.013879  0.004206  0.000905\n",
       "2018-01-05  0.008424  0.004852  0.003072 -0.005113  0.006642  0.005910"
      ]
     },
     "execution_count": 79,
     "metadata": {},
     "output_type": "execute_result"
    }
   ],
   "source": [
    "log_returns = (np.log(daily_prices) - np.log(daily_prices.shift(1))).dropna()\n",
    "log_returns.head(3)"
   ]
  },
  {
   "cell_type": "code",
   "execution_count": 77,
   "id": "db22791b",
   "metadata": {},
   "outputs": [
    {
     "data": {
      "text/html": [
       "<table class=\"simpletable\">\n",
       "<caption>OLS Regression Results</caption>\n",
       "<tr>\n",
       "  <th>Dep. Variable:</th>           <td>GS</td>        <th>  R-squared:         </th> <td>   0.626</td>\n",
       "</tr>\n",
       "<tr>\n",
       "  <th>Model:</th>                   <td>OLS</td>       <th>  Adj. R-squared:    </th> <td>   0.618</td>\n",
       "</tr>\n",
       "<tr>\n",
       "  <th>Method:</th>             <td>Least Squares</td>  <th>  F-statistic:       </th> <td>   81.23</td>\n",
       "</tr>\n",
       "<tr>\n",
       "  <th>Date:</th>             <td>Sun, 19 Nov 2023</td> <th>  Prob (F-statistic):</th> <td>7.20e-50</td>\n",
       "</tr>\n",
       "<tr>\n",
       "  <th>Time:</th>                 <td>09:38:58</td>     <th>  Log-Likelihood:    </th> <td>  795.52</td>\n",
       "</tr>\n",
       "<tr>\n",
       "  <th>No. Observations:</th>      <td>   249</td>      <th>  AIC:               </th> <td>  -1579.</td>\n",
       "</tr>\n",
       "<tr>\n",
       "  <th>Df Residuals:</th>          <td>   243</td>      <th>  BIC:               </th> <td>  -1558.</td>\n",
       "</tr>\n",
       "<tr>\n",
       "  <th>Df Model:</th>              <td>     5</td>      <th>                     </th>     <td> </td>   \n",
       "</tr>\n",
       "<tr>\n",
       "  <th>Covariance Type:</th>      <td>nonrobust</td>    <th>                     </th>     <td> </td>   \n",
       "</tr>\n",
       "</table>\n",
       "<table class=\"simpletable\">\n",
       "<tr>\n",
       "      <td></td>        <th>coef</th>     <th>std err</th>      <th>t</th>      <th>P>|t|</th>  <th>[0.025</th>    <th>0.975]</th>  \n",
       "</tr>\n",
       "<tr>\n",
       "  <th>const</th>    <td>   -0.0015</td> <td>    0.001</td> <td>   -2.296</td> <td> 0.023</td> <td>   -0.003</td> <td>   -0.000</td>\n",
       "</tr>\n",
       "<tr>\n",
       "  <th>SPY</th>      <td>    0.0906</td> <td>    0.262</td> <td>    0.346</td> <td> 0.730</td> <td>   -0.426</td> <td>    0.607</td>\n",
       "</tr>\n",
       "<tr>\n",
       "  <th>DIA</th>      <td>    1.1144</td> <td>    0.258</td> <td>    4.324</td> <td> 0.000</td> <td>    0.607</td> <td>    1.622</td>\n",
       "</tr>\n",
       "<tr>\n",
       "  <th>WMT</th>      <td>   -0.1126</td> <td>    0.051</td> <td>   -2.208</td> <td> 0.028</td> <td>   -0.213</td> <td>   -0.012</td>\n",
       "</tr>\n",
       "<tr>\n",
       "  <th>EURUSD=X</th> <td>   -0.0545</td> <td>    0.194</td> <td>   -0.281</td> <td> 0.779</td> <td>   -0.437</td> <td>    0.328</td>\n",
       "</tr>\n",
       "<tr>\n",
       "  <th>GBPUSD=X</th> <td>    0.2358</td> <td>    0.170</td> <td>    1.386</td> <td> 0.167</td> <td>   -0.099</td> <td>    0.571</td>\n",
       "</tr>\n",
       "</table>\n",
       "<table class=\"simpletable\">\n",
       "<tr>\n",
       "  <th>Omnibus:</th>       <td>26.613</td> <th>  Durbin-Watson:     </th> <td>   1.996</td>\n",
       "</tr>\n",
       "<tr>\n",
       "  <th>Prob(Omnibus):</th> <td> 0.000</td> <th>  Jarque-Bera (JB):  </th> <td>  83.637</td>\n",
       "</tr>\n",
       "<tr>\n",
       "  <th>Skew:</th>          <td>-0.376</td> <th>  Prob(JB):          </th> <td>6.89e-19</td>\n",
       "</tr>\n",
       "<tr>\n",
       "  <th>Kurtosis:</th>      <td> 5.738</td> <th>  Cond. No.          </th> <td>    574.</td>\n",
       "</tr>\n",
       "</table><br/><br/>Notes:<br/>[1] Standard Errors assume that the covariance matrix of the errors is correctly specified."
      ],
      "text/plain": [
       "<class 'statsmodels.iolib.summary.Summary'>\n",
       "\"\"\"\n",
       "                            OLS Regression Results                            \n",
       "==============================================================================\n",
       "Dep. Variable:                     GS   R-squared:                       0.626\n",
       "Model:                            OLS   Adj. R-squared:                  0.618\n",
       "Method:                 Least Squares   F-statistic:                     81.23\n",
       "Date:                Sun, 19 Nov 2023   Prob (F-statistic):           7.20e-50\n",
       "Time:                        09:38:58   Log-Likelihood:                 795.52\n",
       "No. Observations:                 249   AIC:                            -1579.\n",
       "Df Residuals:                     243   BIC:                            -1558.\n",
       "Df Model:                           5                                         \n",
       "Covariance Type:            nonrobust                                         \n",
       "==============================================================================\n",
       "                 coef    std err          t      P>|t|      [0.025      0.975]\n",
       "------------------------------------------------------------------------------\n",
       "const         -0.0015      0.001     -2.296      0.023      -0.003      -0.000\n",
       "SPY            0.0906      0.262      0.346      0.730      -0.426       0.607\n",
       "DIA            1.1144      0.258      4.324      0.000       0.607       1.622\n",
       "WMT           -0.1126      0.051     -2.208      0.028      -0.213      -0.012\n",
       "EURUSD=X      -0.0545      0.194     -0.281      0.779      -0.437       0.328\n",
       "GBPUSD=X       0.2358      0.170      1.386      0.167      -0.099       0.571\n",
       "==============================================================================\n",
       "Omnibus:                       26.613   Durbin-Watson:                   1.996\n",
       "Prob(Omnibus):                  0.000   Jarque-Bera (JB):               83.637\n",
       "Skew:                          -0.376   Prob(JB):                     6.89e-19\n",
       "Kurtosis:                       5.738   Cond. No.                         574.\n",
       "==============================================================================\n",
       "\n",
       "Notes:\n",
       "[1] Standard Errors assume that the covariance matrix of the errors is correctly specified.\n",
       "\"\"\""
      ]
     },
     "execution_count": 77,
     "metadata": {},
     "output_type": "execute_result"
    }
   ],
   "source": [
    "y = log_returns['GS']\n",
    "X = log_returns[['SPY', 'DIA', 'WMT', 'EURUSD=X', 'GBPUSD=X' ]]\n",
    "X = sm.add_constant(X)\n",
    "OLS = sm.OLS(y, X).fit()\n",
    "OLS.summary()"
   ]
  },
  {
   "cell_type": "markdown",
   "id": "016c4958",
   "metadata": {},
   "source": [
    "## b\n",
    "Use a cross-validation method in order to assess the MSE of the model\n",
    "for this OLS, using a 5-fold split to split data into training set and validation set."
   ]
  },
  {
   "cell_type": "code",
   "execution_count": 575,
   "id": "cb71d012",
   "metadata": {},
   "outputs": [
    {
     "data": {
      "text/html": [
       "<div>\n",
       "<style scoped>\n",
       "    .dataframe tbody tr th:only-of-type {\n",
       "        vertical-align: middle;\n",
       "    }\n",
       "\n",
       "    .dataframe tbody tr th {\n",
       "        vertical-align: top;\n",
       "    }\n",
       "\n",
       "    .dataframe thead th {\n",
       "        text-align: right;\n",
       "    }\n",
       "</style>\n",
       "<table border=\"1\" class=\"dataframe\">\n",
       "  <thead>\n",
       "    <tr style=\"text-align: right;\">\n",
       "      <th></th>\n",
       "      <th>0</th>\n",
       "      <th>1</th>\n",
       "      <th>2</th>\n",
       "      <th>3</th>\n",
       "      <th>4</th>\n",
       "      <th>5</th>\n",
       "    </tr>\n",
       "  </thead>\n",
       "  <tbody>\n",
       "    <tr>\n",
       "      <th>0</th>\n",
       "      <td>0.225911</td>\n",
       "      <td>0.260135</td>\n",
       "      <td>0.377987</td>\n",
       "      <td>-0.564549</td>\n",
       "      <td>0.380607</td>\n",
       "      <td>0.524254</td>\n",
       "    </tr>\n",
       "    <tr>\n",
       "      <th>1</th>\n",
       "      <td>0.373170</td>\n",
       "      <td>-0.248855</td>\n",
       "      <td>-0.353711</td>\n",
       "      <td>0.783997</td>\n",
       "      <td>0.237576</td>\n",
       "      <td>0.051095</td>\n",
       "    </tr>\n",
       "    <tr>\n",
       "      <th>2</th>\n",
       "      <td>0.582507</td>\n",
       "      <td>0.335512</td>\n",
       "      <td>0.212413</td>\n",
       "      <td>-0.353601</td>\n",
       "      <td>0.459296</td>\n",
       "      <td>0.408671</td>\n",
       "    </tr>\n",
       "    <tr>\n",
       "      <th>3</th>\n",
       "      <td>-0.024449</td>\n",
       "      <td>-0.123768</td>\n",
       "      <td>0.080611</td>\n",
       "      <td>-0.695323</td>\n",
       "      <td>0.086857</td>\n",
       "      <td>0.697544</td>\n",
       "    </tr>\n",
       "    <tr>\n",
       "      <th>4</th>\n",
       "      <td>0.291947</td>\n",
       "      <td>-0.335477</td>\n",
       "      <td>-0.020401</td>\n",
       "      <td>0.506254</td>\n",
       "      <td>0.135881</td>\n",
       "      <td>-0.725981</td>\n",
       "    </tr>\n",
       "    <tr>\n",
       "      <th>...</th>\n",
       "      <td>...</td>\n",
       "      <td>...</td>\n",
       "      <td>...</td>\n",
       "      <td>...</td>\n",
       "      <td>...</td>\n",
       "      <td>...</td>\n",
       "    </tr>\n",
       "    <tr>\n",
       "      <th>244</th>\n",
       "      <td>-0.316702</td>\n",
       "      <td>0.100911</td>\n",
       "      <td>0.056735</td>\n",
       "      <td>-0.871673</td>\n",
       "      <td>-0.354425</td>\n",
       "      <td>-0.029446</td>\n",
       "    </tr>\n",
       "    <tr>\n",
       "      <th>245</th>\n",
       "      <td>-0.566845</td>\n",
       "      <td>-0.154034</td>\n",
       "      <td>-0.034432</td>\n",
       "      <td>-0.489339</td>\n",
       "      <td>-0.560241</td>\n",
       "      <td>-0.316942</td>\n",
       "    </tr>\n",
       "    <tr>\n",
       "      <th>246</th>\n",
       "      <td>0.497294</td>\n",
       "      <td>0.039246</td>\n",
       "      <td>0.032893</td>\n",
       "      <td>0.431578</td>\n",
       "      <td>0.516022</td>\n",
       "      <td>0.545470</td>\n",
       "    </tr>\n",
       "    <tr>\n",
       "      <th>247</th>\n",
       "      <td>0.448784</td>\n",
       "      <td>-0.192679</td>\n",
       "      <td>-0.127681</td>\n",
       "      <td>0.611448</td>\n",
       "      <td>0.309556</td>\n",
       "      <td>0.524854</td>\n",
       "    </tr>\n",
       "    <tr>\n",
       "      <th>248</th>\n",
       "      <td>-0.196642</td>\n",
       "      <td>0.356195</td>\n",
       "      <td>-0.011784</td>\n",
       "      <td>-0.843570</td>\n",
       "      <td>-0.075118</td>\n",
       "      <td>0.342149</td>\n",
       "    </tr>\n",
       "  </tbody>\n",
       "</table>\n",
       "<p>249 rows × 6 columns</p>\n",
       "</div>"
      ],
      "text/plain": [
       "            0         1         2         3         4         5\n",
       "0    0.225911  0.260135  0.377987 -0.564549  0.380607  0.524254\n",
       "1    0.373170 -0.248855 -0.353711  0.783997  0.237576  0.051095\n",
       "2    0.582507  0.335512  0.212413 -0.353601  0.459296  0.408671\n",
       "3   -0.024449 -0.123768  0.080611 -0.695323  0.086857  0.697544\n",
       "4    0.291947 -0.335477 -0.020401  0.506254  0.135881 -0.725981\n",
       "..        ...       ...       ...       ...       ...       ...\n",
       "244 -0.316702  0.100911  0.056735 -0.871673 -0.354425 -0.029446\n",
       "245 -0.566845 -0.154034 -0.034432 -0.489339 -0.560241 -0.316942\n",
       "246  0.497294  0.039246  0.032893  0.431578  0.516022  0.545470\n",
       "247  0.448784 -0.192679 -0.127681  0.611448  0.309556  0.524854\n",
       "248 -0.196642  0.356195 -0.011784 -0.843570 -0.075118  0.342149\n",
       "\n",
       "[249 rows x 6 columns]"
      ]
     },
     "execution_count": 575,
     "metadata": {},
     "output_type": "execute_result"
    }
   ],
   "source": [
    "from sklearn import preprocessing\n",
    "\n",
    "norm = pd.DataFrame(preprocessing.normalize(log_returns))\n",
    "norm"
   ]
  },
  {
   "cell_type": "code",
   "execution_count": null,
   "id": "641dd129",
   "metadata": {},
   "outputs": [],
   "source": []
  },
  {
   "cell_type": "code",
   "execution_count": 590,
   "id": "0f9972c0",
   "metadata": {},
   "outputs": [
    {
     "data": {
      "text/html": [
       "<div>\n",
       "<style scoped>\n",
       "    .dataframe tbody tr th:only-of-type {\n",
       "        vertical-align: middle;\n",
       "    }\n",
       "\n",
       "    .dataframe tbody tr th {\n",
       "        vertical-align: top;\n",
       "    }\n",
       "\n",
       "    .dataframe thead th {\n",
       "        text-align: right;\n",
       "    }\n",
       "</style>\n",
       "<table border=\"1\" class=\"dataframe\">\n",
       "  <thead>\n",
       "    <tr style=\"text-align: right;\">\n",
       "      <th></th>\n",
       "      <th>DIA</th>\n",
       "      <th>EURUSD=X</th>\n",
       "      <th>GBPUSD=X</th>\n",
       "      <th>GS</th>\n",
       "      <th>SPY</th>\n",
       "      <th>WMT</th>\n",
       "    </tr>\n",
       "    <tr>\n",
       "      <th>Date</th>\n",
       "      <th></th>\n",
       "      <th></th>\n",
       "      <th></th>\n",
       "      <th></th>\n",
       "      <th></th>\n",
       "      <th></th>\n",
       "    </tr>\n",
       "  </thead>\n",
       "  <tbody>\n",
       "    <tr>\n",
       "      <th>2018-01-03</th>\n",
       "      <td>0.348397</td>\n",
       "      <td>0.965591</td>\n",
       "      <td>1.219666</td>\n",
       "      <td>-0.468095</td>\n",
       "      <td>0.608337</td>\n",
       "      <td>0.582369</td>\n",
       "    </tr>\n",
       "    <tr>\n",
       "      <th>2018-01-04</th>\n",
       "      <td>0.600786</td>\n",
       "      <td>-0.900949</td>\n",
       "      <td>-1.120359</td>\n",
       "      <td>0.962712</td>\n",
       "      <td>0.413556</td>\n",
       "      <td>0.071130</td>\n",
       "    </tr>\n",
       "    <tr>\n",
       "      <th>2018-01-05</th>\n",
       "      <td>0.760955</td>\n",
       "      <td>1.081767</td>\n",
       "      <td>0.623603</td>\n",
       "      <td>-0.207022</td>\n",
       "      <td>0.639579</td>\n",
       "      <td>0.400023</td>\n",
       "    </tr>\n",
       "  </tbody>\n",
       "</table>\n",
       "</div>"
      ],
      "text/plain": [
       "                 DIA  EURUSD=X  GBPUSD=X        GS       SPY       WMT\n",
       "Date                                                                  \n",
       "2018-01-03  0.348397  0.965591  1.219666 -0.468095  0.608337  0.582369\n",
       "2018-01-04  0.600786 -0.900949 -1.120359  0.962712  0.413556  0.071130\n",
       "2018-01-05  0.760955  1.081767  0.623603 -0.207022  0.639579  0.400023"
      ]
     },
     "execution_count": 590,
     "metadata": {},
     "output_type": "execute_result"
    }
   ],
   "source": [
    "# normalize data (assuming normal distributions)\n",
    "log_returns_norm = (log_returns - log_returns.mean()) / log_returns.std()\n",
    "log_returns_norm.head(3)"
   ]
  },
  {
   "cell_type": "code",
   "execution_count": 584,
   "id": "e4dff8a2",
   "metadata": {},
   "outputs": [
    {
     "name": "stdout",
     "output_type": "stream",
     "text": [
      "0.3949255198374835\n"
     ]
    }
   ],
   "source": [
    "# split data into training and testing set\n",
    "X = log_returns_norm[['SPY', 'DIA', 'WMT', 'EURUSD=X', 'GBPUSD=X' ]]; y = log_returns_norm['GS']\n",
    "\n",
    "# create regression (using sklearn)\n",
    "scores = -cross_val_score(LinearRegression(), X, y, cv=5, scoring='neg_mean_squared_error')\n",
    "OLS_MSE = np.mean(scores)\n",
    "print(OLS_MSE)"
   ]
  },
  {
   "cell_type": "code",
   "execution_count": 585,
   "id": "6cc3068c",
   "metadata": {},
   "outputs": [
    {
     "data": {
      "text/plain": [
       "const      -0.0015\n",
       "SPY         0.0906\n",
       "DIA         1.1144\n",
       "WMT        -0.1126\n",
       "EURUSD=X   -0.0545\n",
       "GBPUSD=X    0.2358\n",
       "dtype: float64"
      ]
     },
     "execution_count": 585,
     "metadata": {},
     "output_type": "execute_result"
    }
   ],
   "source": [
    "np.round(OLS.params, 4)"
   ]
  },
  {
   "cell_type": "markdown",
   "id": "ad11fe71",
   "metadata": {},
   "source": [
    "## c \n",
    "Next run a series of cross-validations (using 5-fold split) in order to\n",
    "choose the best lambda hyperparameter for a LASSO regression. Use the\n",
    "MSE of the validation data for each lambda as your criteria. Hints: a)\n",
    "remember to set the model to be normalized and b) try lambda parameters\n",
    "using lam=np.logspace (−8, −4, 20)."
   ]
  },
  {
   "cell_type": "code",
   "execution_count": 588,
   "id": "ce64b9f9",
   "metadata": {},
   "outputs": [],
   "source": [
    "# declare lambdas\n",
    "lam = np.logspace(-15, -1.5, 100)\n",
    "\n",
    "MSE_lasso = np.zeros(len(lam))\n",
    "count = 0 \n",
    "\n",
    "for lamb in lam: \n",
    "    lasso = linear_model.Lasso(alpha=lamb)\n",
    "    scores = cross_val_score(lasso, X, y, cv=5, scoring='neg_mean_squared_error')\n",
    "    MSE_lasso[count] = -scores.mean()\n",
    "    count += 1"
   ]
  },
  {
   "cell_type": "code",
   "execution_count": 589,
   "id": "fd1aa59a",
   "metadata": {},
   "outputs": [
    {
     "data": {
      "text/plain": [
       "Text(0.5, 1.0, 'Lasso regression MSE of different lambda')"
      ]
     },
     "execution_count": 589,
     "metadata": {},
     "output_type": "execute_result"
    },
    {
     "data": {
      "image/png": "[encoded data removed]",
      "text/plain": [
       "<Figure size 432x288 with 1 Axes>"
      ]
     },
     "metadata": {
      "needs_background": "light"
     },
     "output_type": "display_data"
    }
   ],
   "source": [
    "# plot lambda values vs MSE\n",
    "plt.scatter(lam, MSE_lasso)\n",
    "plt.xlabel('lambdas'); plt.ylabel('cross-validated MSE')\n",
    "plt.title('Lasso regression MSE of different lambda')"
   ]
  },
  {
   "cell_type": "markdown",
   "id": "69e92271",
   "metadata": {},
   "source": [
    "## d \n",
    "Similarly, repeat the cross-validation exercise to select the best hyperparameter lambda for a Ridge regression. Hints: a) remember to set\n",
    "the model to be normalized and b) try lambda parameters using lam =\n",
    "np.linspace (0.0005, 0.05, 20)"
   ]
  },
  {
   "cell_type": "code",
   "execution_count": 558,
   "id": "c015e15a",
   "metadata": {},
   "outputs": [],
   "source": [
    "lam_ridge = np.linspace(0, 8, 20)\n",
    "\n",
    "MSE_ridge = np.zeros(len(lam_ridge))\n",
    "count = 0 \n",
    "\n",
    "for lamb in lam_ridge: \n",
    "    ridge = linear_model.Ridge(alpha=lamb)\n",
    "    scores = -cross_val_score(ridge, X, y, cv=5, scoring='neg_mean_squared_error')\n",
    "    MSE_ridge[count] = scores.mean()\n",
    "    count += 1"
   ]
  },
  {
   "cell_type": "code",
   "execution_count": 559,
   "id": "c3fc41b3",
   "metadata": {},
   "outputs": [
    {
     "data": {
      "text/plain": [
       "Text(0.5, 1.0, 'Ridge regression MSE of different lambda')"
      ]
     },
     "execution_count": 559,
     "metadata": {},
     "output_type": "execute_result"
    },
    {
     "data": {
      "image/png": "[encoded data removed]",
      "text/plain": [
       "<Figure size 432x288 with 1 Axes>"
      ]
     },
     "metadata": {
      "needs_background": "light"
     },
     "output_type": "display_data"
    }
   ],
   "source": [
    "# plot lambda values vs MSE\n",
    "plt.scatter(lam_ridge, MSE_ridge)\n",
    "plt.xlabel('lambda values'); plt.ylabel('cross-validated MSE')\n",
    "plt.title('Ridge regression MSE of different lambda')"
   ]
  },
  {
   "cell_type": "markdown",
   "id": "b7f037ad",
   "metadata": {},
   "source": [
    "## e \n",
    "Using the results from c) and d), what is the validation MSE for the\n",
    "optimal LASSO model? What about for the optimal Ridge model?"
   ]
  },
  {
   "cell_type": "code",
   "execution_count": 542,
   "id": "99733bb6",
   "metadata": {},
   "outputs": [
    {
     "name": "stdout",
     "output_type": "stream",
     "text": [
      "Validation MSE for Lasso and Ridge respectively: 0.3921 0.3941\n"
     ]
    }
   ],
   "source": [
    "validation_MSE_lasso = min(MSE_lasso)\n",
    "validation_MSE_ridge = min(MSE_ridge)\n",
    "\n",
    "print('Validation MSE for Lasso and Ridge respectively:', round(validation_MSE_lasso, 4), \n",
    "      round(validation_MSE_ridge, 4))"
   ]
  },
  {
   "cell_type": "markdown",
   "id": "47c0e2f8",
   "metadata": {},
   "source": [
    "## f\n",
    "What are the coefficients of the optimal LASSO model? Has any of\n",
    "the parameters shrunk to zero?"
   ]
  },
  {
   "cell_type": "code",
   "execution_count": 552,
   "id": "24db6af1",
   "metadata": {},
   "outputs": [
    {
     "name": "stdout",
     "output_type": "stream",
     "text": [
      "Coefficients for Lasso and Ridge respectively: \n",
      " [ 0.07478617  0.73630511 -0.0753093   0.          0.05251085] \n",
      " [ 0.1479489   0.68235983 -0.09577922 -0.0127027   0.07481433]\n"
     ]
    }
   ],
   "source": [
    "opt_lasso_coef = linear_model.Lasso(alpha=lam[np.argmin(MSE_lasso)]).fit(X, y).coef_\n",
    "opt_ridge_coef = linear_model.Ridge(alpha=lam_ridge[np.argmin(MSE_ridge)]).fit(X, y).coef_\n",
    "\n",
    "print('Coefficients for Lasso and Ridge respectively: \\n', opt_lasso_coef, '\\n', \n",
    "      opt_ridge_coef)"
   ]
  },
  {
   "cell_type": "markdown",
   "id": "ecac5d27",
   "metadata": {},
   "source": [
    "# Question 2"
   ]
  },
  {
   "cell_type": "markdown",
   "id": "1acaa43e",
   "metadata": {},
   "source": [
    "Using the quarterly data, investigate the possible autoregressive structure\n",
    "of the growth in productivity. Using the data provided, what predictions\n",
    "for the increase in productivity does it estimate for 2019-20? (use data\n",
    "from Q1 1997 to Q2 2018 as in the CSV file). How has productivity been\n",
    "changing over the long-term?"
   ]
  },
  {
   "cell_type": "code",
   "execution_count": 193,
   "id": "4562dd10",
   "metadata": {},
   "outputs": [
    {
     "data": {
      "text/html": [
       "<div>\n",
       "<style scoped>\n",
       "    .dataframe tbody tr th:only-of-type {\n",
       "        vertical-align: middle;\n",
       "    }\n",
       "\n",
       "    .dataframe tbody tr th {\n",
       "        vertical-align: top;\n",
       "    }\n",
       "\n",
       "    .dataframe thead th {\n",
       "        text-align: right;\n",
       "    }\n",
       "</style>\n",
       "<table border=\"1\" class=\"dataframe\">\n",
       "  <thead>\n",
       "    <tr style=\"text-align: right;\">\n",
       "      <th></th>\n",
       "      <th>MFP</th>\n",
       "    </tr>\n",
       "    <tr>\n",
       "      <th>Time</th>\n",
       "      <th></th>\n",
       "    </tr>\n",
       "  </thead>\n",
       "  <tbody>\n",
       "    <tr>\n",
       "      <th>1994 Q1</th>\n",
       "      <td>78.566732</td>\n",
       "    </tr>\n",
       "    <tr>\n",
       "      <th>1994 Q2</th>\n",
       "      <td>79.312031</td>\n",
       "    </tr>\n",
       "    <tr>\n",
       "      <th>1994 Q3</th>\n",
       "      <td>79.335645</td>\n",
       "    </tr>\n",
       "    <tr>\n",
       "      <th>1994 Q4</th>\n",
       "      <td>80.016019</td>\n",
       "    </tr>\n",
       "    <tr>\n",
       "      <th>1995 Q1</th>\n",
       "      <td>78.650787</td>\n",
       "    </tr>\n",
       "  </tbody>\n",
       "</table>\n",
       "</div>"
      ],
      "text/plain": [
       "               MFP\n",
       "Time              \n",
       "1994 Q1  78.566732\n",
       "1994 Q2  79.312031\n",
       "1994 Q3  79.335645\n",
       "1994 Q4  80.016019\n",
       "1995 Q1  78.650787"
      ]
     },
     "execution_count": 193,
     "metadata": {},
     "output_type": "execute_result"
    }
   ],
   "source": [
    "mfp = (\n",
    "    pd.read_csv('data/mfp.csv')\n",
    "    .dropna()\n",
    "    .set_index('Time')\n",
    ")\n",
    "\n",
    "mfp.head()"
   ]
  },
  {
   "cell_type": "code",
   "execution_count": 567,
   "id": "6e09a5a7",
   "metadata": {},
   "outputs": [
    {
     "data": {
      "text/plain": [
       "<AxesSubplot:xlabel='Time'>"
      ]
     },
     "execution_count": 567,
     "metadata": {},
     "output_type": "execute_result"
    },
    {
     "data": {
      "image/png": "[encoded data removed]",
      "text/plain": [
       "<Figure size 432x288 with 1 Axes>"
      ]
     },
     "metadata": {
      "needs_background": "light"
     },
     "output_type": "display_data"
    },
    {
     "data": {
      "image/png": "[encoded data removed]",
      "text/plain": [
       "<Figure size 432x288 with 1 Axes>"
      ]
     },
     "metadata": {
      "needs_background": "light"
     },
     "output_type": "display_data"
    }
   ],
   "source": [
    "# plot data and check for outliers\n",
    "plt.boxplot(mfp['MFP'])\n",
    "plt.title('Growth in Productivity')\n",
    "\n",
    "mfp.plot()"
   ]
  },
  {
   "cell_type": "markdown",
   "id": "6bccba31",
   "metadata": {},
   "source": [
    "## Check Stationarity of Data"
   ]
  },
  {
   "cell_type": "markdown",
   "id": "b43ab0fe",
   "metadata": {},
   "source": [
    "### ACF and PCAF"
   ]
  },
  {
   "cell_type": "code",
   "execution_count": 566,
   "id": "0e6c0315",
   "metadata": {},
   "outputs": [
    {
     "data": {
      "text/plain": [
       "Text(0.5, 0, 'lags')"
      ]
     },
     "execution_count": 566,
     "metadata": {},
     "output_type": "execute_result"
    },
    {
     "data": {
      "image/png": "[encoded data removed]",
      "text/plain": [
       "<Figure size 432x288 with 1 Axes>"
      ]
     },
     "metadata": {
      "needs_background": "light"
     },
     "output_type": "display_data"
    },
    {
     "data": {
      "image/png": "[encoded data removed]",
      "text/plain": [
       "<Figure size 432x288 with 1 Axes>"
      ]
     },
     "metadata": {
      "needs_background": "light"
     },
     "output_type": "display_data"
    }
   ],
   "source": [
    "plot_acf(mfp, lags = 30)\n",
    "plt.title('Autocorrelation of MFP data')\n",
    "plt.xlabel('lags')\n",
    "\n",
    "# transform series to create stationarity \n",
    "mfp_log_diff = (np.log(mfp) - np.log(mfp.shift(1))).dropna()\n",
    "\n",
    "plot_acf(mfp_log_diff, lags = 30)\n",
    "plt.title('Autocorrelation of log difference in MFP')\n",
    "plt.xlabel('lags')"
   ]
  },
  {
   "cell_type": "markdown",
   "id": "6d5ffeb7",
   "metadata": {},
   "source": [
    "## Fit AR(p) model"
   ]
  },
  {
   "cell_type": "code",
   "execution_count": 247,
   "id": "8bb8364d",
   "metadata": {},
   "outputs": [
    {
     "name": "stdout",
     "output_type": "stream",
     "text": [
      "best p for AR(p) =  2\n"
     ]
    },
    {
     "data": {
      "text/html": [
       "<table class=\"simpletable\">\n",
       "<caption>SARIMAX Results</caption>\n",
       "<tr>\n",
       "  <th>Dep. Variable:</th>           <td>y</td>        <th>  No. Observations:  </th>    <td>97</td>   \n",
       "</tr>\n",
       "<tr>\n",
       "  <th>Model:</th>            <td>ARIMA(2, 0, 0)</td>  <th>  Log Likelihood     </th>  <td>303.136</td>\n",
       "</tr>\n",
       "<tr>\n",
       "  <th>Date:</th>            <td>Sun, 19 Nov 2023</td> <th>  AIC                </th> <td>-598.272</td>\n",
       "</tr>\n",
       "<tr>\n",
       "  <th>Time:</th>                <td>18:06:52</td>     <th>  BIC                </th> <td>-587.973</td>\n",
       "</tr>\n",
       "<tr>\n",
       "  <th>Sample:</th>                  <td>0</td>        <th>  HQIC               </th> <td>-594.107</td>\n",
       "</tr>\n",
       "<tr>\n",
       "  <th></th>                       <td> - 97</td>      <th>                     </th>     <td> </td>   \n",
       "</tr>\n",
       "<tr>\n",
       "  <th>Covariance Type:</th>        <td>opg</td>       <th>                     </th>     <td> </td>   \n",
       "</tr>\n",
       "</table>\n",
       "<table class=\"simpletable\">\n",
       "<tr>\n",
       "     <td></td>       <th>coef</th>     <th>std err</th>      <th>z</th>      <th>P>|z|</th>  <th>[0.025</th>    <th>0.975]</th>  \n",
       "</tr>\n",
       "<tr>\n",
       "  <th>const</th>  <td>    0.0026</td> <td>    0.002</td> <td>    1.632</td> <td> 0.103</td> <td>   -0.001</td> <td>    0.006</td>\n",
       "</tr>\n",
       "<tr>\n",
       "  <th>ar.L1</th>  <td>    0.0992</td> <td>    0.119</td> <td>    0.830</td> <td> 0.406</td> <td>   -0.135</td> <td>    0.333</td>\n",
       "</tr>\n",
       "<tr>\n",
       "  <th>ar.L2</th>  <td>    0.1919</td> <td>    0.105</td> <td>    1.824</td> <td> 0.068</td> <td>   -0.014</td> <td>    0.398</td>\n",
       "</tr>\n",
       "<tr>\n",
       "  <th>sigma2</th> <td>    0.0001</td> <td> 1.73e-05</td> <td>    6.533</td> <td> 0.000</td> <td>  7.9e-05</td> <td>    0.000</td>\n",
       "</tr>\n",
       "</table>\n",
       "<table class=\"simpletable\">\n",
       "<tr>\n",
       "  <th>Ljung-Box (L1) (Q):</th>     <td>0.01</td> <th>  Jarque-Bera (JB):  </th> <td>1.50</td> \n",
       "</tr>\n",
       "<tr>\n",
       "  <th>Prob(Q):</th>                <td>0.92</td> <th>  Prob(JB):          </th> <td>0.47</td> \n",
       "</tr>\n",
       "<tr>\n",
       "  <th>Heteroskedasticity (H):</th> <td>1.19</td> <th>  Skew:              </th> <td>-0.30</td>\n",
       "</tr>\n",
       "<tr>\n",
       "  <th>Prob(H) (two-sided):</th>    <td>0.63</td> <th>  Kurtosis:          </th> <td>2.95</td> \n",
       "</tr>\n",
       "</table><br/><br/>Warnings:<br/>[1] Covariance matrix calculated using the outer product of gradients (complex-step)."
      ],
      "text/plain": [
       "<class 'statsmodels.iolib.summary.Summary'>\n",
       "\"\"\"\n",
       "                               SARIMAX Results                                \n",
       "==============================================================================\n",
       "Dep. Variable:                      y   No. Observations:                   97\n",
       "Model:                 ARIMA(2, 0, 0)   Log Likelihood                 303.136\n",
       "Date:                Sun, 19 Nov 2023   AIC                           -598.272\n",
       "Time:                        18:06:52   BIC                           -587.973\n",
       "Sample:                             0   HQIC                          -594.107\n",
       "                                 - 97                                         \n",
       "Covariance Type:                  opg                                         \n",
       "==============================================================================\n",
       "                 coef    std err          z      P>|z|      [0.025      0.975]\n",
       "------------------------------------------------------------------------------\n",
       "const          0.0026      0.002      1.632      0.103      -0.001       0.006\n",
       "ar.L1          0.0992      0.119      0.830      0.406      -0.135       0.333\n",
       "ar.L2          0.1919      0.105      1.824      0.068      -0.014       0.398\n",
       "sigma2         0.0001   1.73e-05      6.533      0.000     7.9e-05       0.000\n",
       "===================================================================================\n",
       "Ljung-Box (L1) (Q):                   0.01   Jarque-Bera (JB):                 1.50\n",
       "Prob(Q):                              0.92   Prob(JB):                         0.47\n",
       "Heteroskedasticity (H):               1.19   Skew:                            -0.30\n",
       "Prob(H) (two-sided):                  0.63   Kurtosis:                         2.95\n",
       "===================================================================================\n",
       "\n",
       "Warnings:\n",
       "[1] Covariance matrix calculated using the outer product of gradients (complex-step).\n",
       "\"\"\""
      ]
     },
     "execution_count": 247,
     "metadata": {},
     "output_type": "execute_result"
    }
   ],
   "source": [
    "from statsmodels.tsa.arima.model import ARIMA\n",
    "from statsmodels.tsa.stattools import arma_order_select_ic\n",
    "\n",
    "# find p for AR(p)\n",
    "best_p = arma_order_select_ic(mfp_log_diff.values, max_ar = 6, max_ma = 0, ic = ['aic', 'bic'])\n",
    "print('best p for AR(p) = ', best_p.aic_min_order[0])\n",
    "\n",
    "# run autoregressive model\n",
    "AR1 = ARIMA(mfp_log_diff.values, order = (best_p.aic_min_order[0],0,0)).fit()\n",
    "AR1.summary()"
   ]
  },
  {
   "cell_type": "markdown",
   "id": "a596b14a",
   "metadata": {},
   "source": [
    "## Check Residual Characteristics of our model"
   ]
  },
  {
   "cell_type": "code",
   "execution_count": 248,
   "id": "13714a12",
   "metadata": {},
   "outputs": [
    {
     "data": {
      "image/png": "[encoded data removed]",
      "text/plain": [
       "<Figure size 432x288 with 1 Axes>"
      ]
     },
     "metadata": {
      "needs_background": "light"
     },
     "output_type": "display_data"
    },
    {
     "data": {
      "image/png": "[encoded data removed]",
      "text/plain": [
       "<Figure size 432x288 with 1 Axes>"
      ]
     },
     "metadata": {
      "needs_background": "light"
     },
     "output_type": "display_data"
    },
    {
     "data": {
      "image/png": "[encoded data removed]",
      "text/plain": [
       "<Figure size 432x288 with 1 Axes>"
      ]
     },
     "metadata": {
      "needs_background": "light"
     },
     "output_type": "display_data"
    },
    {
     "data": {
      "image/png": "[encoded data removed]",
      "text/plain": [
       "<Figure size 432x288 with 1 Axes>"
      ]
     },
     "metadata": {
      "needs_background": "light"
     },
     "output_type": "display_data"
    }
   ],
   "source": [
    "#Returning to AR(1) fitted model and checking for Residual characteristics\n",
    "\n",
    "resid = AR1.resid #residuals\n",
    "# check if approximately normal \n",
    "plt.hist(resid, bins =40,color='m', density = True)\n",
    "plt.title('Distribution of Residuals')\n",
    "mu = resid.mean()\n",
    "sigma = resid.std()\n",
    "x = np.linspace(mu - 3*sigma, mu + 3*sigma, 2419)\n",
    "plt.plot(x, stats.norm.pdf(x, mu, sigma), linewidth= 5)\n",
    "plt.grid(); plt.show(); plt.title('Residuals')\n",
    "# plot residuals \n",
    "plt.plot(resid)\n",
    "plt.grid()\n",
    "#plot acf of residuals\n",
    "plot_acf(resid,lags=30,zero=False)\n",
    "plt.grid()\n",
    "# And not quite normal\n",
    "fig = sm.qqplot(resid, line='q')\n",
    "plt.title('Normal QQ plot', fontsize=15)\n",
    "plt.grid()"
   ]
  },
  {
   "cell_type": "code",
   "execution_count": 568,
   "id": "bcd77bc0",
   "metadata": {},
   "outputs": [
    {
     "data": {
      "image/png": "[encoded data removed]",
      "text/plain": [
       "<Figure size 432x288 with 1 Axes>"
      ]
     },
     "metadata": {
      "needs_background": "light"
     },
     "output_type": "display_data"
    },
    {
     "data": {
      "text/plain": [
       "1    0.976391\n",
       "2    0.141204\n",
       "3    0.268122\n",
       "4    0.354594\n",
       "5    0.179395\n",
       "6    0.262829\n",
       "7    0.270911\n",
       "Name: lb_pvalue, dtype: float64"
      ]
     },
     "execution_count": 568,
     "metadata": {},
     "output_type": "execute_result"
    }
   ],
   "source": [
    "# Check if autocorrelations of residuals is zero\n",
    "lags = math.floor(np.log(len(resid)))\n",
    "ljbox_test_res_AR1 = sm.stats.acorr_ljungbox(resid,lags)\n",
    "plt.plot(ljbox_test_res_AR1['lb_pvalue'])\n",
    "plt.axhline(y=0.05, color='r',ls='--')\n",
    "plt.title('LJ-box test on residuals')\n",
    "plt.grid(); plt.show()\n",
    "ljbox_test_res_AR1['lb_pvalue']"
   ]
  },
  {
   "cell_type": "code",
   "execution_count": 266,
   "id": "f8065ce6",
   "metadata": {},
   "outputs": [
    {
     "data": {
      "text/plain": [
       "Text(0.5, 1.0, 'Predicted log_diff for 2018-2019-2020')"
      ]
     },
     "execution_count": 266,
     "metadata": {},
     "output_type": "execute_result"
    },
    {
     "data": {
      "image/png": "[encoded data removed]",
      "text/plain": [
       "<Figure size 432x288 with 1 Axes>"
      ]
     },
     "metadata": {
      "needs_background": "light"
     },
     "output_type": "display_data"
    }
   ],
   "source": [
    "# predict changes over 2019 and 2020 (keep in mind this is COVID)\n",
    "Start = len(mfp)\n",
    "future_values = AR1.predict(start = Start, end = Start + 10)\n",
    "\n",
    "plt.plot(future_values)\n",
    "plt.xlabel('Quarters after 2018 Q2'); plt.ylabel('log difference of mfp')\n",
    "plt.title('Predicted log_diff for 2018-2019-2020')"
   ]
  },
  {
   "cell_type": "code",
   "execution_count": 323,
   "id": "40727caf",
   "metadata": {},
   "outputs": [],
   "source": [
    "predictions = AR1.predict(start = Start, end = Start + 10, dynamic=False)\n",
    "\n",
    "pred_prices = pd.DataFrame({'Time': ['2018 Q2', '2018 Q3', '2018 Q4', '2019 Q1','2019 Q2','2019 Q3','2019 Q4',\n",
    "                                    '2020 Q1','2020 Q2','2020 Q3','2020 Q4'],\n",
    "                   'MFP': np.zeros(11)})\n",
    "pred_prices = pred_prices.set_index('Time')\n",
    "\n",
    "pred_prices.loc['2018 Q2'] = mfp.loc['2018 Q2']\n",
    "\n",
    "for i in range(1, 11):\n",
    "    pred_prices.iloc[i] = math.exp(predictions[i]) * pred_prices.iloc[i-1]\n"
   ]
  },
  {
   "cell_type": "code",
   "execution_count": 570,
   "id": "6fdbde07",
   "metadata": {},
   "outputs": [
    {
     "data": {
      "image/png": "[encoded data removed]",
      "text/plain": [
       "<Figure size 432x288 with 1 Axes>"
      ]
     },
     "metadata": {
      "needs_background": "light"
     },
     "output_type": "display_data"
    }
   ],
   "source": [
    "plt.plot(mfp, label = 'true data')\n",
    "plt.plot(pred_prices, label = 'predicted')\n",
    "plt.xlabel('quarter'); plt.ylabel('mfp values')\n",
    "plt.legend(); plt.title('Growth 1997 - 2020')\n",
    "plt.show()"
   ]
  },
  {
   "cell_type": "markdown",
   "id": "503b500e",
   "metadata": {},
   "source": [
    "## Refit model over 1997 - 2007 and 2008 - 2018 and test differences"
   ]
  },
  {
   "cell_type": "markdown",
   "id": "9879f06c",
   "metadata": {},
   "source": [
    "By re-fitting your model over the periods 1997-2007 and 2008-2018, discuss\n",
    "what apparent changes have been seen in productivity growth following\n",
    "the 2008 financial crisis. Are these changes significant (both economically\n",
    "and statistically)? How does this change your predictions of productivity\n",
    "growth?"
   ]
  },
  {
   "cell_type": "code",
   "execution_count": 355,
   "id": "91e6eb55",
   "metadata": {},
   "outputs": [
    {
     "name": "stderr",
     "output_type": "stream",
     "text": [
      "/Users/jelmerbennema/anaconda3/lib/python3.9/site-packages/statsmodels/base/model.py:604: ConvergenceWarning: Maximum Likelihood optimization failed to converge. Check mle_retvals\n",
      "  warnings.warn(\"Maximum Likelihood optimization failed to \"\n"
     ]
    },
    {
     "data": {
      "text/html": [
       "<table class=\"simpletable\">\n",
       "<caption>SARIMAX Results</caption>\n",
       "<tr>\n",
       "  <th>Dep. Variable:</th>           <td>y</td>        <th>  No. Observations:  </th>    <td>44</td>   \n",
       "</tr>\n",
       "<tr>\n",
       "  <th>Model:</th>            <td>ARIMA(1, 0, 0)</td>  <th>  Log Likelihood     </th>  <td>140.986</td>\n",
       "</tr>\n",
       "<tr>\n",
       "  <th>Date:</th>            <td>Sun, 19 Nov 2023</td> <th>  AIC                </th> <td>-275.971</td>\n",
       "</tr>\n",
       "<tr>\n",
       "  <th>Time:</th>                <td>21:18:02</td>     <th>  BIC                </th> <td>-270.619</td>\n",
       "</tr>\n",
       "<tr>\n",
       "  <th>Sample:</th>                  <td>0</td>        <th>  HQIC               </th> <td>-273.986</td>\n",
       "</tr>\n",
       "<tr>\n",
       "  <th></th>                       <td> - 44</td>      <th>                     </th>     <td> </td>   \n",
       "</tr>\n",
       "<tr>\n",
       "  <th>Covariance Type:</th>        <td>opg</td>       <th>                     </th>     <td> </td>   \n",
       "</tr>\n",
       "</table>\n",
       "<table class=\"simpletable\">\n",
       "<tr>\n",
       "     <td></td>       <th>coef</th>     <th>std err</th>      <th>z</th>      <th>P>|z|</th>  <th>[0.025</th>    <th>0.975]</th>  \n",
       "</tr>\n",
       "<tr>\n",
       "  <th>const</th>  <td>    0.0060</td> <td>    0.001</td> <td>    4.415</td> <td> 0.000</td> <td>    0.003</td> <td>    0.009</td>\n",
       "</tr>\n",
       "<tr>\n",
       "  <th>ar.L1</th>  <td>   -0.1571</td> <td>    0.180</td> <td>   -0.873</td> <td> 0.382</td> <td>   -0.510</td> <td>    0.195</td>\n",
       "</tr>\n",
       "<tr>\n",
       "  <th>sigma2</th> <td>  9.63e-05</td> <td> 2.63e-05</td> <td>    3.667</td> <td> 0.000</td> <td> 4.48e-05</td> <td>    0.000</td>\n",
       "</tr>\n",
       "</table>\n",
       "<table class=\"simpletable\">\n",
       "<tr>\n",
       "  <th>Ljung-Box (L1) (Q):</th>     <td>0.04</td> <th>  Jarque-Bera (JB):  </th> <td>1.46</td> \n",
       "</tr>\n",
       "<tr>\n",
       "  <th>Prob(Q):</th>                <td>0.84</td> <th>  Prob(JB):          </th> <td>0.48</td> \n",
       "</tr>\n",
       "<tr>\n",
       "  <th>Heteroskedasticity (H):</th> <td>0.61</td> <th>  Skew:              </th> <td>-0.39</td>\n",
       "</tr>\n",
       "<tr>\n",
       "  <th>Prob(H) (two-sided):</th>    <td>0.34</td> <th>  Kurtosis:          </th> <td>2.58</td> \n",
       "</tr>\n",
       "</table><br/><br/>Warnings:<br/>[1] Covariance matrix calculated using the outer product of gradients (complex-step)."
      ],
      "text/plain": [
       "<class 'statsmodels.iolib.summary.Summary'>\n",
       "\"\"\"\n",
       "                               SARIMAX Results                                \n",
       "==============================================================================\n",
       "Dep. Variable:                      y   No. Observations:                   44\n",
       "Model:                 ARIMA(1, 0, 0)   Log Likelihood                 140.986\n",
       "Date:                Sun, 19 Nov 2023   AIC                           -275.971\n",
       "Time:                        21:18:02   BIC                           -270.619\n",
       "Sample:                             0   HQIC                          -273.986\n",
       "                                 - 44                                         \n",
       "Covariance Type:                  opg                                         \n",
       "==============================================================================\n",
       "                 coef    std err          z      P>|z|      [0.025      0.975]\n",
       "------------------------------------------------------------------------------\n",
       "const          0.0060      0.001      4.415      0.000       0.003       0.009\n",
       "ar.L1         -0.1571      0.180     -0.873      0.382      -0.510       0.195\n",
       "sigma2       9.63e-05   2.63e-05      3.667      0.000    4.48e-05       0.000\n",
       "===================================================================================\n",
       "Ljung-Box (L1) (Q):                   0.04   Jarque-Bera (JB):                 1.46\n",
       "Prob(Q):                              0.84   Prob(JB):                         0.48\n",
       "Heteroskedasticity (H):               0.61   Skew:                            -0.39\n",
       "Prob(H) (two-sided):                  0.34   Kurtosis:                         2.58\n",
       "===================================================================================\n",
       "\n",
       "Warnings:\n",
       "[1] Covariance matrix calculated using the outer product of gradients (complex-step).\n",
       "\"\"\""
      ]
     },
     "execution_count": 355,
     "metadata": {},
     "output_type": "execute_result"
    }
   ],
   "source": [
    "pre_crisis = mfp_log_diff.loc['1997 Q1':'2007 Q4']\n",
    "post_crisis = mfp_log_diff.loc['2008 Q1':'2018 Q2']\n",
    "\n",
    "# run autoregressive model\n",
    "pre_AR = ARIMA(pre_crisis.values, order = (1,0,0)).fit()\n",
    "post_AR = ARIMA(post_crisis.values, order = (1,0,0)).fit()\n",
    "pre_AR.summary()"
   ]
  },
  {
   "cell_type": "code",
   "execution_count": 356,
   "id": "97079801",
   "metadata": {},
   "outputs": [
    {
     "data": {
      "text/html": [
       "<table class=\"simpletable\">\n",
       "<caption>SARIMAX Results</caption>\n",
       "<tr>\n",
       "  <th>Dep. Variable:</th>           <td>y</td>        <th>  No. Observations:  </th>    <td>42</td>   \n",
       "</tr>\n",
       "<tr>\n",
       "  <th>Model:</th>            <td>ARIMA(1, 0, 0)</td>  <th>  Log Likelihood     </th>  <td>129.027</td>\n",
       "</tr>\n",
       "<tr>\n",
       "  <th>Date:</th>            <td>Sun, 19 Nov 2023</td> <th>  AIC                </th> <td>-252.054</td>\n",
       "</tr>\n",
       "<tr>\n",
       "  <th>Time:</th>                <td>21:18:31</td>     <th>  BIC                </th> <td>-246.841</td>\n",
       "</tr>\n",
       "<tr>\n",
       "  <th>Sample:</th>                  <td>0</td>        <th>  HQIC               </th> <td>-250.144</td>\n",
       "</tr>\n",
       "<tr>\n",
       "  <th></th>                       <td> - 42</td>      <th>                     </th>     <td> </td>   \n",
       "</tr>\n",
       "<tr>\n",
       "  <th>Covariance Type:</th>        <td>opg</td>       <th>                     </th>     <td> </td>   \n",
       "</tr>\n",
       "</table>\n",
       "<table class=\"simpletable\">\n",
       "<tr>\n",
       "     <td></td>       <th>coef</th>     <th>std err</th>      <th>z</th>      <th>P>|z|</th>  <th>[0.025</th>    <th>0.975]</th>  \n",
       "</tr>\n",
       "<tr>\n",
       "  <th>const</th>  <td>    0.0001</td> <td>    0.002</td> <td>    0.047</td> <td> 0.963</td> <td>   -0.004</td> <td>    0.005</td>\n",
       "</tr>\n",
       "<tr>\n",
       "  <th>ar.L1</th>  <td>    0.2414</td> <td>    0.189</td> <td>    1.277</td> <td> 0.201</td> <td>   -0.129</td> <td>    0.612</td>\n",
       "</tr>\n",
       "<tr>\n",
       "  <th>sigma2</th> <td>    0.0001</td> <td> 2.55e-05</td> <td>    4.908</td> <td> 0.000</td> <td> 7.53e-05</td> <td>    0.000</td>\n",
       "</tr>\n",
       "</table>\n",
       "<table class=\"simpletable\">\n",
       "<tr>\n",
       "  <th>Ljung-Box (L1) (Q):</th>     <td>0.00</td> <th>  Jarque-Bera (JB):  </th> <td>0.73</td> \n",
       "</tr>\n",
       "<tr>\n",
       "  <th>Prob(Q):</th>                <td>0.99</td> <th>  Prob(JB):          </th> <td>0.70</td> \n",
       "</tr>\n",
       "<tr>\n",
       "  <th>Heteroskedasticity (H):</th> <td>0.91</td> <th>  Skew:              </th> <td>-0.22</td>\n",
       "</tr>\n",
       "<tr>\n",
       "  <th>Prob(H) (two-sided):</th>    <td>0.86</td> <th>  Kurtosis:          </th> <td>3.46</td> \n",
       "</tr>\n",
       "</table><br/><br/>Warnings:<br/>[1] Covariance matrix calculated using the outer product of gradients (complex-step)."
      ],
      "text/plain": [
       "<class 'statsmodels.iolib.summary.Summary'>\n",
       "\"\"\"\n",
       "                               SARIMAX Results                                \n",
       "==============================================================================\n",
       "Dep. Variable:                      y   No. Observations:                   42\n",
       "Model:                 ARIMA(1, 0, 0)   Log Likelihood                 129.027\n",
       "Date:                Sun, 19 Nov 2023   AIC                           -252.054\n",
       "Time:                        21:18:31   BIC                           -246.841\n",
       "Sample:                             0   HQIC                          -250.144\n",
       "                                 - 42                                         \n",
       "Covariance Type:                  opg                                         \n",
       "==============================================================================\n",
       "                 coef    std err          z      P>|z|      [0.025      0.975]\n",
       "------------------------------------------------------------------------------\n",
       "const          0.0001      0.002      0.047      0.963      -0.004       0.005\n",
       "ar.L1          0.2414      0.189      1.277      0.201      -0.129       0.612\n",
       "sigma2         0.0001   2.55e-05      4.908      0.000    7.53e-05       0.000\n",
       "===================================================================================\n",
       "Ljung-Box (L1) (Q):                   0.00   Jarque-Bera (JB):                 0.73\n",
       "Prob(Q):                              0.99   Prob(JB):                         0.70\n",
       "Heteroskedasticity (H):               0.91   Skew:                            -0.22\n",
       "Prob(H) (two-sided):                  0.86   Kurtosis:                         3.46\n",
       "===================================================================================\n",
       "\n",
       "Warnings:\n",
       "[1] Covariance matrix calculated using the outer product of gradients (complex-step).\n",
       "\"\"\""
      ]
     },
     "execution_count": 356,
     "metadata": {},
     "output_type": "execute_result"
    }
   ],
   "source": [
    "post_AR.summary()"
   ]
  },
  {
   "cell_type": "markdown",
   "id": "c60eea56",
   "metadata": {},
   "source": [
    "### Check if changes are significant"
   ]
  },
  {
   "cell_type": "code",
   "execution_count": 378,
   "id": "182d41ab",
   "metadata": {},
   "outputs": [],
   "source": [
    "from scipy.stats import t\n",
    "\n",
    "s1 = pre_AR.cov_params()[1,1]; s2 = post_AR.cov_params()[1,1]\n",
    "d1 = len(pre_crisis) - 2; d2 = len(post_crisis) - 2\n",
    "\n",
    "t_value = (pre_AR.params[1] - post_AR.params[1]) / math.sqrt(s1 + s2)\n",
    "\n",
    "# Use Welch Satterhwaite approximation to find df\n",
    "degrees_of_freedom = (s1 + s2)**2 / (s1**2/d1 + s2**2/d2)"
   ]
  },
  {
   "cell_type": "code",
   "execution_count": 380,
   "id": "53b9e549",
   "metadata": {},
   "outputs": [
    {
     "data": {
      "text/plain": [
       "0.13054868371808692"
      ]
     },
     "execution_count": 380,
     "metadata": {},
     "output_type": "execute_result"
    }
   ],
   "source": [
    "# Calculate the p-value\n",
    "p_value = 2 * (1 - t.cdf(abs(t_value), df=degrees_of_freedom))\n",
    "p_value"
   ]
  },
  {
   "cell_type": "markdown",
   "id": "468bd370",
   "metadata": {},
   "source": [
    "# Question 3\n",
    "\n",
    " Using pandas_datareader, get daily volume traded data from GOOG for\n",
    "the period ‘2012-01-04’- ‘2019-11-04’. Verify for the presence of unit roots\n",
    "and proceed to address them. Testing for stationarity, choose the appropriate ARMA model, providing appropriate model diagnostics"
   ]
  },
  {
   "cell_type": "code",
   "execution_count": 387,
   "id": "d94f117f",
   "metadata": {},
   "outputs": [
    {
     "name": "stdout",
     "output_type": "stream",
     "text": [
      "[*********************100%%**********************]  1 of 1 completed\n"
     ]
    },
    {
     "data": {
      "text/plain": [
       "Date\n",
       "2012-01-04    114989399\n",
       "2012-01-05    131808205\n",
       "2012-01-06    108119746\n",
       "2012-01-09    233776981\n",
       "2012-01-10    176483032\n",
       "Name: Volume, dtype: int64"
      ]
     },
     "execution_count": 387,
     "metadata": {},
     "output_type": "execute_result"
    }
   ],
   "source": [
    "tickers = ['GOOG']\n",
    "GOOG_volume = yf.download(tickers, start = '2012-01-04', end='2019-11-04')['Volume'].dropna()\n",
    "GOOG_volume.head()"
   ]
  },
  {
   "cell_type": "code",
   "execution_count": 395,
   "id": "eea14bef",
   "metadata": {},
   "outputs": [
    {
     "data": {
      "text/plain": [
       "Text(0.5, 1.0, 'GOOG daily traded volume')"
      ]
     },
     "execution_count": 395,
     "metadata": {},
     "output_type": "execute_result"
    },
    {
     "data": {
      "image/png": "[encoded data removed]",
      "text/plain": [
       "<Figure size 432x288 with 1 Axes>"
      ]
     },
     "metadata": {
      "needs_background": "light"
     },
     "output_type": "display_data"
    }
   ],
   "source": [
    "plt.plot(GOOG_volume)\n",
    "plt.title('GOOG daily traded volume')"
   ]
  },
  {
   "cell_type": "code",
   "execution_count": 391,
   "id": "1fbe43aa",
   "metadata": {},
   "outputs": [
    {
     "name": "stdout",
     "output_type": "stream",
     "text": [
      "ADF Statistic: -3.290086\n",
      "p-value: 0.015328\n",
      "Critical Values:\n",
      "\t1%: -3.43\n",
      "\t5%: -2.86\n",
      "\t10%: -2.57\n"
     ]
    }
   ],
   "source": [
    "# verify presence of unit roots\n",
    "from statsmodels.tsa.stattools import adfuller\n",
    "from statsmodels.tsa.stattools import kpss\n",
    "\n",
    "test = adfuller(GOOG_volume)\n",
    "print('ADF Statistic: %f' % test[0])\n",
    "print('p-value: %f' % test[1])\n",
    "print('Critical Values:')\n",
    "for item, value in test[4].items():\n",
    "    print('\\t%s: %.2f' % (item, value))"
   ]
  },
  {
   "cell_type": "code",
   "execution_count": 393,
   "id": "1e7cae97",
   "metadata": {},
   "outputs": [
    {
     "name": "stdout",
     "output_type": "stream",
     "text": [
      "KPSS Statistic: 5.284009\n",
      "p-value: 0.010000\n",
      "Critical Values:\n",
      "\t10%: 0.35\n",
      "\t5%: 0.46\n",
      "\t2.5%: 0.57\n",
      "\t1%: 0.74\n"
     ]
    },
    {
     "name": "stderr",
     "output_type": "stream",
     "text": [
      "/Users/jelmerbennema/anaconda3/lib/python3.9/site-packages/statsmodels/tsa/stattools.py:2018: InterpolationWarning: The test statistic is outside of the range of p-values available in the\n",
      "look-up table. The actual p-value is smaller than the p-value returned.\n",
      "\n",
      "  warnings.warn(\n"
     ]
    }
   ],
   "source": [
    "# Test stationarity:\n",
    "\n",
    "test = kpss(GOOG_volume)\n",
    "print('KPSS Statistic: %f' % test[0])\n",
    "print('p-value: %f' % test[1])\n",
    "print('Critical Values:')\n",
    "for item, value in test[3].items():\n",
    "    print('\\t%s: %.2f' % (item, value))"
   ]
  },
  {
   "cell_type": "markdown",
   "id": "67aa05da",
   "metadata": {},
   "source": [
    "passes some of these tests but data is heteroskedastic... so have to fix that. "
   ]
  },
  {
   "cell_type": "code",
   "execution_count": 405,
   "id": "ad8333b6",
   "metadata": {},
   "outputs": [
    {
     "data": {
      "text/plain": [
       "[<matplotlib.lines.Line2D at 0x176db8d60>]"
      ]
     },
     "execution_count": 405,
     "metadata": {},
     "output_type": "execute_result"
    },
    {
     "data": {
      "image/png": "[encoded data removed]",
      "text/plain": [
       "<Figure size 432x288 with 1 Axes>"
      ]
     },
     "metadata": {
      "needs_background": "light"
     },
     "output_type": "display_data"
    }
   ],
   "source": [
    "# Try log differencing data to make stationary\n",
    "GOOG_volume_ld = (np.log(GOOG_volume) / np.log(GOOG_volume.shift(1))).dropna()\n",
    "plt.plot(GOOG_volume_ld)"
   ]
  },
  {
   "cell_type": "code",
   "execution_count": 413,
   "id": "c5434db2",
   "metadata": {},
   "outputs": [
    {
     "data": {
      "text/plain": [
       "Text(0.5, 1.0, 'Autocorrelation of log difference GOOG volume')"
      ]
     },
     "execution_count": 413,
     "metadata": {},
     "output_type": "execute_result"
    },
    {
     "data": {
      "image/png": "[encoded data removed]",
      "text/plain": [
       "<Figure size 432x288 with 1 Axes>"
      ]
     },
     "metadata": {
      "needs_background": "light"
     },
     "output_type": "display_data"
    },
    {
     "data": {
      "image/png": "[encoded data removed]",
      "text/plain": [
       "<Figure size 432x288 with 1 Axes>"
      ]
     },
     "metadata": {
      "needs_background": "light"
     },
     "output_type": "display_data"
    }
   ],
   "source": [
    "plot_acf(GOOG_volume, lags = 30)\n",
    "plt.title('Autocorrelation of GOOG volume')\n",
    "\n",
    "plot_acf(GOOG_volume_ld, lags = 30)\n",
    "plt.title('Autocorrelation of log difference GOOG volume')"
   ]
  },
  {
   "cell_type": "code",
   "execution_count": 406,
   "id": "9725fbf6",
   "metadata": {},
   "outputs": [
    {
     "name": "stdout",
     "output_type": "stream",
     "text": [
      "ADF Statistic: -14.183259\n",
      "p-value: 0.000000\n",
      "Critical Values:\n",
      "\t1%: -3.43\n",
      "\t5%: -2.86\n",
      "\t10%: -2.57\n"
     ]
    }
   ],
   "source": [
    "# Run adfuller test again: log difference of data set is stationary\n",
    "test = adfuller(GOOG_volume_ld)\n",
    "print('ADF Statistic: %f' % test[0])\n",
    "print('p-value: %f' % test[1])\n",
    "print('Critical Values:')\n",
    "for item, value in test[4].items():\n",
    "    print('\\t%s: %.2f' % (item, value))"
   ]
  },
  {
   "cell_type": "code",
   "execution_count": 410,
   "id": "9cd9fe27",
   "metadata": {},
   "outputs": [
    {
     "name": "stdout",
     "output_type": "stream",
     "text": [
      "best p for ARMA(p, q) =  1\n"
     ]
    },
    {
     "data": {
      "text/html": [
       "<table class=\"simpletable\">\n",
       "<caption>SARIMAX Results</caption>\n",
       "<tr>\n",
       "  <th>Dep. Variable:</th>           <td>y</td>        <th>  No. Observations:  </th>   <td>1970</td>   \n",
       "</tr>\n",
       "<tr>\n",
       "  <th>Model:</th>            <td>ARIMA(1, 1, 6)</td>  <th>  Log Likelihood     </th> <td>4824.466</td> \n",
       "</tr>\n",
       "<tr>\n",
       "  <th>Date:</th>            <td>Sun, 19 Nov 2023</td> <th>  AIC                </th> <td>-9632.933</td>\n",
       "</tr>\n",
       "<tr>\n",
       "  <th>Time:</th>                <td>22:18:52</td>     <th>  BIC                </th> <td>-9588.251</td>\n",
       "</tr>\n",
       "<tr>\n",
       "  <th>Sample:</th>                  <td>0</td>        <th>  HQIC               </th> <td>-9616.514</td>\n",
       "</tr>\n",
       "<tr>\n",
       "  <th></th>                      <td> - 1970</td>     <th>                     </th>     <td> </td>    \n",
       "</tr>\n",
       "<tr>\n",
       "  <th>Covariance Type:</th>        <td>opg</td>       <th>                     </th>     <td> </td>    \n",
       "</tr>\n",
       "</table>\n",
       "<table class=\"simpletable\">\n",
       "<tr>\n",
       "     <td></td>       <th>coef</th>     <th>std err</th>      <th>z</th>      <th>P>|z|</th>  <th>[0.025</th>    <th>0.975]</th>  \n",
       "</tr>\n",
       "<tr>\n",
       "  <th>ar.L1</th>  <td>   -0.9876</td> <td>    0.008</td> <td> -128.225</td> <td> 0.000</td> <td>   -1.003</td> <td>   -0.972</td>\n",
       "</tr>\n",
       "<tr>\n",
       "  <th>ma.L1</th>  <td>   -0.3590</td> <td>    0.015</td> <td>  -24.102</td> <td> 0.000</td> <td>   -0.388</td> <td>   -0.330</td>\n",
       "</tr>\n",
       "<tr>\n",
       "  <th>ma.L2</th>  <td>   -1.2047</td> <td>    0.014</td> <td>  -88.245</td> <td> 0.000</td> <td>   -1.231</td> <td>   -1.178</td>\n",
       "</tr>\n",
       "<tr>\n",
       "  <th>ma.L3</th>  <td>    0.2531</td> <td>    0.019</td> <td>   13.633</td> <td> 0.000</td> <td>    0.217</td> <td>    0.290</td>\n",
       "</tr>\n",
       "<tr>\n",
       "  <th>ma.L4</th>  <td>    0.0107</td> <td>    0.016</td> <td>    0.656</td> <td> 0.512</td> <td>   -0.021</td> <td>    0.042</td>\n",
       "</tr>\n",
       "<tr>\n",
       "  <th>ma.L5</th>  <td>    0.1000</td> <td>    0.012</td> <td>    8.568</td> <td> 0.000</td> <td>    0.077</td> <td>    0.123</td>\n",
       "</tr>\n",
       "<tr>\n",
       "  <th>ma.L6</th>  <td>    0.2003</td> <td>    0.014</td> <td>   14.537</td> <td> 0.000</td> <td>    0.173</td> <td>    0.227</td>\n",
       "</tr>\n",
       "<tr>\n",
       "  <th>sigma2</th> <td>    0.0004</td> <td> 4.03e-06</td> <td>  104.801</td> <td> 0.000</td> <td>    0.000</td> <td>    0.000</td>\n",
       "</tr>\n",
       "</table>\n",
       "<table class=\"simpletable\">\n",
       "<tr>\n",
       "  <th>Ljung-Box (L1) (Q):</th>     <td>0.80</td> <th>  Jarque-Bera (JB):  </th> <td>113708.25</td>\n",
       "</tr>\n",
       "<tr>\n",
       "  <th>Prob(Q):</th>                <td>0.37</td> <th>  Prob(JB):          </th>   <td>0.00</td>   \n",
       "</tr>\n",
       "<tr>\n",
       "  <th>Heteroskedasticity (H):</th> <td>0.46</td> <th>  Skew:              </th>   <td>-0.93</td>  \n",
       "</tr>\n",
       "<tr>\n",
       "  <th>Prob(H) (two-sided):</th>    <td>0.00</td> <th>  Kurtosis:          </th>   <td>40.18</td>  \n",
       "</tr>\n",
       "</table><br/><br/>Warnings:<br/>[1] Covariance matrix calculated using the outer product of gradients (complex-step)."
      ],
      "text/plain": [
       "<class 'statsmodels.iolib.summary.Summary'>\n",
       "\"\"\"\n",
       "                               SARIMAX Results                                \n",
       "==============================================================================\n",
       "Dep. Variable:                      y   No. Observations:                 1970\n",
       "Model:                 ARIMA(1, 1, 6)   Log Likelihood                4824.466\n",
       "Date:                Sun, 19 Nov 2023   AIC                          -9632.933\n",
       "Time:                        22:18:52   BIC                          -9588.251\n",
       "Sample:                             0   HQIC                         -9616.514\n",
       "                               - 1970                                         \n",
       "Covariance Type:                  opg                                         \n",
       "==============================================================================\n",
       "                 coef    std err          z      P>|z|      [0.025      0.975]\n",
       "------------------------------------------------------------------------------\n",
       "ar.L1         -0.9876      0.008   -128.225      0.000      -1.003      -0.972\n",
       "ma.L1         -0.3590      0.015    -24.102      0.000      -0.388      -0.330\n",
       "ma.L2         -1.2047      0.014    -88.245      0.000      -1.231      -1.178\n",
       "ma.L3          0.2531      0.019     13.633      0.000       0.217       0.290\n",
       "ma.L4          0.0107      0.016      0.656      0.512      -0.021       0.042\n",
       "ma.L5          0.1000      0.012      8.568      0.000       0.077       0.123\n",
       "ma.L6          0.2003      0.014     14.537      0.000       0.173       0.227\n",
       "sigma2         0.0004   4.03e-06    104.801      0.000       0.000       0.000\n",
       "===================================================================================\n",
       "Ljung-Box (L1) (Q):                   0.80   Jarque-Bera (JB):            113708.25\n",
       "Prob(Q):                              0.37   Prob(JB):                         0.00\n",
       "Heteroskedasticity (H):               0.46   Skew:                            -0.93\n",
       "Prob(H) (two-sided):                  0.00   Kurtosis:                        40.18\n",
       "===================================================================================\n",
       "\n",
       "Warnings:\n",
       "[1] Covariance matrix calculated using the outer product of gradients (complex-step).\n",
       "\"\"\""
      ]
     },
     "execution_count": 410,
     "metadata": {},
     "output_type": "execute_result"
    }
   ],
   "source": [
    "# find p for AR(p)\n",
    "best_p = arma_order_select_ic(GOOG_volume_ld.values, max_ar = 6, max_ma = 6, ic = ['aic', 'bic'])\n",
    "print('best p for ARMA(p, q) = ', best_p.aic_min_order[0])\n",
    "\n",
    "# run autoregressive model\n",
    "GOOG_ARMA = ARIMA(GOOG_volume_ld.values, order = (best_p.aic_min_order[0],0,best_p.aic_min_order[1])).fit()\n",
    "GOOG_ARMA.summary()"
   ]
  },
  {
   "cell_type": "markdown",
   "id": "2fdfa5ce",
   "metadata": {},
   "source": [
    "## Check residual characteristics of our model"
   ]
  },
  {
   "cell_type": "code",
   "execution_count": 415,
   "id": "9e4ac008",
   "metadata": {},
   "outputs": [
    {
     "data": {
      "image/png": "[encoded data removed]",
      "text/plain": [
       "<Figure size 432x288 with 1 Axes>"
      ]
     },
     "metadata": {
      "needs_background": "light"
     },
     "output_type": "display_data"
    },
    {
     "data": {
      "image/png": "[encoded data removed]",
      "text/plain": [
       "<Figure size 432x288 with 1 Axes>"
      ]
     },
     "metadata": {
      "needs_background": "light"
     },
     "output_type": "display_data"
    },
    {
     "data": {
      "image/png": "[encoded data removed]",
      "text/plain": [
       "<Figure size 432x288 with 1 Axes>"
      ]
     },
     "metadata": {
      "needs_background": "light"
     },
     "output_type": "display_data"
    },
    {
     "data": {
      "image/png": "[encoded data removed]",
      "text/plain": [
       "<Figure size 432x288 with 1 Axes>"
      ]
     },
     "metadata": {
      "needs_background": "light"
     },
     "output_type": "display_data"
    }
   ],
   "source": [
    "#Returning to ARMA model and checking for Residual characteristics\n",
    "\n",
    "resid = GOOG_ARMA.resid #residuals\n",
    "# check if approximately normal \n",
    "plt.hist(resid, bins =40,color='m', density = True)\n",
    "plt.title('Distribution of Residuals')\n",
    "mu = resid.mean()\n",
    "sigma = resid.std()\n",
    "x = np.linspace(mu - 3*sigma, mu + 3*sigma, 2419)\n",
    "plt.plot(x, stats.norm.pdf(x, mu, sigma), linewidth= 5)\n",
    "plt.grid(); plt.show(); plt.title('Residuals')\n",
    "# plot residuals \n",
    "plt.plot(resid)\n",
    "plt.grid()\n",
    "#plot acf of residuals\n",
    "plot_acf(resid,lags=30,zero=False)\n",
    "plt.grid()\n",
    "# And not quite normal\n",
    "fig = sm.qqplot(resid, line='q')\n",
    "plt.title('Normal QQ plot', fontsize=15)\n",
    "plt.grid()"
   ]
  },
  {
   "cell_type": "code",
   "execution_count": null,
   "id": "74aa3197",
   "metadata": {},
   "outputs": [],
   "source": []
  }
 ],
 "metadata": {
  "kernelspec": {
   "display_name": "Python 3 (ipykernel)",
   "language": "python",
   "name": "python3"
  },
  "language_info": {
   "codemirror_mode": {
    "name": "ipython",
    "version": 3
   },
   "file_extension": ".py",
   "mimetype": "text/x-python",
   "name": "python",
   "nbconvert_exporter": "python",
   "pygments_lexer": "ipython3",
   "version": "3.9.12"
  },
  "latex_envs": {
   "LaTeX_envs_menu_present": true,
   "autoclose": false,
   "autocomplete": true,
   "bibliofile": "biblio.bib",
   "cite_by": "apalike",
   "current_citInitial": 1,
   "eqLabelWithNumbers": true,
   "eqNumInitial": 1,
   "hotkeys": {
    "equation": "Ctrl-E",
    "itemize": "Ctrl-I"
   },
   "labels_anchors": false,
   "latex_user_defs": false,
   "report_style_numbering": false,
   "user_envs_cfg": false
  },
  "toc": {
   "base_numbering": 1,
   "nav_menu": {},
   "number_sections": true,
   "sideBar": true,
   "skip_h1_title": false,
   "title_cell": "Table of Contents",
   "title_sidebar": "Contents",
   "toc_cell": false,
   "toc_position": {},
   "toc_section_display": true,
   "toc_window_display": false
  }
 },
 "nbformat": 4,
 "nbformat_minor": 5
}
