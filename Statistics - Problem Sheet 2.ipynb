{
 "cells": [
  {
   "cell_type": "markdown",
   "id": "7d0d8973",
   "metadata": {},
   "source": [
    " Problem Sheet 2, Jelmer Bennema, Oct 31st 2023"
   ]
  },
  {
   "cell_type": "code",
   "execution_count": 1,
   "id": "268090b0",
   "metadata": {},
   "outputs": [
    {
     "data": {
      "text/plain": [
       "'en_US.UTF-8'"
      ]
     },
     "execution_count": 1,
     "metadata": {},
     "output_type": "execute_result"
    }
   ],
   "source": [
    "import numpy as np\n",
    "import pandas as pd\n",
    "import matplotlib.pyplot as plt \n",
    "import statsmodels.api as sm\n",
    "from sklearn.model_selection import train_test_split\n",
    "from sklearn.preprocessing import PolynomialFeatures\n",
    "from patsy import dmatrix\n",
    "from sklearn.metrics import mean_squared_error\n",
    "from sklearn.preprocessing import SplineTransformer\n",
    "\n",
    "# country zone for data -> numeric \n",
    "import locale\n",
    "locale.setlocale(locale.LC_ALL, 'en_US.UTF-8')"
   ]
  },
  {
   "cell_type": "markdown",
   "id": "85a43eec",
   "metadata": {},
   "source": [
    "# Q1: Data Report"
   ]
  },
  {
   "cell_type": "code",
   "execution_count": 2,
   "id": "8df3dcf9",
   "metadata": {},
   "outputs": [],
   "source": [
    "# Download data \n",
    "IR = pd.read_csv('data/IR.csv')\n",
    "Repossession = pd.read_csv('data/repossession.csv')\n",
    "Unemployment = pd.read_csv('data/unemployment.csv').rename(columns = {'Rate':'unemployment rate'})"
   ]
  },
  {
   "cell_type": "code",
   "execution_count": 3,
   "id": "4ed8784e",
   "metadata": {},
   "outputs": [],
   "source": [
    "# transform index to datetime object for all three dataframes \n",
    "IR['date time'] = pd.to_datetime(IR['DATE']).dt.year\n",
    "IR.drop(columns = ['DATE'], inplace = True)\n",
    "IR.set_index('date time', inplace = True, drop = True)\n",
    "\n",
    "Repossession['datetime1'] = pd.to_datetime(Repossession['year'], format = '%Y').dt.year\n",
    "Repossession.drop(columns = ['year'], inplace = True)\n",
    "Repossession.set_index('datetime1', inplace = True, drop = True)\n",
    "\n",
    "#Replace object values with floats\n",
    "for i in range(0, len(Repossession)):\n",
    "        Repossession['num_mortage'].iloc[i] = locale.atoi(Repossession['num_mortage'].iloc[i])\n",
    "        Repossession['num_possession'].iloc[i] = locale.atoi(Repossession['num_possession'].iloc[i])\n",
    "        \n",
    "Repossession['num_possession'] = Repossession['num_possession'].astype('float')\n",
    "Repossession['num_mortage'] = Repossession['num_mortage'].astype('float')\n",
    "\n",
    "Unemployment.set_index('Year', inplace = True, drop = True)"
   ]
  },
  {
   "cell_type": "code",
   "execution_count": 4,
   "id": "a17ca077",
   "metadata": {},
   "outputs": [
    {
     "data": {
      "text/html": [
       "<div>\n",
       "<style scoped>\n",
       "    .dataframe tbody tr th:only-of-type {\n",
       "        vertical-align: middle;\n",
       "    }\n",
       "\n",
       "    .dataframe tbody tr th {\n",
       "        vertical-align: top;\n",
       "    }\n",
       "\n",
       "    .dataframe thead th {\n",
       "        text-align: right;\n",
       "    }\n",
       "</style>\n",
       "<table border=\"1\" class=\"dataframe\">\n",
       "  <thead>\n",
       "    <tr style=\"text-align: right;\">\n",
       "      <th></th>\n",
       "      <th>RATE</th>\n",
       "      <th>num_mortage</th>\n",
       "      <th>num_possession</th>\n",
       "      <th>unemployment rate</th>\n",
       "    </tr>\n",
       "  </thead>\n",
       "  <tbody>\n",
       "    <tr>\n",
       "      <th>1975</th>\n",
       "      <td>11.0000</td>\n",
       "      <td>5076000.0</td>\n",
       "      <td>4870.0</td>\n",
       "      <td>4.5</td>\n",
       "    </tr>\n",
       "    <tr>\n",
       "      <th>1976</th>\n",
       "      <td>11.1137</td>\n",
       "      <td>5322000.0</td>\n",
       "      <td>4950.0</td>\n",
       "      <td>5.4</td>\n",
       "    </tr>\n",
       "    <tr>\n",
       "      <th>1977</th>\n",
       "      <td>8.8772</td>\n",
       "      <td>5582000.0</td>\n",
       "      <td>4680.0</td>\n",
       "      <td>5.6</td>\n",
       "    </tr>\n",
       "  </tbody>\n",
       "</table>\n",
       "</div>"
      ],
      "text/plain": [
       "         RATE  num_mortage  num_possession  unemployment rate\n",
       "1975  11.0000    5076000.0          4870.0                4.5\n",
       "1976  11.1137    5322000.0          4950.0                5.4\n",
       "1977   8.8772    5582000.0          4680.0                5.6"
      ]
     },
     "execution_count": 4,
     "metadata": {},
     "output_type": "execute_result"
    }
   ],
   "source": [
    "# merge dataframes\n",
    "df = pd.concat([IR, Repossession, Unemployment], axis = 1, join = 'inner')\n",
    "df.head(3)"
   ]
  },
  {
   "cell_type": "code",
   "execution_count": 5,
   "id": "80725c8f",
   "metadata": {},
   "outputs": [
    {
     "data": {
      "text/html": [
       "<div>\n",
       "<style scoped>\n",
       "    .dataframe tbody tr th:only-of-type {\n",
       "        vertical-align: middle;\n",
       "    }\n",
       "\n",
       "    .dataframe tbody tr th {\n",
       "        vertical-align: top;\n",
       "    }\n",
       "\n",
       "    .dataframe thead th {\n",
       "        text-align: right;\n",
       "    }\n",
       "</style>\n",
       "<table border=\"1\" class=\"dataframe\">\n",
       "  <thead>\n",
       "    <tr style=\"text-align: right;\">\n",
       "      <th></th>\n",
       "      <th>RATE</th>\n",
       "      <th>num_mortage</th>\n",
       "      <th>num_possession</th>\n",
       "      <th>unemployment rate</th>\n",
       "    </tr>\n",
       "  </thead>\n",
       "  <tbody>\n",
       "    <tr>\n",
       "      <th>2011</th>\n",
       "      <td>0.5</td>\n",
       "      <td>11384000.0</td>\n",
       "      <td>37300.0</td>\n",
       "      <td>8.1</td>\n",
       "    </tr>\n",
       "    <tr>\n",
       "      <th>2012</th>\n",
       "      <td>0.5</td>\n",
       "      <td>11284000.0</td>\n",
       "      <td>33900.0</td>\n",
       "      <td>8.0</td>\n",
       "    </tr>\n",
       "    <tr>\n",
       "      <th>2013</th>\n",
       "      <td>0.5</td>\n",
       "      <td>11186000.0</td>\n",
       "      <td>28900.0</td>\n",
       "      <td>7.6</td>\n",
       "    </tr>\n",
       "  </tbody>\n",
       "</table>\n",
       "</div>"
      ],
      "text/plain": [
       "      RATE  num_mortage  num_possession  unemployment rate\n",
       "2011   0.5   11384000.0         37300.0                8.1\n",
       "2012   0.5   11284000.0         33900.0                8.0\n",
       "2013   0.5   11186000.0         28900.0                7.6"
      ]
     },
     "execution_count": 5,
     "metadata": {},
     "output_type": "execute_result"
    }
   ],
   "source": [
    "df.tail(3)"
   ]
  },
  {
   "cell_type": "code",
   "execution_count": 6,
   "id": "4c6132fd",
   "metadata": {},
   "outputs": [
    {
     "data": {
      "text/plain": [
       "RATE                 float64\n",
       "num_mortage          float64\n",
       "num_possession       float64\n",
       "unemployment rate    float64\n",
       "dtype: object"
      ]
     },
     "execution_count": 6,
     "metadata": {},
     "output_type": "execute_result"
    }
   ],
   "source": [
    "df.dtypes"
   ]
  },
  {
   "cell_type": "markdown",
   "id": "36681be4",
   "metadata": {},
   "source": [
    "## Analyze Data"
   ]
  },
  {
   "cell_type": "code",
   "execution_count": 7,
   "id": "88d941c6",
   "metadata": {},
   "outputs": [
    {
     "data": {
      "text/plain": [
       "RATE                 0\n",
       "num_mortage          0\n",
       "num_possession       0\n",
       "unemployment rate    0\n",
       "dtype: int64"
      ]
     },
     "execution_count": 7,
     "metadata": {},
     "output_type": "execute_result"
    }
   ],
   "source": [
    "df.isna().sum()  #Checking for null values"
   ]
  },
  {
   "cell_type": "code",
   "execution_count": 8,
   "id": "23e1139d",
   "metadata": {},
   "outputs": [
    {
     "data": {
      "text/html": [
       "<div>\n",
       "<style scoped>\n",
       "    .dataframe tbody tr th:only-of-type {\n",
       "        vertical-align: middle;\n",
       "    }\n",
       "\n",
       "    .dataframe tbody tr th {\n",
       "        vertical-align: top;\n",
       "    }\n",
       "\n",
       "    .dataframe thead th {\n",
       "        text-align: right;\n",
       "    }\n",
       "</style>\n",
       "<table border=\"1\" class=\"dataframe\">\n",
       "  <thead>\n",
       "    <tr style=\"text-align: right;\">\n",
       "      <th></th>\n",
       "      <th>RATE</th>\n",
       "      <th>num_mortage</th>\n",
       "      <th>num_possession</th>\n",
       "      <th>unemployment rate</th>\n",
       "    </tr>\n",
       "  </thead>\n",
       "  <tbody>\n",
       "    <tr>\n",
       "      <th>count</th>\n",
       "      <td>39.000000</td>\n",
       "      <td>3.900000e+01</td>\n",
       "      <td>39.000000</td>\n",
       "      <td>39.000000</td>\n",
       "    </tr>\n",
       "    <tr>\n",
       "      <th>mean</th>\n",
       "      <td>7.593882</td>\n",
       "      <td>9.399205e+06</td>\n",
       "      <td>25763.846154</td>\n",
       "      <td>7.517949</td>\n",
       "    </tr>\n",
       "    <tr>\n",
       "      <th>std</th>\n",
       "      <td>4.290191</td>\n",
       "      <td>2.227783e+06</td>\n",
       "      <td>18939.563939</td>\n",
       "      <td>2.236877</td>\n",
       "    </tr>\n",
       "    <tr>\n",
       "      <th>min</th>\n",
       "      <td>0.500000</td>\n",
       "      <td>5.076000e+06</td>\n",
       "      <td>2910.000000</td>\n",
       "      <td>4.500000</td>\n",
       "    </tr>\n",
       "    <tr>\n",
       "      <th>25%</th>\n",
       "      <td>4.664450</td>\n",
       "      <td>7.515000e+06</td>\n",
       "      <td>8450.000000</td>\n",
       "      <td>5.400000</td>\n",
       "    </tr>\n",
       "    <tr>\n",
       "      <th>50%</th>\n",
       "      <td>6.694900</td>\n",
       "      <td>1.041000e+07</td>\n",
       "      <td>22900.000000</td>\n",
       "      <td>7.200000</td>\n",
       "    </tr>\n",
       "    <tr>\n",
       "      <th>75%</th>\n",
       "      <td>10.941450</td>\n",
       "      <td>1.129350e+07</td>\n",
       "      <td>37900.000000</td>\n",
       "      <td>9.200000</td>\n",
       "    </tr>\n",
       "    <tr>\n",
       "      <th>max</th>\n",
       "      <td>16.309100</td>\n",
       "      <td>1.185200e+07</td>\n",
       "      <td>75500.000000</td>\n",
       "      <td>11.800000</td>\n",
       "    </tr>\n",
       "  </tbody>\n",
       "</table>\n",
       "</div>"
      ],
      "text/plain": [
       "            RATE   num_mortage  num_possession  unemployment rate\n",
       "count  39.000000  3.900000e+01       39.000000          39.000000\n",
       "mean    7.593882  9.399205e+06    25763.846154           7.517949\n",
       "std     4.290191  2.227783e+06    18939.563939           2.236877\n",
       "min     0.500000  5.076000e+06     2910.000000           4.500000\n",
       "25%     4.664450  7.515000e+06     8450.000000           5.400000\n",
       "50%     6.694900  1.041000e+07    22900.000000           7.200000\n",
       "75%    10.941450  1.129350e+07    37900.000000           9.200000\n",
       "max    16.309100  1.185200e+07    75500.000000          11.800000"
      ]
     },
     "execution_count": 8,
     "metadata": {},
     "output_type": "execute_result"
    }
   ],
   "source": [
    "df.describe(include = 'all')"
   ]
  },
  {
   "cell_type": "code",
   "execution_count": 9,
   "id": "83e25b4d",
   "metadata": {},
   "outputs": [
    {
     "data": {
      "image/png": "[encoded data removed]",
      "text/plain": [
       "<Figure size 432x288 with 4 Axes>"
      ]
     },
     "metadata": {
      "needs_background": "light"
     },
     "output_type": "display_data"
    }
   ],
   "source": [
    "plt.subplot(2, 2, 1)\n",
    "plt.boxplot(df['RATE'])\n",
    "plt.title('Interest Rates')\n",
    "\n",
    "plt.subplot(2, 2, 2)\n",
    "plt.boxplot(df['num_mortage'])\n",
    "plt.title('mortage')\n",
    "\n",
    "plt.subplot(2, 2, 3)\n",
    "plt.boxplot(df['num_possession'])\n",
    "plt.title('possession')\n",
    "\n",
    "plt.subplot(2, 2, 4)\n",
    "plt.boxplot(df['unemployment rate'])\n",
    "plt.title('unemployment rate')\n",
    "\n",
    "plt.show()"
   ]
  },
  {
   "cell_type": "code",
   "execution_count": 10,
   "id": "de60e308",
   "metadata": {},
   "outputs": [
    {
     "data": {
      "text/plain": [
       "array([[<AxesSubplot:title={'center':'num_mortage'}>,\n",
       "        <AxesSubplot:title={'center':'num_possession'}>],\n",
       "       [<AxesSubplot:title={'center':'unemployment rate'}>,\n",
       "        <AxesSubplot:title={'center':'RATE'}>]], dtype=object)"
      ]
     },
     "execution_count": 10,
     "metadata": {},
     "output_type": "execute_result"
    },
    {
     "data": {
      "image/png": "[encoded data removed]",
      "text/plain": [
       "<Figure size 720x720 with 4 Axes>"
      ]
     },
     "metadata": {
      "needs_background": "light"
     },
     "output_type": "display_data"
    }
   ],
   "source": [
    "df[['num_mortage','num_possession','unemployment rate','RATE']].hist(figsize=(10,10))"
   ]
  },
  {
   "cell_type": "code",
   "execution_count": 11,
   "id": "c8a20597",
   "metadata": {},
   "outputs": [
    {
     "data": {
      "text/html": [
       "<div>\n",
       "<style scoped>\n",
       "    .dataframe tbody tr th:only-of-type {\n",
       "        vertical-align: middle;\n",
       "    }\n",
       "\n",
       "    .dataframe tbody tr th {\n",
       "        vertical-align: top;\n",
       "    }\n",
       "\n",
       "    .dataframe thead th {\n",
       "        text-align: right;\n",
       "    }\n",
       "</style>\n",
       "<table border=\"1\" class=\"dataframe\">\n",
       "  <thead>\n",
       "    <tr style=\"text-align: right;\">\n",
       "      <th></th>\n",
       "      <th>RATE</th>\n",
       "      <th>num_mortage</th>\n",
       "      <th>num_possession</th>\n",
       "      <th>unemployment rate</th>\n",
       "    </tr>\n",
       "  </thead>\n",
       "  <tbody>\n",
       "    <tr>\n",
       "      <th>1975</th>\n",
       "      <td>0.804310</td>\n",
       "      <td>-1.965955</td>\n",
       "      <td>-1.117607</td>\n",
       "      <td>-1.366817</td>\n",
       "    </tr>\n",
       "    <tr>\n",
       "      <th>1976</th>\n",
       "      <td>0.831159</td>\n",
       "      <td>-1.854087</td>\n",
       "      <td>-1.113327</td>\n",
       "      <td>-0.959211</td>\n",
       "    </tr>\n",
       "    <tr>\n",
       "      <th>1977</th>\n",
       "      <td>0.303039</td>\n",
       "      <td>-1.735854</td>\n",
       "      <td>-1.127770</td>\n",
       "      <td>-0.868631</td>\n",
       "    </tr>\n",
       "  </tbody>\n",
       "</table>\n",
       "</div>"
      ],
      "text/plain": [
       "          RATE  num_mortage  num_possession  unemployment rate\n",
       "1975  0.804310    -1.965955       -1.117607          -1.366817\n",
       "1976  0.831159    -1.854087       -1.113327          -0.959211\n",
       "1977  0.303039    -1.735854       -1.127770          -0.868631"
      ]
     },
     "execution_count": 11,
     "metadata": {},
     "output_type": "execute_result"
    }
   ],
   "source": [
    "# normalize dataset\n",
    "df_norm = (df - df.mean())/np.std(df)\n",
    "df_norm.head(3)"
   ]
  },
  {
   "cell_type": "markdown",
   "id": "81dc3094",
   "metadata": {},
   "source": [
    "## Perform data analysis"
   ]
  },
  {
   "cell_type": "markdown",
   "id": "b22eb33b",
   "metadata": {},
   "source": [
    "(d) Note: you should try simple regression models, polynomial regression\n",
    "and splines (no need for kernel regression). Consider which features to\n",
    "include and if normalising the data improves the model. Also use appropriate model selection criteria to support your conclusions"
   ]
  },
  {
   "cell_type": "code",
   "execution_count": 12,
   "id": "2461a591",
   "metadata": {},
   "outputs": [
    {
     "data": {
      "text/plain": [
       "(12, 27, 27, 12)"
      ]
     },
     "execution_count": 12,
     "metadata": {},
     "output_type": "execute_result"
    }
   ],
   "source": [
    "data_train,data_test = train_test_split(df ,test_size=0.3,random_state=0)\n",
    "\n",
    "X_train = data_train[['num_mortage','num_possession','unemployment rate']]\n",
    "y_train = data_train['RATE']\n",
    "\n",
    "X_test = data_test[['num_mortage','num_possession','unemployment rate']]\n",
    "y_test = data_test['RATE']\n",
    "\n",
    "len(X_test),len(X_train),len(y_train),len(y_test)"
   ]
  },
  {
   "cell_type": "markdown",
   "id": "0c013562",
   "metadata": {},
   "source": [
    "## OLS Regression"
   ]
  },
  {
   "cell_type": "code",
   "execution_count": 13,
   "id": "717f9157",
   "metadata": {},
   "outputs": [
    {
     "data": {
      "text/html": [
       "<table class=\"simpletable\">\n",
       "<caption>OLS Regression Results</caption>\n",
       "<tr>\n",
       "  <th>Dep. Variable:</th>          <td>RATE</td>       <th>  R-squared:         </th> <td>   0.583</td>\n",
       "</tr>\n",
       "<tr>\n",
       "  <th>Model:</th>                   <td>OLS</td>       <th>  Adj. R-squared:    </th> <td>   0.529</td>\n",
       "</tr>\n",
       "<tr>\n",
       "  <th>Method:</th>             <td>Least Squares</td>  <th>  F-statistic:       </th> <td>   10.72</td>\n",
       "</tr>\n",
       "<tr>\n",
       "  <th>Date:</th>             <td>Sat, 04 Nov 2023</td> <th>  Prob (F-statistic):</th> <td>0.000133</td>\n",
       "</tr>\n",
       "<tr>\n",
       "  <th>Time:</th>                 <td>11:46:19</td>     <th>  Log-Likelihood:    </th> <td> -65.261</td>\n",
       "</tr>\n",
       "<tr>\n",
       "  <th>No. Observations:</th>      <td>    27</td>      <th>  AIC:               </th> <td>   138.5</td>\n",
       "</tr>\n",
       "<tr>\n",
       "  <th>Df Residuals:</th>          <td>    23</td>      <th>  BIC:               </th> <td>   143.7</td>\n",
       "</tr>\n",
       "<tr>\n",
       "  <th>Df Model:</th>              <td>     3</td>      <th>                     </th>     <td> </td>   \n",
       "</tr>\n",
       "<tr>\n",
       "  <th>Covariance Type:</th>      <td>nonrobust</td>    <th>                     </th>     <td> </td>   \n",
       "</tr>\n",
       "</table>\n",
       "<table class=\"simpletable\">\n",
       "<tr>\n",
       "          <td></td>             <th>coef</th>     <th>std err</th>      <th>t</th>      <th>P>|t|</th>  <th>[0.025</th>    <th>0.975]</th>  \n",
       "</tr>\n",
       "<tr>\n",
       "  <th>const</th>             <td>   20.5413</td> <td>    3.866</td> <td>    5.314</td> <td> 0.000</td> <td>   12.544</td> <td>   28.538</td>\n",
       "</tr>\n",
       "<tr>\n",
       "  <th>num_mortage</th>       <td>-1.564e-06</td> <td> 3.38e-07</td> <td>   -4.629</td> <td> 0.000</td> <td>-2.26e-06</td> <td>-8.65e-07</td>\n",
       "</tr>\n",
       "<tr>\n",
       "  <th>num_possession</th>    <td> 3.996e-05</td> <td> 4.15e-05</td> <td>    0.963</td> <td> 0.346</td> <td>-4.59e-05</td> <td>    0.000</td>\n",
       "</tr>\n",
       "<tr>\n",
       "  <th>unemployment rate</th> <td>    0.0541</td> <td>    0.300</td> <td>    0.180</td> <td> 0.858</td> <td>   -0.566</td> <td>    0.674</td>\n",
       "</tr>\n",
       "</table>\n",
       "<table class=\"simpletable\">\n",
       "<tr>\n",
       "  <th>Omnibus:</th>       <td> 0.274</td> <th>  Durbin-Watson:     </th> <td>   1.397</td>\n",
       "</tr>\n",
       "<tr>\n",
       "  <th>Prob(Omnibus):</th> <td> 0.872</td> <th>  Jarque-Bera (JB):  </th> <td>   0.210</td>\n",
       "</tr>\n",
       "<tr>\n",
       "  <th>Skew:</th>          <td> 0.188</td> <th>  Prob(JB):          </th> <td>   0.900</td>\n",
       "</tr>\n",
       "<tr>\n",
       "  <th>Kurtosis:</th>      <td> 2.785</td> <th>  Cond. No.          </th> <td>6.43e+07</td>\n",
       "</tr>\n",
       "</table><br/><br/>Notes:<br/>[1] Standard Errors assume that the covariance matrix of the errors is correctly specified.<br/>[2] The condition number is large, 6.43e+07. This might indicate that there are<br/>strong multicollinearity or other numerical problems."
      ],
      "text/plain": [
       "<class 'statsmodels.iolib.summary.Summary'>\n",
       "\"\"\"\n",
       "                            OLS Regression Results                            \n",
       "==============================================================================\n",
       "Dep. Variable:                   RATE   R-squared:                       0.583\n",
       "Model:                            OLS   Adj. R-squared:                  0.529\n",
       "Method:                 Least Squares   F-statistic:                     10.72\n",
       "Date:                Sat, 04 Nov 2023   Prob (F-statistic):           0.000133\n",
       "Time:                        11:46:19   Log-Likelihood:                -65.261\n",
       "No. Observations:                  27   AIC:                             138.5\n",
       "Df Residuals:                      23   BIC:                             143.7\n",
       "Df Model:                           3                                         \n",
       "Covariance Type:            nonrobust                                         \n",
       "=====================================================================================\n",
       "                        coef    std err          t      P>|t|      [0.025      0.975]\n",
       "-------------------------------------------------------------------------------------\n",
       "const                20.5413      3.866      5.314      0.000      12.544      28.538\n",
       "num_mortage       -1.564e-06   3.38e-07     -4.629      0.000   -2.26e-06   -8.65e-07\n",
       "num_possession     3.996e-05   4.15e-05      0.963      0.346   -4.59e-05       0.000\n",
       "unemployment rate     0.0541      0.300      0.180      0.858      -0.566       0.674\n",
       "==============================================================================\n",
       "Omnibus:                        0.274   Durbin-Watson:                   1.397\n",
       "Prob(Omnibus):                  0.872   Jarque-Bera (JB):                0.210\n",
       "Skew:                           0.188   Prob(JB):                        0.900\n",
       "Kurtosis:                       2.785   Cond. No.                     6.43e+07\n",
       "==============================================================================\n",
       "\n",
       "Notes:\n",
       "[1] Standard Errors assume that the covariance matrix of the errors is correctly specified.\n",
       "[2] The condition number is large, 6.43e+07. This might indicate that there are\n",
       "strong multicollinearity or other numerical problems.\n",
       "\"\"\""
      ]
     },
     "execution_count": 13,
     "metadata": {},
     "output_type": "execute_result"
    }
   ],
   "source": [
    "# all variables \n",
    "OLS = sm.OLS(y_train, sm.add_constant(X_train)).fit()\n",
    "OLS.summary()"
   ]
  },
  {
   "cell_type": "code",
   "execution_count": 14,
   "id": "e31da43f",
   "metadata": {},
   "outputs": [
    {
     "data": {
      "text/html": [
       "<table class=\"simpletable\">\n",
       "<caption>OLS Regression Results</caption>\n",
       "<tr>\n",
       "  <th>Dep. Variable:</th>          <td>RATE</td>       <th>  R-squared:         </th> <td>   0.583</td>\n",
       "</tr>\n",
       "<tr>\n",
       "  <th>Model:</th>                   <td>OLS</td>       <th>  Adj. R-squared:    </th> <td>   0.529</td>\n",
       "</tr>\n",
       "<tr>\n",
       "  <th>Method:</th>             <td>Least Squares</td>  <th>  F-statistic:       </th> <td>   10.72</td>\n",
       "</tr>\n",
       "<tr>\n",
       "  <th>Date:</th>             <td>Sat, 04 Nov 2023</td> <th>  Prob (F-statistic):</th> <td>0.000133</td>\n",
       "</tr>\n",
       "<tr>\n",
       "  <th>Time:</th>                 <td>11:46:19</td>     <th>  Log-Likelihood:    </th> <td> -26.291</td>\n",
       "</tr>\n",
       "<tr>\n",
       "  <th>No. Observations:</th>      <td>    27</td>      <th>  AIC:               </th> <td>   60.58</td>\n",
       "</tr>\n",
       "<tr>\n",
       "  <th>Df Residuals:</th>          <td>    23</td>      <th>  BIC:               </th> <td>   65.76</td>\n",
       "</tr>\n",
       "<tr>\n",
       "  <th>Df Model:</th>              <td>     3</td>      <th>                     </th>     <td> </td>   \n",
       "</tr>\n",
       "<tr>\n",
       "  <th>Covariance Type:</th>      <td>nonrobust</td>    <th>                     </th>     <td> </td>   \n",
       "</tr>\n",
       "</table>\n",
       "<table class=\"simpletable\">\n",
       "<tr>\n",
       "          <td></td>             <th>coef</th>     <th>std err</th>      <th>t</th>      <th>P>|t|</th>  <th>[0.025</th>    <th>0.975]</th>  \n",
       "</tr>\n",
       "<tr>\n",
       "  <th>const</th>             <td>   -0.0750</td> <td>    0.135</td> <td>   -0.555</td> <td> 0.584</td> <td>   -0.354</td> <td>    0.204</td>\n",
       "</tr>\n",
       "<tr>\n",
       "  <th>num_mortage</th>       <td>   -0.8122</td> <td>    0.175</td> <td>   -4.629</td> <td> 0.000</td> <td>   -1.175</td> <td>   -0.449</td>\n",
       "</tr>\n",
       "<tr>\n",
       "  <th>num_possession</th>    <td>    0.1764</td> <td>    0.183</td> <td>    0.963</td> <td> 0.346</td> <td>   -0.203</td> <td>    0.556</td>\n",
       "</tr>\n",
       "<tr>\n",
       "  <th>unemployment rate</th> <td>    0.0282</td> <td>    0.156</td> <td>    0.180</td> <td> 0.858</td> <td>   -0.295</td> <td>    0.351</td>\n",
       "</tr>\n",
       "</table>\n",
       "<table class=\"simpletable\">\n",
       "<tr>\n",
       "  <th>Omnibus:</th>       <td> 0.274</td> <th>  Durbin-Watson:     </th> <td>   1.397</td>\n",
       "</tr>\n",
       "<tr>\n",
       "  <th>Prob(Omnibus):</th> <td> 0.872</td> <th>  Jarque-Bera (JB):  </th> <td>   0.210</td>\n",
       "</tr>\n",
       "<tr>\n",
       "  <th>Skew:</th>          <td> 0.188</td> <th>  Prob(JB):          </th> <td>   0.900</td>\n",
       "</tr>\n",
       "<tr>\n",
       "  <th>Kurtosis:</th>      <td> 2.785</td> <th>  Cond. No.          </th> <td>    2.48</td>\n",
       "</tr>\n",
       "</table><br/><br/>Notes:<br/>[1] Standard Errors assume that the covariance matrix of the errors is correctly specified."
      ],
      "text/plain": [
       "<class 'statsmodels.iolib.summary.Summary'>\n",
       "\"\"\"\n",
       "                            OLS Regression Results                            \n",
       "==============================================================================\n",
       "Dep. Variable:                   RATE   R-squared:                       0.583\n",
       "Model:                            OLS   Adj. R-squared:                  0.529\n",
       "Method:                 Least Squares   F-statistic:                     10.72\n",
       "Date:                Sat, 04 Nov 2023   Prob (F-statistic):           0.000133\n",
       "Time:                        11:46:19   Log-Likelihood:                -26.291\n",
       "No. Observations:                  27   AIC:                             60.58\n",
       "Df Residuals:                      23   BIC:                             65.76\n",
       "Df Model:                           3                                         \n",
       "Covariance Type:            nonrobust                                         \n",
       "=====================================================================================\n",
       "                        coef    std err          t      P>|t|      [0.025      0.975]\n",
       "-------------------------------------------------------------------------------------\n",
       "const                -0.0750      0.135     -0.555      0.584      -0.354       0.204\n",
       "num_mortage          -0.8122      0.175     -4.629      0.000      -1.175      -0.449\n",
       "num_possession        0.1764      0.183      0.963      0.346      -0.203       0.556\n",
       "unemployment rate     0.0282      0.156      0.180      0.858      -0.295       0.351\n",
       "==============================================================================\n",
       "Omnibus:                        0.274   Durbin-Watson:                   1.397\n",
       "Prob(Omnibus):                  0.872   Jarque-Bera (JB):                0.210\n",
       "Skew:                           0.188   Prob(JB):                        0.900\n",
       "Kurtosis:                       2.785   Cond. No.                         2.48\n",
       "==============================================================================\n",
       "\n",
       "Notes:\n",
       "[1] Standard Errors assume that the covariance matrix of the errors is correctly specified.\n",
       "\"\"\""
      ]
     },
     "execution_count": 14,
     "metadata": {},
     "output_type": "execute_result"
    }
   ],
   "source": [
    "# all variables - normalized\n",
    "data_train_norm,data_test_norm = train_test_split(df_norm ,test_size=0.3,random_state=0)\n",
    "\n",
    "X_train_norm = data_train_norm[['num_mortage', 'num_possession', 'unemployment rate']]\n",
    "y_train_norm = data_train_norm['RATE']\n",
    "\n",
    "OLS = sm.OLS(y_train_norm, sm.add_constant(X_train_norm)).fit()\n",
    "OLS.summary()"
   ]
  },
  {
   "cell_type": "code",
   "execution_count": 15,
   "id": "822a52a2",
   "metadata": {},
   "outputs": [
    {
     "data": {
      "text/html": [
       "<table class=\"simpletable\">\n",
       "<caption>OLS Regression Results</caption>\n",
       "<tr>\n",
       "  <th>Dep. Variable:</th>          <td>RATE</td>       <th>  R-squared:         </th> <td>   0.558</td>\n",
       "</tr>\n",
       "<tr>\n",
       "  <th>Model:</th>                   <td>OLS</td>       <th>  Adj. R-squared:    </th> <td>   0.541</td>\n",
       "</tr>\n",
       "<tr>\n",
       "  <th>Method:</th>             <td>Least Squares</td>  <th>  F-statistic:       </th> <td>   31.59</td>\n",
       "</tr>\n",
       "<tr>\n",
       "  <th>Date:</th>             <td>Sat, 04 Nov 2023</td> <th>  Prob (F-statistic):</th> <td>7.56e-06</td>\n",
       "</tr>\n",
       "<tr>\n",
       "  <th>Time:</th>                 <td>11:46:19</td>     <th>  Log-Likelihood:    </th> <td> -66.038</td>\n",
       "</tr>\n",
       "<tr>\n",
       "  <th>No. Observations:</th>      <td>    27</td>      <th>  AIC:               </th> <td>   136.1</td>\n",
       "</tr>\n",
       "<tr>\n",
       "  <th>Df Residuals:</th>          <td>    25</td>      <th>  BIC:               </th> <td>   138.7</td>\n",
       "</tr>\n",
       "<tr>\n",
       "  <th>Df Model:</th>              <td>     1</td>      <th>                     </th>     <td> </td>   \n",
       "</tr>\n",
       "<tr>\n",
       "  <th>Covariance Type:</th>      <td>nonrobust</td>    <th>                     </th>     <td> </td>   \n",
       "</tr>\n",
       "</table>\n",
       "<table class=\"simpletable\">\n",
       "<tr>\n",
       "       <td></td>          <th>coef</th>     <th>std err</th>      <th>t</th>      <th>P>|t|</th>  <th>[0.025</th>    <th>0.975]</th>  \n",
       "</tr>\n",
       "<tr>\n",
       "  <th>const</th>       <td>   20.1232</td> <td>    2.275</td> <td>    8.845</td> <td> 0.000</td> <td>   15.438</td> <td>   24.809</td>\n",
       "</tr>\n",
       "<tr>\n",
       "  <th>num_mortage</th> <td>-1.362e-06</td> <td> 2.42e-07</td> <td>   -5.620</td> <td> 0.000</td> <td>-1.86e-06</td> <td>-8.63e-07</td>\n",
       "</tr>\n",
       "</table>\n",
       "<table class=\"simpletable\">\n",
       "<tr>\n",
       "  <th>Omnibus:</th>       <td> 0.199</td> <th>  Durbin-Watson:     </th> <td>   1.489</td>\n",
       "</tr>\n",
       "<tr>\n",
       "  <th>Prob(Omnibus):</th> <td> 0.905</td> <th>  Jarque-Bera (JB):  </th> <td>   0.349</td>\n",
       "</tr>\n",
       "<tr>\n",
       "  <th>Skew:</th>          <td> 0.169</td> <th>  Prob(JB):          </th> <td>   0.840</td>\n",
       "</tr>\n",
       "<tr>\n",
       "  <th>Kurtosis:</th>      <td> 2.557</td> <th>  Cond. No.          </th> <td>3.83e+07</td>\n",
       "</tr>\n",
       "</table><br/><br/>Notes:<br/>[1] Standard Errors assume that the covariance matrix of the errors is correctly specified.<br/>[2] The condition number is large, 3.83e+07. This might indicate that there are<br/>strong multicollinearity or other numerical problems."
      ],
      "text/plain": [
       "<class 'statsmodels.iolib.summary.Summary'>\n",
       "\"\"\"\n",
       "                            OLS Regression Results                            \n",
       "==============================================================================\n",
       "Dep. Variable:                   RATE   R-squared:                       0.558\n",
       "Model:                            OLS   Adj. R-squared:                  0.541\n",
       "Method:                 Least Squares   F-statistic:                     31.59\n",
       "Date:                Sat, 04 Nov 2023   Prob (F-statistic):           7.56e-06\n",
       "Time:                        11:46:19   Log-Likelihood:                -66.038\n",
       "No. Observations:                  27   AIC:                             136.1\n",
       "Df Residuals:                      25   BIC:                             138.7\n",
       "Df Model:                           1                                         \n",
       "Covariance Type:            nonrobust                                         \n",
       "===============================================================================\n",
       "                  coef    std err          t      P>|t|      [0.025      0.975]\n",
       "-------------------------------------------------------------------------------\n",
       "const          20.1232      2.275      8.845      0.000      15.438      24.809\n",
       "num_mortage -1.362e-06   2.42e-07     -5.620      0.000   -1.86e-06   -8.63e-07\n",
       "==============================================================================\n",
       "Omnibus:                        0.199   Durbin-Watson:                   1.489\n",
       "Prob(Omnibus):                  0.905   Jarque-Bera (JB):                0.349\n",
       "Skew:                           0.169   Prob(JB):                        0.840\n",
       "Kurtosis:                       2.557   Cond. No.                     3.83e+07\n",
       "==============================================================================\n",
       "\n",
       "Notes:\n",
       "[1] Standard Errors assume that the covariance matrix of the errors is correctly specified.\n",
       "[2] The condition number is large, 3.83e+07. This might indicate that there are\n",
       "strong multicollinearity or other numerical problems.\n",
       "\"\"\""
      ]
     },
     "execution_count": 15,
     "metadata": {},
     "output_type": "execute_result"
    }
   ],
   "source": [
    "# significant variables \n",
    "X_train_new = data_train[['num_mortage']]\n",
    "y_train_new = data_train['RATE']\n",
    "\n",
    "OLS = sm.OLS(y_train_new, sm.add_constant(X_train_new)).fit()\n",
    "OLS.summary()"
   ]
  },
  {
   "cell_type": "code",
   "execution_count": 16,
   "id": "1eaed4cd",
   "metadata": {},
   "outputs": [
    {
     "data": {
      "text/plain": [
       "Text(0.5, 1.0, 'OLS regression with selected and normalized data')"
      ]
     },
     "execution_count": 16,
     "metadata": {},
     "output_type": "execute_result"
    },
    {
     "data": {
      "image/png": "[encoded data removed]",
      "text/plain": [
       "<Figure size 432x288 with 1 Axes>"
      ]
     },
     "metadata": {
      "needs_background": "light"
     },
     "output_type": "display_data"
    }
   ],
   "source": [
    "# scatter regression \n",
    "ypred = OLS.predict(sm.add_constant(X_train_new))\n",
    "plt.scatter(X_train_new, y_train_new)\n",
    "plt.plot(X_train_new.values, ypred.values, color = 'red')\n",
    "plt.title('OLS regression with selected and normalized data')"
   ]
  },
  {
   "cell_type": "markdown",
   "id": "cb77dc4f",
   "metadata": {},
   "source": [
    "## Polynomial Regression"
   ]
  },
  {
   "cell_type": "code",
   "execution_count": 17,
   "id": "4122c9e1",
   "metadata": {},
   "outputs": [
    {
     "data": {
      "text/plain": [
       "(27, 10)"
      ]
     },
     "execution_count": 17,
     "metadata": {},
     "output_type": "execute_result"
    }
   ],
   "source": [
    "polynomial_features= PolynomialFeatures(degree=2)\n",
    "xp = polynomial_features.fit_transform(X_train_norm)\n",
    "xp.shape"
   ]
  },
  {
   "cell_type": "code",
   "execution_count": 18,
   "id": "219064c4",
   "metadata": {},
   "outputs": [
    {
     "data": {
      "text/html": [
       "<table class=\"simpletable\">\n",
       "<caption>OLS Regression Results</caption>\n",
       "<tr>\n",
       "  <th>Dep. Variable:</th>          <td>RATE</td>       <th>  R-squared:         </th> <td>   0.880</td>\n",
       "</tr>\n",
       "<tr>\n",
       "  <th>Model:</th>                   <td>OLS</td>       <th>  Adj. R-squared:    </th> <td>   0.816</td>\n",
       "</tr>\n",
       "<tr>\n",
       "  <th>Method:</th>             <td>Least Squares</td>  <th>  F-statistic:       </th> <td>   13.85</td>\n",
       "</tr>\n",
       "<tr>\n",
       "  <th>Date:</th>             <td>Sat, 04 Nov 2023</td> <th>  Prob (F-statistic):</th> <td>3.45e-06</td>\n",
       "</tr>\n",
       "<tr>\n",
       "  <th>Time:</th>                 <td>11:46:19</td>     <th>  Log-Likelihood:    </th> <td> -9.4713</td>\n",
       "</tr>\n",
       "<tr>\n",
       "  <th>No. Observations:</th>      <td>    27</td>      <th>  AIC:               </th> <td>   38.94</td>\n",
       "</tr>\n",
       "<tr>\n",
       "  <th>Df Residuals:</th>          <td>    17</td>      <th>  BIC:               </th> <td>   51.90</td>\n",
       "</tr>\n",
       "<tr>\n",
       "  <th>Df Model:</th>              <td>     9</td>      <th>                     </th>     <td> </td>   \n",
       "</tr>\n",
       "<tr>\n",
       "  <th>Covariance Type:</th>      <td>nonrobust</td>    <th>                     </th>     <td> </td>   \n",
       "</tr>\n",
       "</table>\n",
       "<table class=\"simpletable\">\n",
       "<tr>\n",
       "    <td></td>       <th>coef</th>     <th>std err</th>      <th>t</th>      <th>P>|t|</th>  <th>[0.025</th>    <th>0.975]</th>  \n",
       "</tr>\n",
       "<tr>\n",
       "  <th>const</th> <td>    0.6608</td> <td>    0.262</td> <td>    2.520</td> <td> 0.022</td> <td>    0.108</td> <td>    1.214</td>\n",
       "</tr>\n",
       "<tr>\n",
       "  <th>x1</th>    <td>   -1.8559</td> <td>    0.443</td> <td>   -4.187</td> <td> 0.001</td> <td>   -2.791</td> <td>   -0.921</td>\n",
       "</tr>\n",
       "<tr>\n",
       "  <th>x2</th>    <td>    0.3879</td> <td>    0.466</td> <td>    0.833</td> <td> 0.416</td> <td>   -0.594</td> <td>    1.370</td>\n",
       "</tr>\n",
       "<tr>\n",
       "  <th>x3</th>    <td>   -0.7661</td> <td>    0.262</td> <td>   -2.925</td> <td> 0.009</td> <td>   -1.319</td> <td>   -0.214</td>\n",
       "</tr>\n",
       "<tr>\n",
       "  <th>x4</th>    <td>   -0.7952</td> <td>    0.381</td> <td>   -2.088</td> <td> 0.052</td> <td>   -1.598</td> <td>    0.008</td>\n",
       "</tr>\n",
       "<tr>\n",
       "  <th>x5</th>    <td>    0.1317</td> <td>    0.550</td> <td>    0.239</td> <td> 0.814</td> <td>   -1.029</td> <td>    1.292</td>\n",
       "</tr>\n",
       "<tr>\n",
       "  <th>x6</th>    <td>   -0.7302</td> <td>    0.309</td> <td>   -2.364</td> <td> 0.030</td> <td>   -1.382</td> <td>   -0.079</td>\n",
       "</tr>\n",
       "<tr>\n",
       "  <th>x7</th>    <td>   -0.0175</td> <td>    0.194</td> <td>   -0.090</td> <td> 0.929</td> <td>   -0.427</td> <td>    0.392</td>\n",
       "</tr>\n",
       "<tr>\n",
       "  <th>x8</th>    <td>    0.2508</td> <td>    0.309</td> <td>    0.811</td> <td> 0.428</td> <td>   -0.401</td> <td>    0.903</td>\n",
       "</tr>\n",
       "<tr>\n",
       "  <th>x9</th>    <td>   -0.1716</td> <td>    0.182</td> <td>   -0.940</td> <td> 0.360</td> <td>   -0.557</td> <td>    0.213</td>\n",
       "</tr>\n",
       "</table>\n",
       "<table class=\"simpletable\">\n",
       "<tr>\n",
       "  <th>Omnibus:</th>       <td> 0.518</td> <th>  Durbin-Watson:     </th> <td>   1.649</td>\n",
       "</tr>\n",
       "<tr>\n",
       "  <th>Prob(Omnibus):</th> <td> 0.772</td> <th>  Jarque-Bera (JB):  </th> <td>   0.039</td>\n",
       "</tr>\n",
       "<tr>\n",
       "  <th>Skew:</th>          <td> 0.067</td> <th>  Prob(JB):          </th> <td>   0.981</td>\n",
       "</tr>\n",
       "<tr>\n",
       "  <th>Kurtosis:</th>      <td> 3.130</td> <th>  Cond. No.          </th> <td>    24.4</td>\n",
       "</tr>\n",
       "</table><br/><br/>Notes:<br/>[1] Standard Errors assume that the covariance matrix of the errors is correctly specified."
      ],
      "text/plain": [
       "<class 'statsmodels.iolib.summary.Summary'>\n",
       "\"\"\"\n",
       "                            OLS Regression Results                            \n",
       "==============================================================================\n",
       "Dep. Variable:                   RATE   R-squared:                       0.880\n",
       "Model:                            OLS   Adj. R-squared:                  0.816\n",
       "Method:                 Least Squares   F-statistic:                     13.85\n",
       "Date:                Sat, 04 Nov 2023   Prob (F-statistic):           3.45e-06\n",
       "Time:                        11:46:19   Log-Likelihood:                -9.4713\n",
       "No. Observations:                  27   AIC:                             38.94\n",
       "Df Residuals:                      17   BIC:                             51.90\n",
       "Df Model:                           9                                         \n",
       "Covariance Type:            nonrobust                                         \n",
       "==============================================================================\n",
       "                 coef    std err          t      P>|t|      [0.025      0.975]\n",
       "------------------------------------------------------------------------------\n",
       "const          0.6608      0.262      2.520      0.022       0.108       1.214\n",
       "x1            -1.8559      0.443     -4.187      0.001      -2.791      -0.921\n",
       "x2             0.3879      0.466      0.833      0.416      -0.594       1.370\n",
       "x3            -0.7661      0.262     -2.925      0.009      -1.319      -0.214\n",
       "x4            -0.7952      0.381     -2.088      0.052      -1.598       0.008\n",
       "x5             0.1317      0.550      0.239      0.814      -1.029       1.292\n",
       "x6            -0.7302      0.309     -2.364      0.030      -1.382      -0.079\n",
       "x7            -0.0175      0.194     -0.090      0.929      -0.427       0.392\n",
       "x8             0.2508      0.309      0.811      0.428      -0.401       0.903\n",
       "x9            -0.1716      0.182     -0.940      0.360      -0.557       0.213\n",
       "==============================================================================\n",
       "Omnibus:                        0.518   Durbin-Watson:                   1.649\n",
       "Prob(Omnibus):                  0.772   Jarque-Bera (JB):                0.039\n",
       "Skew:                           0.067   Prob(JB):                        0.981\n",
       "Kurtosis:                       3.130   Cond. No.                         24.4\n",
       "==============================================================================\n",
       "\n",
       "Notes:\n",
       "[1] Standard Errors assume that the covariance matrix of the errors is correctly specified.\n",
       "\"\"\""
      ]
     },
     "execution_count": 18,
     "metadata": {},
     "output_type": "execute_result"
    }
   ],
   "source": [
    "# all variables - normalized\n",
    "poly = sm.OLS(y_train_norm, sm.add_constant(xp)).fit()\n",
    "poly.summary()"
   ]
  },
  {
   "cell_type": "code",
   "execution_count": 19,
   "id": "553e5ad1",
   "metadata": {},
   "outputs": [
    {
     "data": {
      "text/html": [
       "<table class=\"simpletable\">\n",
       "<caption>OLS Regression Results</caption>\n",
       "<tr>\n",
       "  <th>Dep. Variable:</th>          <td>RATE</td>       <th>  R-squared:         </th> <td>   0.670</td>\n",
       "</tr>\n",
       "<tr>\n",
       "  <th>Model:</th>                   <td>OLS</td>       <th>  Adj. R-squared:    </th> <td>   0.657</td>\n",
       "</tr>\n",
       "<tr>\n",
       "  <th>Method:</th>             <td>Least Squares</td>  <th>  F-statistic:       </th> <td>   50.73</td>\n",
       "</tr>\n",
       "<tr>\n",
       "  <th>Date:</th>             <td>Sat, 04 Nov 2023</td> <th>  Prob (F-statistic):</th> <td>1.82e-07</td>\n",
       "</tr>\n",
       "<tr>\n",
       "  <th>Time:</th>                 <td>11:46:19</td>     <th>  Log-Likelihood:    </th> <td> -62.104</td>\n",
       "</tr>\n",
       "<tr>\n",
       "  <th>No. Observations:</th>      <td>    27</td>      <th>  AIC:               </th> <td>   128.2</td>\n",
       "</tr>\n",
       "<tr>\n",
       "  <th>Df Residuals:</th>          <td>    25</td>      <th>  BIC:               </th> <td>   130.8</td>\n",
       "</tr>\n",
       "<tr>\n",
       "  <th>Df Model:</th>              <td>     1</td>      <th>                     </th>     <td> </td>   \n",
       "</tr>\n",
       "<tr>\n",
       "  <th>Covariance Type:</th>      <td>nonrobust</td>    <th>                     </th>     <td> </td>   \n",
       "</tr>\n",
       "</table>\n",
       "<table class=\"simpletable\">\n",
       "<tr>\n",
       "    <td></td>       <th>coef</th>     <th>std err</th>      <th>t</th>      <th>P>|t|</th>  <th>[0.025</th>    <th>0.975]</th>  \n",
       "</tr>\n",
       "<tr>\n",
       "  <th>const</th> <td> 9.269e-13</td> <td> 7.17e-14</td> <td>   12.927</td> <td> 0.000</td> <td> 7.79e-13</td> <td> 1.07e-12</td>\n",
       "</tr>\n",
       "<tr>\n",
       "  <th>x1</th>    <td> 3.766e-06</td> <td> 2.91e-07</td> <td>   12.927</td> <td> 0.000</td> <td> 3.17e-06</td> <td> 4.37e-06</td>\n",
       "</tr>\n",
       "<tr>\n",
       "  <th>x2</th>    <td>-3.009e-13</td> <td> 2.83e-14</td> <td>  -10.638</td> <td> 0.000</td> <td>-3.59e-13</td> <td>-2.43e-13</td>\n",
       "</tr>\n",
       "</table>\n",
       "<table class=\"simpletable\">\n",
       "<tr>\n",
       "  <th>Omnibus:</th>       <td> 0.775</td> <th>  Durbin-Watson:     </th> <td>   1.446</td>\n",
       "</tr>\n",
       "<tr>\n",
       "  <th>Prob(Omnibus):</th> <td> 0.679</td> <th>  Jarque-Bera (JB):  </th> <td>   0.744</td>\n",
       "</tr>\n",
       "<tr>\n",
       "  <th>Skew:</th>          <td> 0.134</td> <th>  Prob(JB):          </th> <td>   0.690</td>\n",
       "</tr>\n",
       "<tr>\n",
       "  <th>Kurtosis:</th>      <td> 2.232</td> <th>  Cond. No.          </th> <td>1.97e+15</td>\n",
       "</tr>\n",
       "</table><br/><br/>Notes:<br/>[1] Standard Errors assume that the covariance matrix of the errors is correctly specified.<br/>[2] The condition number is large, 1.97e+15. This might indicate that there are<br/>strong multicollinearity or other numerical problems."
      ],
      "text/plain": [
       "<class 'statsmodels.iolib.summary.Summary'>\n",
       "\"\"\"\n",
       "                            OLS Regression Results                            \n",
       "==============================================================================\n",
       "Dep. Variable:                   RATE   R-squared:                       0.670\n",
       "Model:                            OLS   Adj. R-squared:                  0.657\n",
       "Method:                 Least Squares   F-statistic:                     50.73\n",
       "Date:                Sat, 04 Nov 2023   Prob (F-statistic):           1.82e-07\n",
       "Time:                        11:46:19   Log-Likelihood:                -62.104\n",
       "No. Observations:                  27   AIC:                             128.2\n",
       "Df Residuals:                      25   BIC:                             130.8\n",
       "Df Model:                           1                                         \n",
       "Covariance Type:            nonrobust                                         \n",
       "==============================================================================\n",
       "                 coef    std err          t      P>|t|      [0.025      0.975]\n",
       "------------------------------------------------------------------------------\n",
       "const       9.269e-13   7.17e-14     12.927      0.000    7.79e-13    1.07e-12\n",
       "x1          3.766e-06   2.91e-07     12.927      0.000    3.17e-06    4.37e-06\n",
       "x2         -3.009e-13   2.83e-14    -10.638      0.000   -3.59e-13   -2.43e-13\n",
       "==============================================================================\n",
       "Omnibus:                        0.775   Durbin-Watson:                   1.446\n",
       "Prob(Omnibus):                  0.679   Jarque-Bera (JB):                0.744\n",
       "Skew:                           0.134   Prob(JB):                        0.690\n",
       "Kurtosis:                       2.232   Cond. No.                     1.97e+15\n",
       "==============================================================================\n",
       "\n",
       "Notes:\n",
       "[1] Standard Errors assume that the covariance matrix of the errors is correctly specified.\n",
       "[2] The condition number is large, 1.97e+15. This might indicate that there are\n",
       "strong multicollinearity or other numerical problems.\n",
       "\"\"\""
      ]
     },
     "execution_count": 19,
     "metadata": {},
     "output_type": "execute_result"
    }
   ],
   "source": [
    "polynomial_features= PolynomialFeatures(degree=2)\n",
    "xp = polynomial_features.fit_transform(X_train_new)\n",
    "\n",
    "# significant variables \n",
    "poly = sm.OLS(y_train, sm.add_constant(xp)).fit()\n",
    "poly.summary()"
   ]
  },
  {
   "cell_type": "code",
   "execution_count": 20,
   "id": "38bfc386",
   "metadata": {},
   "outputs": [
    {
     "data": {
      "text/plain": [
       "Text(0.5, 1.0, 'Polynomial Regression')"
      ]
     },
     "execution_count": 20,
     "metadata": {},
     "output_type": "execute_result"
    },
    {
     "data": {
      "image/png": "[encoded data removed]",
      "text/plain": [
       "<Figure size 432x288 with 1 Axes>"
      ]
     },
     "metadata": {
      "needs_background": "light"
     },
     "output_type": "display_data"
    }
   ],
   "source": [
    "# scatter regression \n",
    "ypred = poly.predict(sm.add_constant(xp))\n",
    "\n",
    "plt.scatter(X_train_new, y_train)\n",
    "\n",
    "# sort and plot model output \n",
    "xs, ys = zip(*sorted(zip(X_train_new.values, ypred)))\n",
    "plt.plot(xs, ys, color = 'red')\n",
    "plt.title('Polynomial Regression')"
   ]
  },
  {
   "cell_type": "markdown",
   "id": "23450adf",
   "metadata": {},
   "source": [
    "## Splines Regression"
   ]
  },
  {
   "cell_type": "code",
   "execution_count": 21,
   "id": "828bd01a",
   "metadata": {},
   "outputs": [],
   "source": [
    "# Generating cubic spline with 3 knots \n",
    "transformed_x = dmatrix(\n",
    "            \"bs(train, knots=(0.7e7,0.9e7, 1.1e7), degree=3, include_intercept=False)\", \n",
    "                {\"train\": X_train_new},return_type='dataframe')"
   ]
  },
  {
   "cell_type": "code",
   "execution_count": 22,
   "id": "a75ed1a1",
   "metadata": {},
   "outputs": [
    {
     "data": {
      "text/html": [
       "<div>\n",
       "<style scoped>\n",
       "    .dataframe tbody tr th:only-of-type {\n",
       "        vertical-align: middle;\n",
       "    }\n",
       "\n",
       "    .dataframe tbody tr th {\n",
       "        vertical-align: top;\n",
       "    }\n",
       "\n",
       "    .dataframe thead th {\n",
       "        text-align: right;\n",
       "    }\n",
       "</style>\n",
       "<table border=\"1\" class=\"dataframe\">\n",
       "  <thead>\n",
       "    <tr style=\"text-align: right;\">\n",
       "      <th></th>\n",
       "      <th>Intercept</th>\n",
       "      <th>bs(train, knots=(0.7e7, 0.9e7, 1.1e7), degree=3, include_intercept=False)[0]</th>\n",
       "      <th>bs(train, knots=(0.7e7, 0.9e7, 1.1e7), degree=3, include_intercept=False)[1]</th>\n",
       "      <th>bs(train, knots=(0.7e7, 0.9e7, 1.1e7), degree=3, include_intercept=False)[2]</th>\n",
       "      <th>bs(train, knots=(0.7e7, 0.9e7, 1.1e7), degree=3, include_intercept=False)[3]</th>\n",
       "      <th>bs(train, knots=(0.7e7, 0.9e7, 1.1e7), degree=3, include_intercept=False)[4]</th>\n",
       "      <th>bs(train, knots=(0.7e7, 0.9e7, 1.1e7), degree=3, include_intercept=False)[5]</th>\n",
       "    </tr>\n",
       "  </thead>\n",
       "  <tbody>\n",
       "    <tr>\n",
       "      <th>1977</th>\n",
       "      <td>1.0</td>\n",
       "      <td>0.511227</td>\n",
       "      <td>0.085550</td>\n",
       "      <td>0.002897</td>\n",
       "      <td>0.000000</td>\n",
       "      <td>0.000000</td>\n",
       "      <td>0.000000</td>\n",
       "    </tr>\n",
       "    <tr>\n",
       "      <th>2013</th>\n",
       "      <td>1.0</td>\n",
       "      <td>0.000000</td>\n",
       "      <td>0.000000</td>\n",
       "      <td>0.025056</td>\n",
       "      <td>0.337249</td>\n",
       "      <td>0.627291</td>\n",
       "      <td>0.010404</td>\n",
       "    </tr>\n",
       "    <tr>\n",
       "      <th>1995</th>\n",
       "      <td>1.0</td>\n",
       "      <td>0.000000</td>\n",
       "      <td>0.002319</td>\n",
       "      <td>0.181554</td>\n",
       "      <td>0.599826</td>\n",
       "      <td>0.216301</td>\n",
       "      <td>0.000000</td>\n",
       "    </tr>\n",
       "  </tbody>\n",
       "</table>\n",
       "</div>"
      ],
      "text/plain": [
       "      Intercept  \\\n",
       "1977        1.0   \n",
       "2013        1.0   \n",
       "1995        1.0   \n",
       "\n",
       "      bs(train, knots=(0.7e7, 0.9e7, 1.1e7), degree=3, include_intercept=False)[0]  \\\n",
       "1977                                           0.511227                              \n",
       "2013                                           0.000000                              \n",
       "1995                                           0.000000                              \n",
       "\n",
       "      bs(train, knots=(0.7e7, 0.9e7, 1.1e7), degree=3, include_intercept=False)[1]  \\\n",
       "1977                                           0.085550                              \n",
       "2013                                           0.000000                              \n",
       "1995                                           0.002319                              \n",
       "\n",
       "      bs(train, knots=(0.7e7, 0.9e7, 1.1e7), degree=3, include_intercept=False)[2]  \\\n",
       "1977                                           0.002897                              \n",
       "2013                                           0.025056                              \n",
       "1995                                           0.181554                              \n",
       "\n",
       "      bs(train, knots=(0.7e7, 0.9e7, 1.1e7), degree=3, include_intercept=False)[3]  \\\n",
       "1977                                           0.000000                              \n",
       "2013                                           0.337249                              \n",
       "1995                                           0.599826                              \n",
       "\n",
       "      bs(train, knots=(0.7e7, 0.9e7, 1.1e7), degree=3, include_intercept=False)[4]  \\\n",
       "1977                                           0.000000                              \n",
       "2013                                           0.627291                              \n",
       "1995                                           0.216301                              \n",
       "\n",
       "      bs(train, knots=(0.7e7, 0.9e7, 1.1e7), degree=3, include_intercept=False)[5]  \n",
       "1977                                           0.000000                             \n",
       "2013                                           0.010404                             \n",
       "1995                                           0.000000                             "
      ]
     },
     "execution_count": 22,
     "metadata": {},
     "output_type": "execute_result"
    }
   ],
   "source": [
    "transformed_x.head(3)"
   ]
  },
  {
   "cell_type": "code",
   "execution_count": 23,
   "id": "4e3c766e",
   "metadata": {},
   "outputs": [
    {
     "data": {
      "text/html": [
       "<table class=\"simpletable\">\n",
       "<caption>OLS Regression Results</caption>\n",
       "<tr>\n",
       "  <th>Dep. Variable:</th>          <td>RATE</td>       <th>  R-squared:         </th> <td>   0.807</td>\n",
       "</tr>\n",
       "<tr>\n",
       "  <th>Model:</th>                   <td>OLS</td>       <th>  Adj. R-squared:    </th> <td>   0.750</td>\n",
       "</tr>\n",
       "<tr>\n",
       "  <th>Method:</th>             <td>Least Squares</td>  <th>  F-statistic:       </th> <td>   13.97</td>\n",
       "</tr>\n",
       "<tr>\n",
       "  <th>Date:</th>             <td>Sat, 04 Nov 2023</td> <th>  Prob (F-statistic):</th> <td>3.17e-06</td>\n",
       "</tr>\n",
       "<tr>\n",
       "  <th>Time:</th>                 <td>11:46:19</td>     <th>  Log-Likelihood:    </th> <td> -54.836</td>\n",
       "</tr>\n",
       "<tr>\n",
       "  <th>No. Observations:</th>      <td>    27</td>      <th>  AIC:               </th> <td>   123.7</td>\n",
       "</tr>\n",
       "<tr>\n",
       "  <th>Df Residuals:</th>          <td>    20</td>      <th>  BIC:               </th> <td>   132.7</td>\n",
       "</tr>\n",
       "<tr>\n",
       "  <th>Df Model:</th>              <td>     6</td>      <th>                     </th>     <td> </td>   \n",
       "</tr>\n",
       "<tr>\n",
       "  <th>Covariance Type:</th>      <td>nonrobust</td>    <th>                     </th>     <td> </td>   \n",
       "</tr>\n",
       "</table>\n",
       "<table class=\"simpletable\">\n",
       "<tr>\n",
       "                                        <td></td>                                          <th>coef</th>     <th>std err</th>      <th>t</th>      <th>P>|t|</th>  <th>[0.025</th>    <th>0.975]</th>  \n",
       "</tr>\n",
       "<tr>\n",
       "  <th>Intercept</th>                                                                    <td>    9.7120</td> <td>    1.868</td> <td>    5.200</td> <td> 0.000</td> <td>    5.816</td> <td>   13.608</td>\n",
       "</tr>\n",
       "<tr>\n",
       "  <th>bs(train, knots=(0.7e7, 0.9e7, 1.1e7), degree=3, include_intercept=False)[0]</th> <td>    4.2986</td> <td>    4.026</td> <td>    1.068</td> <td> 0.298</td> <td>   -4.099</td> <td>   12.696</td>\n",
       "</tr>\n",
       "<tr>\n",
       "  <th>bs(train, knots=(0.7e7, 0.9e7, 1.1e7), degree=3, include_intercept=False)[1]</th> <td>   -1.4006</td> <td>    3.554</td> <td>   -0.394</td> <td> 0.698</td> <td>   -8.814</td> <td>    6.013</td>\n",
       "</tr>\n",
       "<tr>\n",
       "  <th>bs(train, knots=(0.7e7, 0.9e7, 1.1e7), degree=3, include_intercept=False)[2]</th> <td>    3.6705</td> <td>    3.888</td> <td>    0.944</td> <td> 0.356</td> <td>   -4.440</td> <td>   11.781</td>\n",
       "</tr>\n",
       "<tr>\n",
       "  <th>bs(train, knots=(0.7e7, 0.9e7, 1.1e7), degree=3, include_intercept=False)[3]</th> <td>   -1.5379</td> <td>    2.945</td> <td>   -0.522</td> <td> 0.607</td> <td>   -7.681</td> <td>    4.605</td>\n",
       "</tr>\n",
       "<tr>\n",
       "  <th>bs(train, knots=(0.7e7, 0.9e7, 1.1e7), degree=3, include_intercept=False)[4]</th> <td>  -10.6278</td> <td>    2.650</td> <td>   -4.011</td> <td> 0.001</td> <td>  -16.155</td> <td>   -5.100</td>\n",
       "</tr>\n",
       "<tr>\n",
       "  <th>bs(train, knots=(0.7e7, 0.9e7, 1.1e7), degree=3, include_intercept=False)[5]</th> <td>   -3.2304</td> <td>    2.564</td> <td>   -1.260</td> <td> 0.222</td> <td>   -8.579</td> <td>    2.118</td>\n",
       "</tr>\n",
       "</table>\n",
       "<table class=\"simpletable\">\n",
       "<tr>\n",
       "  <th>Omnibus:</th>       <td> 1.225</td> <th>  Durbin-Watson:     </th> <td>   1.870</td>\n",
       "</tr>\n",
       "<tr>\n",
       "  <th>Prob(Omnibus):</th> <td> 0.542</td> <th>  Jarque-Bera (JB):  </th> <td>   1.130</td>\n",
       "</tr>\n",
       "<tr>\n",
       "  <th>Skew:</th>          <td> 0.445</td> <th>  Prob(JB):          </th> <td>   0.568</td>\n",
       "</tr>\n",
       "<tr>\n",
       "  <th>Kurtosis:</th>      <td> 2.540</td> <th>  Cond. No.          </th> <td>    15.7</td>\n",
       "</tr>\n",
       "</table><br/><br/>Notes:<br/>[1] Standard Errors assume that the covariance matrix of the errors is correctly specified."
      ],
      "text/plain": [
       "<class 'statsmodels.iolib.summary.Summary'>\n",
       "\"\"\"\n",
       "                            OLS Regression Results                            \n",
       "==============================================================================\n",
       "Dep. Variable:                   RATE   R-squared:                       0.807\n",
       "Model:                            OLS   Adj. R-squared:                  0.750\n",
       "Method:                 Least Squares   F-statistic:                     13.97\n",
       "Date:                Sat, 04 Nov 2023   Prob (F-statistic):           3.17e-06\n",
       "Time:                        11:46:19   Log-Likelihood:                -54.836\n",
       "No. Observations:                  27   AIC:                             123.7\n",
       "Df Residuals:                      20   BIC:                             132.7\n",
       "Df Model:                           6                                         \n",
       "Covariance Type:            nonrobust                                         \n",
       "================================================================================================================================================\n",
       "                                                                                   coef    std err          t      P>|t|      [0.025      0.975]\n",
       "------------------------------------------------------------------------------------------------------------------------------------------------\n",
       "Intercept                                                                        9.7120      1.868      5.200      0.000       5.816      13.608\n",
       "bs(train, knots=(0.7e7, 0.9e7, 1.1e7), degree=3, include_intercept=False)[0]     4.2986      4.026      1.068      0.298      -4.099      12.696\n",
       "bs(train, knots=(0.7e7, 0.9e7, 1.1e7), degree=3, include_intercept=False)[1]    -1.4006      3.554     -0.394      0.698      -8.814       6.013\n",
       "bs(train, knots=(0.7e7, 0.9e7, 1.1e7), degree=3, include_intercept=False)[2]     3.6705      3.888      0.944      0.356      -4.440      11.781\n",
       "bs(train, knots=(0.7e7, 0.9e7, 1.1e7), degree=3, include_intercept=False)[3]    -1.5379      2.945     -0.522      0.607      -7.681       4.605\n",
       "bs(train, knots=(0.7e7, 0.9e7, 1.1e7), degree=3, include_intercept=False)[4]   -10.6278      2.650     -4.011      0.001     -16.155      -5.100\n",
       "bs(train, knots=(0.7e7, 0.9e7, 1.1e7), degree=3, include_intercept=False)[5]    -3.2304      2.564     -1.260      0.222      -8.579       2.118\n",
       "==============================================================================\n",
       "Omnibus:                        1.225   Durbin-Watson:                   1.870\n",
       "Prob(Omnibus):                  0.542   Jarque-Bera (JB):                1.130\n",
       "Skew:                           0.445   Prob(JB):                        0.568\n",
       "Kurtosis:                       2.540   Cond. No.                         15.7\n",
       "==============================================================================\n",
       "\n",
       "Notes:\n",
       "[1] Standard Errors assume that the covariance matrix of the errors is correctly specified.\n",
       "\"\"\""
      ]
     },
     "execution_count": 23,
     "metadata": {},
     "output_type": "execute_result"
    }
   ],
   "source": [
    "spline = sm.OLS(y_train_new, transformed_x).fit()\n",
    "spline_pred = spline.predict(transformed_x)\n",
    "spline.summary()"
   ]
  },
  {
   "cell_type": "code",
   "execution_count": 24,
   "id": "546222af",
   "metadata": {},
   "outputs": [
    {
     "data": {
      "text/plain": [
       "Text(0.5, 1.0, 'Cubic Splines Output')"
      ]
     },
     "execution_count": 24,
     "metadata": {},
     "output_type": "execute_result"
    },
    {
     "data": {
      "image/png": "[encoded data removed]",
      "text/plain": [
       "<Figure size 432x288 with 1 Axes>"
      ]
     },
     "metadata": {
      "needs_background": "light"
     },
     "output_type": "display_data"
    }
   ],
   "source": [
    "plt.scatter( X_train_new, y_train)\n",
    "\n",
    "# sort values and plot model output\n",
    "xs, ys = zip(*sorted(zip(X_train_new.values, spline_pred)))\n",
    "plt.plot(xs, ys, color = 'red')\n",
    "plt.xlabel('mortgage repossession')\n",
    "plt.ylabel('interest rate')\n",
    "plt.title('Cubic Splines Output')"
   ]
  },
  {
   "cell_type": "markdown",
   "id": "a5b6550f",
   "metadata": {},
   "source": [
    "## Test Model Performance"
   ]
  },
  {
   "cell_type": "code",
   "execution_count": 25,
   "id": "5cefe4af",
   "metadata": {},
   "outputs": [],
   "source": [
    "rmse = {}\n",
    "  \n",
    "# OLS\n",
    "OLS_pred = OLS.predict(sm.add_constant(data_test[['num_mortage']]))\n",
    "rmse['OLS'] = mean_squared_error(data_test['RATE'], OLS_pred, squared = False)\n",
    "\n",
    "# Polynomial \n",
    "xp = polynomial_features.fit_transform(data_test[['num_mortage']])\n",
    "xp.shape\n",
    "\n",
    "poly_pred = poly.predict(sm.add_constant(xp))\n",
    "rmse['poly'] = mean_squared_error(data_test[['RATE']], poly_pred, squared = False)\n",
    "\n",
    "# Spline  \n",
    "transformed_x = dmatrix(\n",
    "            \"bs(train, knots=(0.7e7,0.9e7, 1.1e7), degree=3, include_intercept=False)\", \n",
    "                {\"train\": data_test[['num_mortage']]},return_type='dataframe')\n",
    "spline_pred = spline.predict(transformed_x)\n",
    "rmse['spline'] = mean_squared_error(data_test[['RATE']], spline_pred, squared = False)"
   ]
  },
  {
   "cell_type": "code",
   "execution_count": 26,
   "id": "16013499",
   "metadata": {},
   "outputs": [
    {
     "data": {
      "text/plain": [
       "Text(0, 0.5, 'rmse')"
      ]
     },
     "execution_count": 26,
     "metadata": {},
     "output_type": "execute_result"
    },
    {
     "data": {
      "image/png": "[encoded data removed]",
      "text/plain": [
       "<Figure size 432x288 with 1 Axes>"
      ]
     },
     "metadata": {
      "needs_background": "light"
     },
     "output_type": "display_data"
    }
   ],
   "source": [
    "plt.bar(rmse.keys(), rmse.values(), color='g')\n",
    "plt.title('rmse on testing data for three different models')\n",
    "plt.ylabel('rmse')"
   ]
  },
  {
   "cell_type": "markdown",
   "id": "43ed54a1",
   "metadata": {},
   "source": [
    "# Q1: Weighted Linear Regression "
   ]
  },
  {
   "cell_type": "code",
   "execution_count": 27,
   "id": "b45009df",
   "metadata": {},
   "outputs": [
    {
     "data": {
      "text/html": [
       "<div>\n",
       "<style scoped>\n",
       "    .dataframe tbody tr th:only-of-type {\n",
       "        vertical-align: middle;\n",
       "    }\n",
       "\n",
       "    .dataframe tbody tr th {\n",
       "        vertical-align: top;\n",
       "    }\n",
       "\n",
       "    .dataframe thead th {\n",
       "        text-align: right;\n",
       "    }\n",
       "</style>\n",
       "<table border=\"1\" class=\"dataframe\">\n",
       "  <thead>\n",
       "    <tr style=\"text-align: right;\">\n",
       "      <th></th>\n",
       "      <th>x</th>\n",
       "      <th>y_data</th>\n",
       "      <th>weights</th>\n",
       "    </tr>\n",
       "  </thead>\n",
       "  <tbody>\n",
       "    <tr>\n",
       "      <th>0</th>\n",
       "      <td>0.000000</td>\n",
       "      <td>5.812224</td>\n",
       "      <td>1.0</td>\n",
       "    </tr>\n",
       "    <tr>\n",
       "      <th>1</th>\n",
       "      <td>0.408163</td>\n",
       "      <td>5.119555</td>\n",
       "      <td>1.0</td>\n",
       "    </tr>\n",
       "    <tr>\n",
       "      <th>2</th>\n",
       "      <td>0.816327</td>\n",
       "      <td>5.960221</td>\n",
       "      <td>1.0</td>\n",
       "    </tr>\n",
       "    <tr>\n",
       "      <th>3</th>\n",
       "      <td>1.224490</td>\n",
       "      <td>5.754320</td>\n",
       "      <td>1.0</td>\n",
       "    </tr>\n",
       "    <tr>\n",
       "      <th>4</th>\n",
       "      <td>1.632653</td>\n",
       "      <td>5.932048</td>\n",
       "      <td>1.0</td>\n",
       "    </tr>\n",
       "  </tbody>\n",
       "</table>\n",
       "</div>"
      ],
      "text/plain": [
       "          x    y_data  weights\n",
       "0  0.000000  5.812224      1.0\n",
       "1  0.408163  5.119555      1.0\n",
       "2  0.816327  5.960221      1.0\n",
       "3  1.224490  5.754320      1.0\n",
       "4  1.632653  5.932048      1.0"
      ]
     },
     "execution_count": 27,
     "metadata": {},
     "output_type": "execute_result"
    }
   ],
   "source": [
    "df_WLS = (\n",
    "    pd.read_csv('data/Python_DataQ2.csv')\n",
    "    .drop('Unnamed: 0', axis = 1)\n",
    "    .dropna()\n",
    ")\n",
    "df_WLS.head()"
   ]
  },
  {
   "cell_type": "markdown",
   "id": "b77f76a6",
   "metadata": {},
   "source": [
    "## OLS regression (a)"
   ]
  },
  {
   "cell_type": "code",
   "execution_count": 28,
   "id": "3339ed4f",
   "metadata": {},
   "outputs": [
    {
     "data": {
      "text/html": [
       "<table class=\"simpletable\">\n",
       "<caption>OLS Regression Results</caption>\n",
       "<tr>\n",
       "  <th>Dep. Variable:</th>         <td>y_data</td>      <th>  R-squared:         </th> <td>   0.879</td>\n",
       "</tr>\n",
       "<tr>\n",
       "  <th>Model:</th>                   <td>OLS</td>       <th>  Adj. R-squared:    </th> <td>   0.876</td>\n",
       "</tr>\n",
       "<tr>\n",
       "  <th>Method:</th>             <td>Least Squares</td>  <th>  F-statistic:       </th> <td>   347.7</td>\n",
       "</tr>\n",
       "<tr>\n",
       "  <th>Date:</th>             <td>Sat, 04 Nov 2023</td> <th>  Prob (F-statistic):</th> <td>1.25e-23</td>\n",
       "</tr>\n",
       "<tr>\n",
       "  <th>Time:</th>                 <td>11:46:19</td>     <th>  Log-Likelihood:    </th> <td> -68.470</td>\n",
       "</tr>\n",
       "<tr>\n",
       "  <th>No. Observations:</th>      <td>    50</td>      <th>  AIC:               </th> <td>   140.9</td>\n",
       "</tr>\n",
       "<tr>\n",
       "  <th>Df Residuals:</th>          <td>    48</td>      <th>  BIC:               </th> <td>   144.8</td>\n",
       "</tr>\n",
       "<tr>\n",
       "  <th>Df Model:</th>              <td>     1</td>      <th>                     </th>     <td> </td>   \n",
       "</tr>\n",
       "<tr>\n",
       "  <th>Covariance Type:</th>      <td>nonrobust</td>    <th>                     </th>     <td> </td>   \n",
       "</tr>\n",
       "</table>\n",
       "<table class=\"simpletable\">\n",
       "<tr>\n",
       "    <td></td>       <th>coef</th>     <th>std err</th>      <th>t</th>      <th>P>|t|</th>  <th>[0.025</th>    <th>0.975]</th>  \n",
       "</tr>\n",
       "<tr>\n",
       "  <th>const</th> <td>    5.2426</td> <td>    0.271</td> <td>   19.370</td> <td> 0.000</td> <td>    4.698</td> <td>    5.787</td>\n",
       "</tr>\n",
       "<tr>\n",
       "  <th>x</th>     <td>    0.4349</td> <td>    0.023</td> <td>   18.647</td> <td> 0.000</td> <td>    0.388</td> <td>    0.482</td>\n",
       "</tr>\n",
       "</table>\n",
       "<table class=\"simpletable\">\n",
       "<tr>\n",
       "  <th>Omnibus:</th>       <td>10.697</td> <th>  Durbin-Watson:     </th> <td>   2.200</td>\n",
       "</tr>\n",
       "<tr>\n",
       "  <th>Prob(Omnibus):</th> <td> 0.005</td> <th>  Jarque-Bera (JB):  </th> <td>  29.315</td>\n",
       "</tr>\n",
       "<tr>\n",
       "  <th>Skew:</th>          <td> 0.153</td> <th>  Prob(JB):          </th> <td>4.31e-07</td>\n",
       "</tr>\n",
       "<tr>\n",
       "  <th>Kurtosis:</th>      <td> 6.739</td> <th>  Cond. No.          </th> <td>    23.0</td>\n",
       "</tr>\n",
       "</table><br/><br/>Notes:<br/>[1] Standard Errors assume that the covariance matrix of the errors is correctly specified."
      ],
      "text/plain": [
       "<class 'statsmodels.iolib.summary.Summary'>\n",
       "\"\"\"\n",
       "                            OLS Regression Results                            \n",
       "==============================================================================\n",
       "Dep. Variable:                 y_data   R-squared:                       0.879\n",
       "Model:                            OLS   Adj. R-squared:                  0.876\n",
       "Method:                 Least Squares   F-statistic:                     347.7\n",
       "Date:                Sat, 04 Nov 2023   Prob (F-statistic):           1.25e-23\n",
       "Time:                        11:46:19   Log-Likelihood:                -68.470\n",
       "No. Observations:                  50   AIC:                             140.9\n",
       "Df Residuals:                      48   BIC:                             144.8\n",
       "Df Model:                           1                                         \n",
       "Covariance Type:            nonrobust                                         \n",
       "==============================================================================\n",
       "                 coef    std err          t      P>|t|      [0.025      0.975]\n",
       "------------------------------------------------------------------------------\n",
       "const          5.2426      0.271     19.370      0.000       4.698       5.787\n",
       "x              0.4349      0.023     18.647      0.000       0.388       0.482\n",
       "==============================================================================\n",
       "Omnibus:                       10.697   Durbin-Watson:                   2.200\n",
       "Prob(Omnibus):                  0.005   Jarque-Bera (JB):               29.315\n",
       "Skew:                           0.153   Prob(JB):                     4.31e-07\n",
       "Kurtosis:                       6.739   Cond. No.                         23.0\n",
       "==============================================================================\n",
       "\n",
       "Notes:\n",
       "[1] Standard Errors assume that the covariance matrix of the errors is correctly specified.\n",
       "\"\"\""
      ]
     },
     "execution_count": 28,
     "metadata": {},
     "output_type": "execute_result"
    }
   ],
   "source": [
    "ols = sm.OLS(df_WLS['y_data'], sm.add_constant(df_WLS['x'])).fit()\n",
    "ols_pred = ols.predict(sm.add_constant(df_WLS['x']))\n",
    "ols.summary()"
   ]
  },
  {
   "cell_type": "code",
   "execution_count": 29,
   "id": "bd86e5da",
   "metadata": {},
   "outputs": [
    {
     "data": {
      "text/plain": [
       "Text(0.5, 1.0, 'OLS regression x vs y')"
      ]
     },
     "execution_count": 29,
     "metadata": {},
     "output_type": "execute_result"
    },
    {
     "data": {
      "image/png": "[encoded data removed]",
      "text/plain": [
       "<Figure size 432x288 with 1 Axes>"
      ]
     },
     "metadata": {
      "needs_background": "light"
     },
     "output_type": "display_data"
    }
   ],
   "source": [
    "# plot fitted values vs original data \n",
    "plt.scatter(df_WLS['x'], df_WLS['y_data'])\n",
    "plt.plot( df_WLS['x'], ols_pred, color = 'r')\n",
    "plt.xlabel('x');plt.ylabel('y')\n",
    "plt.title('OLS regression x vs y')"
   ]
  },
  {
   "cell_type": "code",
   "execution_count": 30,
   "id": "8bf187f7",
   "metadata": {},
   "outputs": [
    {
     "data": {
      "text/plain": [
       "Text(0.5, 1.0, 'x vs residuals')"
      ]
     },
     "execution_count": 30,
     "metadata": {},
     "output_type": "execute_result"
    },
    {
     "data": {
      "image/png": "[encoded data removed]",
      "text/plain": [
       "<Figure size 432x288 with 1 Axes>"
      ]
     },
     "metadata": {
      "needs_background": "light"
     },
     "output_type": "display_data"
    }
   ],
   "source": [
    "# plot residuals vs x \n",
    "residuals = df_WLS['y_data'] - ols_pred\n",
    "plt.plot(df_WLS['x'], residuals)\n",
    "plt.xlabel('x'); plt.ylabel('residuals')\n",
    "plt.title('x vs residuals')"
   ]
  },
  {
   "cell_type": "markdown",
   "id": "11dcb279",
   "metadata": {},
   "source": [
    "Residuals seem to grow as x grows larger. i.e. they are not independent of x "
   ]
  },
  {
   "cell_type": "markdown",
   "id": "6366d8af",
   "metadata": {},
   "source": [
    "## Weighted Linear regression (b)"
   ]
  },
  {
   "cell_type": "code",
   "execution_count": 31,
   "id": "6f8b88c3",
   "metadata": {},
   "outputs": [
    {
     "data": {
      "text/html": [
       "<table class=\"simpletable\">\n",
       "<caption>OLS Regression Results</caption>\n",
       "<tr>\n",
       "  <th>Dep. Variable:</th>         <td>y_data</td>      <th>  R-squared:         </th> <td>   0.735</td>\n",
       "</tr>\n",
       "<tr>\n",
       "  <th>Model:</th>                   <td>OLS</td>       <th>  Adj. R-squared:    </th> <td>   0.730</td>\n",
       "</tr>\n",
       "<tr>\n",
       "  <th>Method:</th>             <td>Least Squares</td>  <th>  F-statistic:       </th> <td>   133.4</td>\n",
       "</tr>\n",
       "<tr>\n",
       "  <th>Date:</th>             <td>Sat, 04 Nov 2023</td> <th>  Prob (F-statistic):</th> <td>1.84e-15</td>\n",
       "</tr>\n",
       "<tr>\n",
       "  <th>Time:</th>                 <td>11:46:19</td>     <th>  Log-Likelihood:    </th> <td> -87.971</td>\n",
       "</tr>\n",
       "<tr>\n",
       "  <th>No. Observations:</th>      <td>    50</td>      <th>  AIC:               </th> <td>   179.9</td>\n",
       "</tr>\n",
       "<tr>\n",
       "  <th>Df Residuals:</th>          <td>    48</td>      <th>  BIC:               </th> <td>   183.8</td>\n",
       "</tr>\n",
       "<tr>\n",
       "  <th>Df Model:</th>              <td>     1</td>      <th>                     </th>     <td> </td>   \n",
       "</tr>\n",
       "<tr>\n",
       "  <th>Covariance Type:</th>      <td>nonrobust</td>    <th>                     </th>     <td> </td>   \n",
       "</tr>\n",
       "</table>\n",
       "<table class=\"simpletable\">\n",
       "<tr>\n",
       "    <td></td>       <th>coef</th>     <th>std err</th>      <th>t</th>      <th>P>|t|</th>  <th>[0.025</th>    <th>0.975]</th>  \n",
       "</tr>\n",
       "<tr>\n",
       "  <th>const</th> <td>    7.0892</td> <td>    0.297</td> <td>   23.885</td> <td> 0.000</td> <td>    6.492</td> <td>    7.686</td>\n",
       "</tr>\n",
       "<tr>\n",
       "  <th>0</th>     <td>    0.1093</td> <td>    0.009</td> <td>   11.550</td> <td> 0.000</td> <td>    0.090</td> <td>    0.128</td>\n",
       "</tr>\n",
       "</table>\n",
       "<table class=\"simpletable\">\n",
       "<tr>\n",
       "  <th>Omnibus:</th>       <td> 0.374</td> <th>  Durbin-Watson:     </th> <td>   1.223</td>\n",
       "</tr>\n",
       "<tr>\n",
       "  <th>Prob(Omnibus):</th> <td> 0.829</td> <th>  Jarque-Bera (JB):  </th> <td>   0.375</td>\n",
       "</tr>\n",
       "<tr>\n",
       "  <th>Skew:</th>          <td> 0.189</td> <th>  Prob(JB):          </th> <td>   0.829</td>\n",
       "</tr>\n",
       "<tr>\n",
       "  <th>Kurtosis:</th>      <td> 2.810</td> <th>  Cond. No.          </th> <td>    45.9</td>\n",
       "</tr>\n",
       "</table><br/><br/>Notes:<br/>[1] Standard Errors assume that the covariance matrix of the errors is correctly specified."
      ],
      "text/plain": [
       "<class 'statsmodels.iolib.summary.Summary'>\n",
       "\"\"\"\n",
       "                            OLS Regression Results                            \n",
       "==============================================================================\n",
       "Dep. Variable:                 y_data   R-squared:                       0.735\n",
       "Model:                            OLS   Adj. R-squared:                  0.730\n",
       "Method:                 Least Squares   F-statistic:                     133.4\n",
       "Date:                Sat, 04 Nov 2023   Prob (F-statistic):           1.84e-15\n",
       "Time:                        11:46:19   Log-Likelihood:                -87.971\n",
       "No. Observations:                  50   AIC:                             179.9\n",
       "Df Residuals:                      48   BIC:                             183.8\n",
       "Df Model:                           1                                         \n",
       "Covariance Type:            nonrobust                                         \n",
       "==============================================================================\n",
       "                 coef    std err          t      P>|t|      [0.025      0.975]\n",
       "------------------------------------------------------------------------------\n",
       "const          7.0892      0.297     23.885      0.000       6.492       7.686\n",
       "0              0.1093      0.009     11.550      0.000       0.090       0.128\n",
       "==============================================================================\n",
       "Omnibus:                        0.374   Durbin-Watson:                   1.223\n",
       "Prob(Omnibus):                  0.829   Jarque-Bera (JB):                0.375\n",
       "Skew:                           0.189   Prob(JB):                        0.829\n",
       "Kurtosis:                       2.810   Cond. No.                         45.9\n",
       "==============================================================================\n",
       "\n",
       "Notes:\n",
       "[1] Standard Errors assume that the covariance matrix of the errors is correctly specified.\n",
       "\"\"\""
      ]
     },
     "execution_count": 31,
     "metadata": {},
     "output_type": "execute_result"
    }
   ],
   "source": [
    "wls = sm.OLS(df_WLS['y_data'], sm.add_constant(df_WLS['weights'] * df_WLS['x'])).fit()\n",
    "wls_pred = wls.predict(sm.add_constant(df_WLS['x']))\n",
    "wls.summary()"
   ]
  },
  {
   "cell_type": "code",
   "execution_count": 32,
   "id": "c3af452f",
   "metadata": {},
   "outputs": [
    {
     "name": "stdout",
     "output_type": "stream",
     "text": [
      "WLS coefficients: \n",
      " const    7.089235\n",
      "0        0.109268\n",
      "dtype: float64\n",
      "OLS coefficients: \n",
      " const    5.242561\n",
      "x        0.434869\n",
      "dtype: float64\n"
     ]
    }
   ],
   "source": [
    "## Display the estimated coefficients from WLS alongside the ones from OLS \n",
    "print('WLS coefficients: \\n', wls.params)\n",
    "print('OLS coefficients: \\n',ols.params)"
   ]
  },
  {
   "cell_type": "code",
   "execution_count": 33,
   "id": "a4d90092",
   "metadata": {},
   "outputs": [
    {
     "name": "stdout",
     "output_type": "stream",
     "text": [
      "WLS std: \n",
      " const    0.296803\n",
      "0        0.009461\n",
      "dtype: float64\n",
      "OLS std: \n",
      " const    0.270653\n",
      "x        0.023321\n",
      "dtype: float64\n"
     ]
    }
   ],
   "source": [
    "print('WLS std: \\n', wls.bse)\n",
    "print('OLS std: \\n',ols.bse)"
   ]
  },
  {
   "cell_type": "code",
   "execution_count": 34,
   "id": "8d838f84",
   "metadata": {},
   "outputs": [
    {
     "data": {
      "text/plain": [
       "Text(0.5, 1.0, 'WLS regression x vs y')"
      ]
     },
     "execution_count": 34,
     "metadata": {},
     "output_type": "execute_result"
    },
    {
     "data": {
      "image/png": "[encoded data removed]",
      "text/plain": [
       "<Figure size 432x288 with 1 Axes>"
      ]
     },
     "metadata": {
      "needs_background": "light"
     },
     "output_type": "display_data"
    }
   ],
   "source": [
    "# plot fitted values vs original data \n",
    "plt.scatter(df_WLS['x'], df_WLS['y_data'])\n",
    "plt.plot( df_WLS['x'], wls_pred, color = 'r')\n",
    "plt.xlabel('x');plt.ylabel('y')\n",
    "plt.title('WLS regression x vs y')"
   ]
  },
  {
   "cell_type": "code",
   "execution_count": 35,
   "id": "53efd5c9",
   "metadata": {},
   "outputs": [
    {
     "data": {
      "text/plain": [
       "Text(0.5, 1.0, 'x vs residuals')"
      ]
     },
     "execution_count": 35,
     "metadata": {},
     "output_type": "execute_result"
    },
    {
     "data": {
      "image/png": "[encoded data removed]",
      "text/plain": [
       "<Figure size 432x288 with 1 Axes>"
      ]
     },
     "metadata": {
      "needs_background": "light"
     },
     "output_type": "display_data"
    }
   ],
   "source": [
    "# plot residuals vs x \n",
    "residuals = df_WLS['y_data'] - wls_pred\n",
    "plt.plot(df_WLS['x'], residuals)\n",
    "plt.xlabel('x'); plt.ylabel('residuals')\n",
    "plt.title('x vs residuals')"
   ]
  },
  {
   "cell_type": "markdown",
   "id": "7a4b5a80",
   "metadata": {},
   "source": [
    "# Optimal Spline Approximation"
   ]
  },
  {
   "cell_type": "markdown",
   "id": "fd31acfa",
   "metadata": {},
   "source": [
    "We seek to fit a model of the form Yi = f (xi) + σ\u000fi\n",
    ". Write a Python\n",
    "script/notebook which searches for the optimal spline approximation to\n",
    "this model (with knots given by the quantiles of x ), using the AIC as an\n",
    "optimality criterion. Your script should take vectors y and x as inputs,\n",
    "and return the number of knots in the optimal model. You may assume\n",
    "that the optimal number of knots is less than sqrt (length (x) ), and that\n",
    "the vector x has at least this many distinct quantiles."
   ]
  },
  {
   "cell_type": "code",
   "execution_count": 36,
   "id": "c573cfb0",
   "metadata": {},
   "outputs": [],
   "source": [
    "def spline_optimization(x, y):\n",
    "    \n",
    "    knots = np.arange(2, int(np.sqrt(len(x))), 1) # vector of possible knots \n",
    "    aic = np.zeros(len(knots))\n",
    "    \n",
    "    ######### compute spline regression for each knot option ##########\n",
    "    for i in knots: \n",
    "        # Generating cubic spline - save AIC\n",
    "        transformed_x = SplineTransformer(n_knots=i, degree=1, knots='quantile').fit_transform(x)\n",
    "        \n",
    "        spline = sm.OLS(y, transformed_x).fit()\n",
    "        aic[i-2] = spline.aic\n",
    "\n",
    "    # find best #knots and return\n",
    "    return np.argmin(aic)\n",
    "      "
   ]
  },
  {
   "cell_type": "markdown",
   "id": "386e210d",
   "metadata": {},
   "source": [
    "# Logistic Regression"
   ]
  },
  {
   "cell_type": "code",
   "execution_count": null,
   "id": "0adcc5aa",
   "metadata": {},
   "outputs": [],
   "source": []
  }
 ],
 "metadata": {
  "kernelspec": {
   "display_name": "Python 3 (ipykernel)",
   "language": "python",
   "name": "python3"
  },
  "language_info": {
   "codemirror_mode": {
    "name": "ipython",
    "version": 3
   },
   "file_extension": ".py",
   "mimetype": "text/x-python",
   "name": "python",
   "nbconvert_exporter": "python",
   "pygments_lexer": "ipython3",
   "version": "3.9.12"
  },
  "latex_envs": {
   "LaTeX_envs_menu_present": true,
   "autoclose": false,
   "autocomplete": true,
   "bibliofile": "biblio.bib",
   "cite_by": "apalike",
   "current_citInitial": 1,
   "eqLabelWithNumbers": true,
   "eqNumInitial": 1,
   "hotkeys": {
    "equation": "Ctrl-E",
    "itemize": "Ctrl-I"
   },
   "labels_anchors": false,
   "latex_user_defs": false,
   "report_style_numbering": false,
   "user_envs_cfg": false
  },
  "toc": {
   "base_numbering": 1,
   "nav_menu": {},
   "number_sections": true,
   "sideBar": true,
   "skip_h1_title": false,
   "title_cell": "Table of Contents",
   "title_sidebar": "Contents",
   "toc_cell": false,
   "toc_position": {},
   "toc_section_display": true,
   "toc_window_display": false
  }
 },
 "nbformat": 4,
 "nbformat_minor": 5
}
