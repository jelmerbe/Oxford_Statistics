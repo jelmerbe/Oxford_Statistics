{
 "cells": [
  {
   "cell_type": "markdown",
   "metadata": {
    "id": "DeMju0nM9E-S"
   },
   "source": [
    "<h1 align=\"center\"> Statistics and Financial Data Analysis </h1>\n",
    "\n",
    "\n"
   ]
  },
  {
   "cell_type": "markdown",
   "metadata": {
    "id": "MtHZOMMl9E-X"
   },
   "source": [
    "ARIMA Models\n",
    "==="
   ]
  },
  {
   "cell_type": "code",
   "execution_count": 1,
   "metadata": {
    "id": "T8r-hKAX9E-Z"
   },
   "outputs": [],
   "source": [
    "%reset -f"
   ]
  },
  {
   "cell_type": "code",
   "execution_count": 2,
   "metadata": {
    "id": "5NvwfxGc9E-b",
    "scrolled": false
   },
   "outputs": [],
   "source": [
    "#import pandas_datareader as pd_data\n",
    "import matplotlib.pyplot as plt\n",
    "import pandas as pd\n",
    "import numpy as np\n",
    "import scipy.stats as stats\n",
    "import statsmodels.api as sm\n",
    "import seaborn as sns\n",
    "import math as m\n",
    "import scipy as sp\n",
    "from statsmodels.stats.anova import anova_lm\n",
    "import pandas_datareader as pd_data"
   ]
  },
  {
   "cell_type": "code",
   "execution_count": 3,
   "metadata": {
    "colab": {
     "base_uri": "https://localhost:8080/"
    },
    "id": "tJ7TvEaGhNnf",
    "outputId": "2a411180-88c9-4bd4-b9a7-dfd41fe8c88d"
   },
   "outputs": [
    {
     "name": "stdout",
     "output_type": "stream",
     "text": [
      "Requirement already satisfied: pmdarima in /Users/jelmerbennema/anaconda3/lib/python3.9/site-packages (2.0.4)\n",
      "Requirement already satisfied: urllib3 in /Users/jelmerbennema/anaconda3/lib/python3.9/site-packages (from pmdarima) (1.26.9)\n",
      "Requirement already satisfied: packaging>=17.1 in /Users/jelmerbennema/anaconda3/lib/python3.9/site-packages (from pmdarima) (21.3)\n",
      "Requirement already satisfied: joblib>=0.11 in /Users/jelmerbennema/anaconda3/lib/python3.9/site-packages (from pmdarima) (1.1.0)\n",
      "Requirement already satisfied: statsmodels>=0.13.2 in /Users/jelmerbennema/anaconda3/lib/python3.9/site-packages (from pmdarima) (0.13.2)\n",
      "Requirement already satisfied: scipy>=1.3.2 in /Users/jelmerbennema/anaconda3/lib/python3.9/site-packages (from pmdarima) (1.7.3)\n",
      "Requirement already satisfied: setuptools!=50.0.0,>=38.6.0 in /Users/jelmerbennema/anaconda3/lib/python3.9/site-packages (from pmdarima) (61.2.0)\n",
      "Requirement already satisfied: pandas>=0.19 in /Users/jelmerbennema/anaconda3/lib/python3.9/site-packages (from pmdarima) (1.4.2)\n",
      "Requirement already satisfied: numpy>=1.21.2 in /Users/jelmerbennema/anaconda3/lib/python3.9/site-packages (from pmdarima) (1.21.5)\n",
      "Requirement already satisfied: scikit-learn>=0.22 in /Users/jelmerbennema/anaconda3/lib/python3.9/site-packages (from pmdarima) (1.0.2)\n",
      "Requirement already satisfied: Cython!=0.29.18,!=0.29.31,>=0.29 in /Users/jelmerbennema/anaconda3/lib/python3.9/site-packages (from pmdarima) (0.29.28)\n",
      "Requirement already satisfied: pyparsing!=3.0.5,>=2.0.2 in /Users/jelmerbennema/anaconda3/lib/python3.9/site-packages (from packaging>=17.1->pmdarima) (3.0.4)\n",
      "Requirement already satisfied: python-dateutil>=2.8.1 in /Users/jelmerbennema/anaconda3/lib/python3.9/site-packages (from pandas>=0.19->pmdarima) (2.8.2)\n",
      "Requirement already satisfied: pytz>=2020.1 in /Users/jelmerbennema/anaconda3/lib/python3.9/site-packages (from pandas>=0.19->pmdarima) (2023.3.post1)\n",
      "Requirement already satisfied: six>=1.5 in /Users/jelmerbennema/anaconda3/lib/python3.9/site-packages (from python-dateutil>=2.8.1->pandas>=0.19->pmdarima) (1.16.0)\n",
      "Requirement already satisfied: threadpoolctl>=2.0.0 in /Users/jelmerbennema/anaconda3/lib/python3.9/site-packages (from scikit-learn>=0.22->pmdarima) (2.2.0)\n",
      "Requirement already satisfied: patsy>=0.5.2 in /Users/jelmerbennema/anaconda3/lib/python3.9/site-packages (from statsmodels>=0.13.2->pmdarima) (0.5.2)\n",
      "Requirement already satisfied: arch in /Users/jelmerbennema/anaconda3/lib/python3.9/site-packages (6.2.0)\n",
      "Requirement already satisfied: pandas>=1.1 in /Users/jelmerbennema/anaconda3/lib/python3.9/site-packages (from arch) (1.4.2)\n",
      "Requirement already satisfied: numpy>=1.19 in /Users/jelmerbennema/anaconda3/lib/python3.9/site-packages (from arch) (1.21.5)\n",
      "Requirement already satisfied: scipy>=1.5 in /Users/jelmerbennema/anaconda3/lib/python3.9/site-packages (from arch) (1.7.3)\n",
      "Requirement already satisfied: statsmodels>=0.12 in /Users/jelmerbennema/anaconda3/lib/python3.9/site-packages (from arch) (0.13.2)\n",
      "Requirement already satisfied: python-dateutil>=2.8.1 in /Users/jelmerbennema/anaconda3/lib/python3.9/site-packages (from pandas>=1.1->arch) (2.8.2)\n",
      "Requirement already satisfied: pytz>=2020.1 in /Users/jelmerbennema/anaconda3/lib/python3.9/site-packages (from pandas>=1.1->arch) (2023.3.post1)\n",
      "Requirement already satisfied: six>=1.5 in /Users/jelmerbennema/anaconda3/lib/python3.9/site-packages (from python-dateutil>=2.8.1->pandas>=1.1->arch) (1.16.0)\n",
      "Requirement already satisfied: packaging>=21.3 in /Users/jelmerbennema/anaconda3/lib/python3.9/site-packages (from statsmodels>=0.12->arch) (21.3)\n",
      "Requirement already satisfied: patsy>=0.5.2 in /Users/jelmerbennema/anaconda3/lib/python3.9/site-packages (from statsmodels>=0.12->arch) (0.5.2)\n",
      "Requirement already satisfied: pyparsing!=3.0.5,>=2.0.2 in /Users/jelmerbennema/anaconda3/lib/python3.9/site-packages (from packaging>=21.3->statsmodels>=0.12->arch) (3.0.4)\n"
     ]
    }
   ],
   "source": [
    "!pip install pmdarima\n",
    "!pip install arch"
   ]
  },
  {
   "cell_type": "code",
   "execution_count": 4,
   "metadata": {
    "id": "v0d7VDgq9E-b"
   },
   "outputs": [],
   "source": [
    "# Importing the Time Series Analysis module for simulating data\n",
    "from statsmodels.tsa.arima_process import ArmaProcess\n",
    "from statsmodels.tsa.arima_model import ARMA\n",
    "from statsmodels.tsa.arima.model import ARIMA\n",
    "from statsmodels.tsa.arima_model import ARMAResults\n",
    "from statsmodels.tsa.stattools import arma_order_select_ic\n",
    "import statsmodels.tsa.stattools as sm_tools\n",
    "\n",
    "from statsmodels.tsa.stattools import adfuller\n",
    "from statsmodels.tsa.stattools import kpss\n",
    "from statsmodels.graphics.tsaplots import plot_acf\n",
    "from statsmodels.graphics.tsaplots import plot_pacf\n",
    "import pmdarima as pm\n",
    "from datetime import datetime\n",
    "# For splines\n",
    "import patsy\n",
    "from patsy import dmatrix\n",
    "from arch import arch_model\n",
    "from arch.univariate import ARX\n",
    "from arch.univariate import GARCH\n",
    "import pandas_datareader.data as web\n",
    "import datetime as dt\n",
    "import scipy.stats as st"
   ]
  },
  {
   "cell_type": "code",
   "execution_count": 5,
   "metadata": {
    "id": "bGDkB8Gt9E-c"
   },
   "outputs": [],
   "source": [
    "from statsmodels.tsa.stattools import adfuller\n",
    "from statsmodels.tsa.stattools import kpss"
   ]
  },
  {
   "cell_type": "code",
   "execution_count": 6,
   "metadata": {
    "id": "y4bxP6QH9E-c",
    "scrolled": false
   },
   "outputs": [],
   "source": [
    "# Will fix figure size for this notebook\n",
    "plt.rcParams[\"figure.figsize\"] = (8,6)\n",
    "\n",
    "# Suppress warnings\n",
    "import warnings\n",
    "warnings.filterwarnings('ignore')"
   ]
  },
  {
   "cell_type": "code",
   "execution_count": 7,
   "metadata": {
    "id": "FMR4HBw69E-e"
   },
   "outputs": [],
   "source": [
    "\n",
    "def plot_diagnosticsTight3(data,df):\n",
    "\n",
    "    fig, ((ax1,ax2),(ax3,ax4), (ax5,ax6)) = plt.subplots(3,2,figsize=(10,10))\n",
    "\n",
    "    ax1.hist(data, bins =40,color='m', density = True)\n",
    "    mu = data.mean()\n",
    "    sigma = data.std()\n",
    "    x = np.linspace(mu - 3*sigma, mu + 3*sigma, 2419)\n",
    "    ax1.plot(x, stats.norm.pdf(x, mu, sigma), linewidth= 5)\n",
    "    ax1.grid()\n",
    "    ax1.set_title(\"Hist Resid\")\n",
    "\n",
    "    ax2.plot(data)\n",
    "    ax2.grid()\n",
    "    ax2.set_title(\"Resid\")\n",
    "\n",
    "    fig = plot_acf(data,lags=40,zero=False, ax = ax3,use_vlines = True)\n",
    "    ax3.grid()\n",
    "\n",
    "\n",
    "    logData = np.floor(np.log(len(data)))\n",
    "    ljbox_test = sm.stats.acorr_ljungbox(data,10,model_df=df)#package version issue\n",
    "\n",
    "    ax4.plot(ljbox_test['lb_pvalue'])\n",
    "    ax4.axhline(y=0.05, color='r',ls='--')\n",
    "    ax4.set_title(\"LB test\")\n",
    "    ax4.grid()\n",
    "\n",
    "    fig = sm.qqplot(data, line='q', ax = ax5)\n",
    "    ax5.grid()\n",
    "\n",
    "    ax6.plot(data*data)\n",
    "    ax6.grid()\n",
    "    ax6.set_title(\"Resid Sqr\")\n",
    "\n",
    "    plt.tight_layout()\n"
   ]
  },
  {
   "cell_type": "markdown",
   "metadata": {
    "id": "sR7UdwgU9E-f"
   },
   "source": [
    "Showing that given a lognormal process,\n",
    "===\n",
    "by construction the log difference is stationary\n",
    "==="
   ]
  },
  {
   "cell_type": "code",
   "execution_count": 8,
   "metadata": {
    "colab": {
     "base_uri": "https://localhost:8080/",
     "height": 545
    },
    "id": "NASWcS7q9E-f",
    "outputId": "8cc9bbc6-2f68-4775-d6fe-4688575bb5d2"
   },
   "outputs": [
    {
     "data": {
      "image/png": "[encoded data removed]",
      "text/plain": [
       "<Figure size 576x432 with 1 Axes>"
      ]
     },
     "metadata": {
      "needs_background": "light"
     },
     "output_type": "display_data"
    }
   ],
   "source": [
    "np.random.seed(17)\n",
    "nSim = 1000\n",
    "dt = 1/(nSim-1)\n",
    "\n",
    "rw = np.zeros(nSim)\n",
    "spotPrice = np.zeros(nSim)\n",
    "spotPrice_0 = 100\n",
    "mu_t = 0.1*dt\n",
    "sqrt_dt = np.sqrt(dt)\n",
    "\n",
    "for i in range(nSim):\n",
    "    temp = np.random.normal()\n",
    "    rw[i] = rw[i-1] + temp\n",
    "    spotPrice[i] = np.exp(mu_t + sqrt_dt*rw[i])\n",
    "\n",
    "spotPrice = spotPrice_0*spotPrice\n",
    "\n",
    "plt.plot(spotPrice)\n",
    "plt.title('Spot Price Lognormal Process')\n",
    "plt.grid()\n",
    "plt.show()"
   ]
  },
  {
   "cell_type": "code",
   "execution_count": 9,
   "metadata": {
    "colab": {
     "base_uri": "https://localhost:8080/",
     "height": 545
    },
    "id": "ZNt8obid9E-g",
    "outputId": "f73df683-d7fb-40f7-ce7b-21daf8276fc8"
   },
   "outputs": [
    {
     "data": {
      "image/png": "[encoded data removed]",
      "text/plain": [
       "<Figure size 576x432 with 1 Axes>"
      ]
     },
     "metadata": {
      "needs_background": "light"
     },
     "output_type": "display_data"
    }
   ],
   "source": [
    "logRtnPrice = np.diff(np.log(spotPrice))\n",
    "plt.plot(logRtnPrice)\n",
    "plt.title('LogReturns of Spot Price')\n",
    "plt.grid()\n",
    "plt.show()"
   ]
  },
  {
   "cell_type": "code",
   "execution_count": 10,
   "metadata": {
    "colab": {
     "base_uri": "https://localhost:8080/",
     "height": 545
    },
    "id": "lnicdw9c9E-h",
    "outputId": "780eec2a-992a-4fbf-e80a-50e16bb5f7f3"
   },
   "outputs": [
    {
     "data": {
      "image/png": "[encoded data removed]",
      "text/plain": [
       "<Figure size 576x432 with 1 Axes>"
      ]
     },
     "metadata": {
      "needs_background": "light"
     },
     "output_type": "display_data"
    }
   ],
   "source": [
    "plt.plot(np.abs(logRtnPrice))\n",
    "plt.title('Absolut LogReturns Theoretical')\n",
    "plt.grid()\n",
    "#plt.savefig(\"AbsValLogRtn\")"
   ]
  },
  {
   "cell_type": "code",
   "execution_count": 11,
   "metadata": {
    "colab": {
     "base_uri": "https://localhost:8080/"
    },
    "id": "eZBLMtVo0pPk",
    "outputId": "fb3644d9-f68c-461c-b287-0d78299cd7f8"
   },
   "outputs": [
    {
     "name": "stdout",
     "output_type": "stream",
     "text": [
      "ADF Statistic: -32.801457\n",
      "p-value: 0.000000\n",
      "Critical Values:i/\n",
      "\t1%: -3.44\n",
      "\t5%: -2.86\n",
      "\t10%: -2.57\n"
     ]
    }
   ],
   "source": [
    "from statsmodels.tsa.stattools import adfuller\n",
    "\n",
    "test = adfuller(logRtnPrice)\n",
    "print('ADF Statistic: %f' % test[0])\n",
    "print('p-value: %f' % test[1])\n",
    "print('Critical Values:i/')\n",
    "for item, value in test[4].items():\n",
    "    print('\\t%s: %.2f' % (item, value))"
   ]
  },
  {
   "cell_type": "code",
   "execution_count": 12,
   "metadata": {
    "colab": {
     "base_uri": "https://localhost:8080/"
    },
    "id": "SEek2Z1T0rsf",
    "outputId": "d4c7f30a-efd8-43e0-c0fc-bd5623cd4a63"
   },
   "outputs": [
    {
     "name": "stdout",
     "output_type": "stream",
     "text": [
      "KPSS Statistic: 0.045718\n",
      "p-value: 0.100000\n",
      "Critical Values:\n",
      "\t10%: 0.35\n",
      "\t5%: 0.46\n",
      "\t2.5%: 0.57\n",
      "\t1%: 0.74\n"
     ]
    }
   ],
   "source": [
    "from statsmodels.tsa.stattools import kpss\n",
    "\n",
    "test = kpss(logRtnPrice)\n",
    "print('KPSS Statistic: %f' % test[0])\n",
    "print('p-value: %f' % test[1])\n",
    "print('Critical Values:')\n",
    "for item, value in test[3].items():\n",
    "    print('\\t%s: %.2f' % (item, value))"
   ]
  },
  {
   "cell_type": "code",
   "execution_count": 13,
   "metadata": {
    "colab": {
     "base_uri": "https://localhost:8080/",
     "height": 1000
    },
    "id": "wxeLpAWN-40h",
    "outputId": "994edc2d-9d96-4693-a8dd-37224179f8b4"
   },
   "outputs": [
    {
     "data": {
      "image/png": "[encoded data removed]",
      "text/plain": [
       "<Figure size 576x432 with 1 Axes>"
      ]
     },
     "metadata": {
      "needs_background": "light"
     },
     "output_type": "display_data"
    },
    {
     "data": {
      "image/png": "[encoded data removed]",
      "text/plain": [
       "<Figure size 576x432 with 1 Axes>"
      ]
     },
     "metadata": {
      "needs_background": "light"
     },
     "output_type": "display_data"
    }
   ],
   "source": [
    "#Squared log returns don't have autocorrelation\n",
    "#This is a proxty for squared residuals\n",
    "\n",
    "\n",
    "y = logRtnPrice*logRtnPrice\n",
    "plot_acf(y, lags = 20, zero = False)\n",
    "plt.title('ACF of theoretical log returns Daily')\n",
    "plt.grid()\n",
    "plot_pacf(y, lags = 20, zero = False)\n",
    "plt.title('PACF of theoretical log returns Daily')\n",
    "plt.grid()\n",
    "plt.show()"
   ]
  },
  {
   "cell_type": "code",
   "execution_count": null,
   "metadata": {
    "id": "3e1S6xYH9E-j"
   },
   "outputs": [],
   "source": []
  },
  {
   "cell_type": "code",
   "execution_count": null,
   "metadata": {
    "id": "Dpdf5F480Qb2"
   },
   "outputs": [],
   "source": []
  },
  {
   "cell_type": "code",
   "execution_count": null,
   "metadata": {
    "id": "fClwK-3S9E-j"
   },
   "outputs": [],
   "source": []
  },
  {
   "cell_type": "markdown",
   "metadata": {
    "id": "zm97nB_m9E-n"
   },
   "source": [
    "Finance Examples\n",
    "===\n"
   ]
  },
  {
   "cell_type": "code",
   "execution_count": 14,
   "metadata": {
    "colab": {
     "base_uri": "https://localhost:8080/",
     "height": 206
    },
    "id": "F9o73I_99E-o",
    "outputId": "78912b88-20e0-4aa1-83fb-8e558e92ac55"
   },
   "outputs": [
    {
     "ename": "FileNotFoundError",
     "evalue": "[Errno 2] No such file or directory: 'JJC.csv'",
     "output_type": "error",
     "traceback": [
      "\u001b[0;31m---------------------------------------------------------------------------\u001b[0m",
      "\u001b[0;31mFileNotFoundError\u001b[0m                         Traceback (most recent call last)",
      "Input \u001b[0;32mIn [14]\u001b[0m, in \u001b[0;36m<cell line: 2>\u001b[0;34m()\u001b[0m\n\u001b[1;32m      1\u001b[0m \u001b[38;5;66;03m# Selecting Copper ETF\u001b[39;00m\n\u001b[0;32m----> 2\u001b[0m JJCData \u001b[38;5;241m=\u001b[39m \u001b[43mpd\u001b[49m\u001b[38;5;241;43m.\u001b[39;49m\u001b[43mread_csv\u001b[49m\u001b[43m(\u001b[49m\u001b[38;5;124;43m\"\u001b[39;49m\u001b[38;5;124;43mJJC.csv\u001b[39;49m\u001b[38;5;124;43m\"\u001b[39;49m\u001b[43m,\u001b[49m\u001b[43mindex_col\u001b[49m\u001b[38;5;241;43m=\u001b[39;49m\u001b[38;5;241;43m0\u001b[39;49m\u001b[43m)\u001b[49m\n\u001b[1;32m      3\u001b[0m JJCData\u001b[38;5;241m.\u001b[39mhead()\n",
      "File \u001b[0;32m~/anaconda3/lib/python3.9/site-packages/pandas/util/_decorators.py:311\u001b[0m, in \u001b[0;36mdeprecate_nonkeyword_arguments.<locals>.decorate.<locals>.wrapper\u001b[0;34m(*args, **kwargs)\u001b[0m\n\u001b[1;32m    305\u001b[0m \u001b[38;5;28;01mif\u001b[39;00m \u001b[38;5;28mlen\u001b[39m(args) \u001b[38;5;241m>\u001b[39m num_allow_args:\n\u001b[1;32m    306\u001b[0m     warnings\u001b[38;5;241m.\u001b[39mwarn(\n\u001b[1;32m    307\u001b[0m         msg\u001b[38;5;241m.\u001b[39mformat(arguments\u001b[38;5;241m=\u001b[39marguments),\n\u001b[1;32m    308\u001b[0m         \u001b[38;5;167;01mFutureWarning\u001b[39;00m,\n\u001b[1;32m    309\u001b[0m         stacklevel\u001b[38;5;241m=\u001b[39mstacklevel,\n\u001b[1;32m    310\u001b[0m     )\n\u001b[0;32m--> 311\u001b[0m \u001b[38;5;28;01mreturn\u001b[39;00m \u001b[43mfunc\u001b[49m\u001b[43m(\u001b[49m\u001b[38;5;241;43m*\u001b[39;49m\u001b[43margs\u001b[49m\u001b[43m,\u001b[49m\u001b[43m \u001b[49m\u001b[38;5;241;43m*\u001b[39;49m\u001b[38;5;241;43m*\u001b[39;49m\u001b[43mkwargs\u001b[49m\u001b[43m)\u001b[49m\n",
      "File \u001b[0;32m~/anaconda3/lib/python3.9/site-packages/pandas/io/parsers/readers.py:680\u001b[0m, in \u001b[0;36mread_csv\u001b[0;34m(filepath_or_buffer, sep, delimiter, header, names, index_col, usecols, squeeze, prefix, mangle_dupe_cols, dtype, engine, converters, true_values, false_values, skipinitialspace, skiprows, skipfooter, nrows, na_values, keep_default_na, na_filter, verbose, skip_blank_lines, parse_dates, infer_datetime_format, keep_date_col, date_parser, dayfirst, cache_dates, iterator, chunksize, compression, thousands, decimal, lineterminator, quotechar, quoting, doublequote, escapechar, comment, encoding, encoding_errors, dialect, error_bad_lines, warn_bad_lines, on_bad_lines, delim_whitespace, low_memory, memory_map, float_precision, storage_options)\u001b[0m\n\u001b[1;32m    665\u001b[0m kwds_defaults \u001b[38;5;241m=\u001b[39m _refine_defaults_read(\n\u001b[1;32m    666\u001b[0m     dialect,\n\u001b[1;32m    667\u001b[0m     delimiter,\n\u001b[0;32m   (...)\u001b[0m\n\u001b[1;32m    676\u001b[0m     defaults\u001b[38;5;241m=\u001b[39m{\u001b[38;5;124m\"\u001b[39m\u001b[38;5;124mdelimiter\u001b[39m\u001b[38;5;124m\"\u001b[39m: \u001b[38;5;124m\"\u001b[39m\u001b[38;5;124m,\u001b[39m\u001b[38;5;124m\"\u001b[39m},\n\u001b[1;32m    677\u001b[0m )\n\u001b[1;32m    678\u001b[0m kwds\u001b[38;5;241m.\u001b[39mupdate(kwds_defaults)\n\u001b[0;32m--> 680\u001b[0m \u001b[38;5;28;01mreturn\u001b[39;00m \u001b[43m_read\u001b[49m\u001b[43m(\u001b[49m\u001b[43mfilepath_or_buffer\u001b[49m\u001b[43m,\u001b[49m\u001b[43m \u001b[49m\u001b[43mkwds\u001b[49m\u001b[43m)\u001b[49m\n",
      "File \u001b[0;32m~/anaconda3/lib/python3.9/site-packages/pandas/io/parsers/readers.py:575\u001b[0m, in \u001b[0;36m_read\u001b[0;34m(filepath_or_buffer, kwds)\u001b[0m\n\u001b[1;32m    572\u001b[0m _validate_names(kwds\u001b[38;5;241m.\u001b[39mget(\u001b[38;5;124m\"\u001b[39m\u001b[38;5;124mnames\u001b[39m\u001b[38;5;124m\"\u001b[39m, \u001b[38;5;28;01mNone\u001b[39;00m))\n\u001b[1;32m    574\u001b[0m \u001b[38;5;66;03m# Create the parser.\u001b[39;00m\n\u001b[0;32m--> 575\u001b[0m parser \u001b[38;5;241m=\u001b[39m \u001b[43mTextFileReader\u001b[49m\u001b[43m(\u001b[49m\u001b[43mfilepath_or_buffer\u001b[49m\u001b[43m,\u001b[49m\u001b[43m \u001b[49m\u001b[38;5;241;43m*\u001b[39;49m\u001b[38;5;241;43m*\u001b[39;49m\u001b[43mkwds\u001b[49m\u001b[43m)\u001b[49m\n\u001b[1;32m    577\u001b[0m \u001b[38;5;28;01mif\u001b[39;00m chunksize \u001b[38;5;129;01mor\u001b[39;00m iterator:\n\u001b[1;32m    578\u001b[0m     \u001b[38;5;28;01mreturn\u001b[39;00m parser\n",
      "File \u001b[0;32m~/anaconda3/lib/python3.9/site-packages/pandas/io/parsers/readers.py:933\u001b[0m, in \u001b[0;36mTextFileReader.__init__\u001b[0;34m(self, f, engine, **kwds)\u001b[0m\n\u001b[1;32m    930\u001b[0m     \u001b[38;5;28mself\u001b[39m\u001b[38;5;241m.\u001b[39moptions[\u001b[38;5;124m\"\u001b[39m\u001b[38;5;124mhas_index_names\u001b[39m\u001b[38;5;124m\"\u001b[39m] \u001b[38;5;241m=\u001b[39m kwds[\u001b[38;5;124m\"\u001b[39m\u001b[38;5;124mhas_index_names\u001b[39m\u001b[38;5;124m\"\u001b[39m]\n\u001b[1;32m    932\u001b[0m \u001b[38;5;28mself\u001b[39m\u001b[38;5;241m.\u001b[39mhandles: IOHandles \u001b[38;5;241m|\u001b[39m \u001b[38;5;28;01mNone\u001b[39;00m \u001b[38;5;241m=\u001b[39m \u001b[38;5;28;01mNone\u001b[39;00m\n\u001b[0;32m--> 933\u001b[0m \u001b[38;5;28mself\u001b[39m\u001b[38;5;241m.\u001b[39m_engine \u001b[38;5;241m=\u001b[39m \u001b[38;5;28;43mself\u001b[39;49m\u001b[38;5;241;43m.\u001b[39;49m\u001b[43m_make_engine\u001b[49m\u001b[43m(\u001b[49m\u001b[43mf\u001b[49m\u001b[43m,\u001b[49m\u001b[43m \u001b[49m\u001b[38;5;28;43mself\u001b[39;49m\u001b[38;5;241;43m.\u001b[39;49m\u001b[43mengine\u001b[49m\u001b[43m)\u001b[49m\n",
      "File \u001b[0;32m~/anaconda3/lib/python3.9/site-packages/pandas/io/parsers/readers.py:1217\u001b[0m, in \u001b[0;36mTextFileReader._make_engine\u001b[0;34m(self, f, engine)\u001b[0m\n\u001b[1;32m   1213\u001b[0m     mode \u001b[38;5;241m=\u001b[39m \u001b[38;5;124m\"\u001b[39m\u001b[38;5;124mrb\u001b[39m\u001b[38;5;124m\"\u001b[39m\n\u001b[1;32m   1214\u001b[0m \u001b[38;5;66;03m# error: No overload variant of \"get_handle\" matches argument types\u001b[39;00m\n\u001b[1;32m   1215\u001b[0m \u001b[38;5;66;03m# \"Union[str, PathLike[str], ReadCsvBuffer[bytes], ReadCsvBuffer[str]]\"\u001b[39;00m\n\u001b[1;32m   1216\u001b[0m \u001b[38;5;66;03m# , \"str\", \"bool\", \"Any\", \"Any\", \"Any\", \"Any\", \"Any\"\u001b[39;00m\n\u001b[0;32m-> 1217\u001b[0m \u001b[38;5;28mself\u001b[39m\u001b[38;5;241m.\u001b[39mhandles \u001b[38;5;241m=\u001b[39m \u001b[43mget_handle\u001b[49m\u001b[43m(\u001b[49m\u001b[43m  \u001b[49m\u001b[38;5;66;43;03m# type: ignore[call-overload]\u001b[39;49;00m\n\u001b[1;32m   1218\u001b[0m \u001b[43m    \u001b[49m\u001b[43mf\u001b[49m\u001b[43m,\u001b[49m\n\u001b[1;32m   1219\u001b[0m \u001b[43m    \u001b[49m\u001b[43mmode\u001b[49m\u001b[43m,\u001b[49m\n\u001b[1;32m   1220\u001b[0m \u001b[43m    \u001b[49m\u001b[43mencoding\u001b[49m\u001b[38;5;241;43m=\u001b[39;49m\u001b[38;5;28;43mself\u001b[39;49m\u001b[38;5;241;43m.\u001b[39;49m\u001b[43moptions\u001b[49m\u001b[38;5;241;43m.\u001b[39;49m\u001b[43mget\u001b[49m\u001b[43m(\u001b[49m\u001b[38;5;124;43m\"\u001b[39;49m\u001b[38;5;124;43mencoding\u001b[39;49m\u001b[38;5;124;43m\"\u001b[39;49m\u001b[43m,\u001b[49m\u001b[43m \u001b[49m\u001b[38;5;28;43;01mNone\u001b[39;49;00m\u001b[43m)\u001b[49m\u001b[43m,\u001b[49m\n\u001b[1;32m   1221\u001b[0m \u001b[43m    \u001b[49m\u001b[43mcompression\u001b[49m\u001b[38;5;241;43m=\u001b[39;49m\u001b[38;5;28;43mself\u001b[39;49m\u001b[38;5;241;43m.\u001b[39;49m\u001b[43moptions\u001b[49m\u001b[38;5;241;43m.\u001b[39;49m\u001b[43mget\u001b[49m\u001b[43m(\u001b[49m\u001b[38;5;124;43m\"\u001b[39;49m\u001b[38;5;124;43mcompression\u001b[39;49m\u001b[38;5;124;43m\"\u001b[39;49m\u001b[43m,\u001b[49m\u001b[43m \u001b[49m\u001b[38;5;28;43;01mNone\u001b[39;49;00m\u001b[43m)\u001b[49m\u001b[43m,\u001b[49m\n\u001b[1;32m   1222\u001b[0m \u001b[43m    \u001b[49m\u001b[43mmemory_map\u001b[49m\u001b[38;5;241;43m=\u001b[39;49m\u001b[38;5;28;43mself\u001b[39;49m\u001b[38;5;241;43m.\u001b[39;49m\u001b[43moptions\u001b[49m\u001b[38;5;241;43m.\u001b[39;49m\u001b[43mget\u001b[49m\u001b[43m(\u001b[49m\u001b[38;5;124;43m\"\u001b[39;49m\u001b[38;5;124;43mmemory_map\u001b[39;49m\u001b[38;5;124;43m\"\u001b[39;49m\u001b[43m,\u001b[49m\u001b[43m \u001b[49m\u001b[38;5;28;43;01mFalse\u001b[39;49;00m\u001b[43m)\u001b[49m\u001b[43m,\u001b[49m\n\u001b[1;32m   1223\u001b[0m \u001b[43m    \u001b[49m\u001b[43mis_text\u001b[49m\u001b[38;5;241;43m=\u001b[39;49m\u001b[43mis_text\u001b[49m\u001b[43m,\u001b[49m\n\u001b[1;32m   1224\u001b[0m \u001b[43m    \u001b[49m\u001b[43merrors\u001b[49m\u001b[38;5;241;43m=\u001b[39;49m\u001b[38;5;28;43mself\u001b[39;49m\u001b[38;5;241;43m.\u001b[39;49m\u001b[43moptions\u001b[49m\u001b[38;5;241;43m.\u001b[39;49m\u001b[43mget\u001b[49m\u001b[43m(\u001b[49m\u001b[38;5;124;43m\"\u001b[39;49m\u001b[38;5;124;43mencoding_errors\u001b[39;49m\u001b[38;5;124;43m\"\u001b[39;49m\u001b[43m,\u001b[49m\u001b[43m \u001b[49m\u001b[38;5;124;43m\"\u001b[39;49m\u001b[38;5;124;43mstrict\u001b[39;49m\u001b[38;5;124;43m\"\u001b[39;49m\u001b[43m)\u001b[49m\u001b[43m,\u001b[49m\n\u001b[1;32m   1225\u001b[0m \u001b[43m    \u001b[49m\u001b[43mstorage_options\u001b[49m\u001b[38;5;241;43m=\u001b[39;49m\u001b[38;5;28;43mself\u001b[39;49m\u001b[38;5;241;43m.\u001b[39;49m\u001b[43moptions\u001b[49m\u001b[38;5;241;43m.\u001b[39;49m\u001b[43mget\u001b[49m\u001b[43m(\u001b[49m\u001b[38;5;124;43m\"\u001b[39;49m\u001b[38;5;124;43mstorage_options\u001b[39;49m\u001b[38;5;124;43m\"\u001b[39;49m\u001b[43m,\u001b[49m\u001b[43m \u001b[49m\u001b[38;5;28;43;01mNone\u001b[39;49;00m\u001b[43m)\u001b[49m\u001b[43m,\u001b[49m\n\u001b[1;32m   1226\u001b[0m \u001b[43m\u001b[49m\u001b[43m)\u001b[49m\n\u001b[1;32m   1227\u001b[0m \u001b[38;5;28;01massert\u001b[39;00m \u001b[38;5;28mself\u001b[39m\u001b[38;5;241m.\u001b[39mhandles \u001b[38;5;129;01mis\u001b[39;00m \u001b[38;5;129;01mnot\u001b[39;00m \u001b[38;5;28;01mNone\u001b[39;00m\n\u001b[1;32m   1228\u001b[0m f \u001b[38;5;241m=\u001b[39m \u001b[38;5;28mself\u001b[39m\u001b[38;5;241m.\u001b[39mhandles\u001b[38;5;241m.\u001b[39mhandle\n",
      "File \u001b[0;32m~/anaconda3/lib/python3.9/site-packages/pandas/io/common.py:789\u001b[0m, in \u001b[0;36mget_handle\u001b[0;34m(path_or_buf, mode, encoding, compression, memory_map, is_text, errors, storage_options)\u001b[0m\n\u001b[1;32m    784\u001b[0m \u001b[38;5;28;01melif\u001b[39;00m \u001b[38;5;28misinstance\u001b[39m(handle, \u001b[38;5;28mstr\u001b[39m):\n\u001b[1;32m    785\u001b[0m     \u001b[38;5;66;03m# Check whether the filename is to be opened in binary mode.\u001b[39;00m\n\u001b[1;32m    786\u001b[0m     \u001b[38;5;66;03m# Binary mode does not support 'encoding' and 'newline'.\u001b[39;00m\n\u001b[1;32m    787\u001b[0m     \u001b[38;5;28;01mif\u001b[39;00m ioargs\u001b[38;5;241m.\u001b[39mencoding \u001b[38;5;129;01mand\u001b[39;00m \u001b[38;5;124m\"\u001b[39m\u001b[38;5;124mb\u001b[39m\u001b[38;5;124m\"\u001b[39m \u001b[38;5;129;01mnot\u001b[39;00m \u001b[38;5;129;01min\u001b[39;00m ioargs\u001b[38;5;241m.\u001b[39mmode:\n\u001b[1;32m    788\u001b[0m         \u001b[38;5;66;03m# Encoding\u001b[39;00m\n\u001b[0;32m--> 789\u001b[0m         handle \u001b[38;5;241m=\u001b[39m \u001b[38;5;28;43mopen\u001b[39;49m\u001b[43m(\u001b[49m\n\u001b[1;32m    790\u001b[0m \u001b[43m            \u001b[49m\u001b[43mhandle\u001b[49m\u001b[43m,\u001b[49m\n\u001b[1;32m    791\u001b[0m \u001b[43m            \u001b[49m\u001b[43mioargs\u001b[49m\u001b[38;5;241;43m.\u001b[39;49m\u001b[43mmode\u001b[49m\u001b[43m,\u001b[49m\n\u001b[1;32m    792\u001b[0m \u001b[43m            \u001b[49m\u001b[43mencoding\u001b[49m\u001b[38;5;241;43m=\u001b[39;49m\u001b[43mioargs\u001b[49m\u001b[38;5;241;43m.\u001b[39;49m\u001b[43mencoding\u001b[49m\u001b[43m,\u001b[49m\n\u001b[1;32m    793\u001b[0m \u001b[43m            \u001b[49m\u001b[43merrors\u001b[49m\u001b[38;5;241;43m=\u001b[39;49m\u001b[43merrors\u001b[49m\u001b[43m,\u001b[49m\n\u001b[1;32m    794\u001b[0m \u001b[43m            \u001b[49m\u001b[43mnewline\u001b[49m\u001b[38;5;241;43m=\u001b[39;49m\u001b[38;5;124;43m\"\u001b[39;49m\u001b[38;5;124;43m\"\u001b[39;49m\u001b[43m,\u001b[49m\n\u001b[1;32m    795\u001b[0m \u001b[43m        \u001b[49m\u001b[43m)\u001b[49m\n\u001b[1;32m    796\u001b[0m     \u001b[38;5;28;01melse\u001b[39;00m:\n\u001b[1;32m    797\u001b[0m         \u001b[38;5;66;03m# Binary mode\u001b[39;00m\n\u001b[1;32m    798\u001b[0m         handle \u001b[38;5;241m=\u001b[39m \u001b[38;5;28mopen\u001b[39m(handle, ioargs\u001b[38;5;241m.\u001b[39mmode)\n",
      "\u001b[0;31mFileNotFoundError\u001b[0m: [Errno 2] No such file or directory: 'JJC.csv'"
     ]
    }
   ],
   "source": [
    "# Selecting Copper ETF\n",
    "JJCData = pd.read_csv(\"JJC.csv\",index_col=0)\n",
    "JJCData.head()"
   ]
  },
  {
   "cell_type": "code",
   "execution_count": null,
   "metadata": {
    "colab": {
     "base_uri": "https://localhost:8080/",
     "height": 545
    },
    "id": "0UPwLYdG9E-p",
    "outputId": "f4aa8e5f-88c1-4b8c-8f76-21b087f4b7f2"
   },
   "outputs": [],
   "source": [
    "JJC = JJCData['JJC.Adjusted']\n",
    "plt.plot(JJC)\n",
    "plt.title('JJC Monthly Price')\n",
    "plt.grid()\n",
    "plt.show()"
   ]
  },
  {
   "cell_type": "code",
   "execution_count": null,
   "metadata": {
    "colab": {
     "base_uri": "https://localhost:8080/",
     "height": 1000
    },
    "id": "wnoRLKTZ9E-q",
    "outputId": "39cd20af-4fd8-43ad-ce55-6690d0ffaa07"
   },
   "outputs": [],
   "source": [
    "# Usin ACF JJC\n",
    "plot_acf(JJC, lags = 20, zero = False)\n",
    "plt.title('ACF of JJC Daily')\n",
    "plt.grid()\n",
    "plot_pacf(JJC, lags = 20, zero = False)\n",
    "plt.title('PACF of JJC Daily')\n",
    "plt.grid()\n",
    "plt.show()\n"
   ]
  },
  {
   "cell_type": "code",
   "execution_count": null,
   "metadata": {
    "colab": {
     "base_uri": "https://localhost:8080/"
    },
    "id": "p2aRxNDZ9E-q",
    "outputId": "828e4a03-9f90-49da-a764-a803a20c04fe"
   },
   "outputs": [],
   "source": [
    "test = adfuller(JJC)\n",
    "print('ADF Statistic: %f' % test[0])\n",
    "print('p-value: %f' % test[1])\n",
    "print('Critical Values:i/')\n",
    "for item, value in test[4].items():\n",
    "    print('\\t%s: %.2f' % (item, value))"
   ]
  },
  {
   "cell_type": "code",
   "execution_count": null,
   "metadata": {
    "colab": {
     "base_uri": "https://localhost:8080/"
    },
    "id": "c0KKoukn9E-r",
    "outputId": "7e044d4c-abb3-4e76-a896-6a689f44fbe1"
   },
   "outputs": [],
   "source": [
    "test = kpss(JJC)\n",
    "print('KPSS Statistic: %f' % test[0])\n",
    "print('p-value: %f' % test[1])\n",
    "print('Critical Values:')\n",
    "for item, value in test[3].items():\n",
    "    print('\\t%s: %.2f' % (item, value))"
   ]
  },
  {
   "cell_type": "markdown",
   "metadata": {
    "id": "OQDZ7z-T9E-r"
   },
   "source": [
    "Now consider taking the difference of log returns\n",
    "==="
   ]
  },
  {
   "cell_type": "code",
   "execution_count": null,
   "metadata": {
    "id": "SuzGblhA9E-r"
   },
   "outputs": [],
   "source": [
    "JJCLogRtn = np.log(JJC).diff().dropna()"
   ]
  },
  {
   "cell_type": "code",
   "execution_count": null,
   "metadata": {
    "colab": {
     "base_uri": "https://localhost:8080/",
     "height": 545
    },
    "id": "lzE64lZf9E-r",
    "outputId": "a2d14503-ab9e-4111-ab3a-ad509fc5c3f0"
   },
   "outputs": [],
   "source": [
    "plt.plot(JJCLogRtn)\n",
    "plt.title('JJC Daily Log Returns')\n",
    "plt.grid()\n",
    "plt.show()"
   ]
  },
  {
   "cell_type": "code",
   "execution_count": null,
   "metadata": {
    "colab": {
     "base_uri": "https://localhost:8080/",
     "height": 545
    },
    "id": "SAqLM9Xk9E-r",
    "outputId": "a3a0c561-bc4c-44dc-9e4c-db86ce636245"
   },
   "outputs": [],
   "source": [
    "# Usin ACF JJC\n",
    "plot_acf(JJCLogRtn, lags = 20)\n",
    "plt.title('ACF of JJC Daily Log Returns')\n",
    "plt.grid()\n",
    "plt.show()"
   ]
  },
  {
   "cell_type": "code",
   "execution_count": null,
   "metadata": {
    "colab": {
     "base_uri": "https://localhost:8080/",
     "height": 545
    },
    "id": "6nU7wkod9E-r",
    "outputId": "9b9eb6ef-e2de-4c4e-db24-c03f0013b626"
   },
   "outputs": [],
   "source": [
    "# Using PACF JJC\n",
    "plot_pacf(JJCLogRtn, lags = 20)\n",
    "plt.title('PACF of JJC Daily Log Returns')\n",
    "plt.grid()\n",
    "plt.show()"
   ]
  },
  {
   "cell_type": "code",
   "execution_count": null,
   "metadata": {
    "colab": {
     "base_uri": "https://localhost:8080/"
    },
    "id": "NbR9Uh5k9E-s",
    "outputId": "a354f3b2-ab9a-4ae8-d9f1-cfbf2e0c54b3"
   },
   "outputs": [],
   "source": [
    "# Is the data staionary? It seems to reject the ADFuller test (that is, reject the presence of unit root)\n",
    "\n",
    "test = adfuller(JJCLogRtn)\n",
    "print('ADF Statistic: %f' % test[0])\n",
    "print('p-value: %f' % test[1])\n",
    "print('Critical Values:i/')\n",
    "for item, value in test[4].items():\n",
    "    print('\\t%s: %.2f' % (item, value))"
   ]
  },
  {
   "cell_type": "code",
   "execution_count": null,
   "metadata": {
    "colab": {
     "base_uri": "https://localhost:8080/"
    },
    "id": "Zwbx8FCU9E-s",
    "outputId": "8ad392db-fe09-4519-a1ea-b5cb70b51a20"
   },
   "outputs": [],
   "source": [
    "# Is the data staionary? It cannot reject KPSS test (support for stationarity)\n",
    "\n",
    "test = kpss(JJCLogRtn)\n",
    "print('KPSS Statistic: %f' % test[0])\n",
    "print('p-value: %f' % test[1])\n",
    "print('Critical Values:')\n",
    "for item, value in test[3].items():\n",
    "    print('\\t%s: %.2f' % (item, value))"
   ]
  },
  {
   "cell_type": "code",
   "execution_count": null,
   "metadata": {
    "colab": {
     "base_uri": "https://localhost:8080/"
    },
    "id": "IHvbYl8J9E-s",
    "outputId": "55a7e427-72d7-4b75-8e38-86a1ce28a45d"
   },
   "outputs": [],
   "source": [
    "# Fit model to JJC data (as a test)\n",
    "model = ARIMA(JJCLogRtn.values, order=(0,0,2))\n",
    "MA2_res = model.fit()\n",
    "print(MA2_res.summary());\n"
   ]
  },
  {
   "cell_type": "markdown",
   "metadata": {
    "id": "SlF6cUuO9E-s"
   },
   "source": [
    "Consider GS data\n",
    "==="
   ]
  },
  {
   "cell_type": "code",
   "execution_count": null,
   "metadata": {
    "colab": {
     "base_uri": "https://localhost:8080/"
    },
    "id": "0ZYTAHOC9E-h",
    "outputId": "9d37fe23-cdd4-417e-87b1-b2f7ef32b3e4"
   },
   "outputs": [],
   "source": [
    "import yfinance as yfin\n",
    "yfin.pdr_override()\n",
    "\n",
    "start_date = '2007-01-04'\n",
    "end_date = '2019-11-04'\n",
    "GSData = pd_data.data.get_data_yahoo('GS',start_date,end_date)\n",
    "GSData.head()\n",
    "\n",
    "GS = GSData['Adj Close']\n",
    "GSLog = np.log(GS)\n",
    "GSRtn = np.log(GS).diff().dropna()"
   ]
  },
  {
   "cell_type": "code",
   "execution_count": null,
   "metadata": {
    "colab": {
     "base_uri": "https://localhost:8080/",
     "height": 545
    },
    "id": "qwg4h0wR9E-i",
    "outputId": "9e666967-3087-499c-95ce-39d0a859bc31"
   },
   "outputs": [],
   "source": [
    "plt.plot(np.abs(GSRtn))\n",
    "plt.title('Absolut LogReturns GS')\n",
    "plt.grid()\n",
    "#plt.savefig(\"AbsValLogRtnGS\")"
   ]
  },
  {
   "cell_type": "code",
   "execution_count": null,
   "metadata": {
    "colab": {
     "base_uri": "https://localhost:8080/"
    },
    "id": "Cg8sJkr39E-t",
    "outputId": "c8d9030e-1b1d-4220-cad9-842500b8dc37"
   },
   "outputs": [],
   "source": [
    "# Test presence of unit root: seems to be rejected\n",
    "\n",
    "test = adfuller(GSRtn)\n",
    "print('ADF Statistic: %f' % test[0])\n",
    "print('p-value: %f' % test[1])\n",
    "print('Critical Values:')\n",
    "for item, value in test[4].items():\n",
    "    print('\\t%s: %.2f' % (item, value))"
   ]
  },
  {
   "cell_type": "code",
   "execution_count": null,
   "metadata": {
    "colab": {
     "base_uri": "https://localhost:8080/"
    },
    "id": "ilJFaANW9E-t",
    "outputId": "1da7c0dc-4d95-4435-9a92-59c3c2e4aa8f"
   },
   "outputs": [],
   "source": [
    "# Test stationarity: fails to reject hypothesis of stationarity, good candidate for ARMA model\n",
    "\n",
    "test = kpss(GSRtn)\n",
    "print('KPSS Statistic: %f' % test[0])\n",
    "print('p-value: %f' % test[1])\n",
    "print('Critical Values:')\n",
    "for item, value in test[3].items():\n",
    "    print('\\t%s: %.2f' % (item, value))"
   ]
  },
  {
   "cell_type": "markdown",
   "metadata": {
    "id": "P1IRX1Hp9E-t"
   },
   "source": [
    "Given the data appears to be stationary,\n",
    "===\n",
    "need to determine the correct order for an ARMA model\n",
    "==="
   ]
  },
  {
   "cell_type": "code",
   "execution_count": null,
   "metadata": {
    "id": "q_gqGfhd9E-t"
   },
   "outputs": [],
   "source": [
    "import pmdarima as pm\n",
    "?pm.auto_arima"
   ]
  },
  {
   "cell_type": "code",
   "execution_count": null,
   "metadata": {
    "colab": {
     "base_uri": "https://localhost:8080/",
     "height": 505
    },
    "id": "DP-D21ommpGX",
    "outputId": "88c23a53-e358-475e-c7eb-0d2732651db9"
   },
   "outputs": [],
   "source": [
    "GS.plot()\n",
    "plt.grid()"
   ]
  },
  {
   "cell_type": "code",
   "execution_count": null,
   "metadata": {
    "colab": {
     "base_uri": "https://localhost:8080/"
    },
    "id": "5lLsjkCv9E-u",
    "outputId": "51a772eb-ce65-497c-b599-576cd9584ace"
   },
   "outputs": [],
   "source": [
    "results = pm.auto_arima(GSRtn,start_p=1,\n",
    "    d=None,\n",
    "    start_q=1,\n",
    "    max_p=3,\n",
    "    max_d=2,\n",
    "    max_q=3,\n",
    "    seasonal=False,\n",
    "    information_criterion='aic', trace = True)"
   ]
  },
  {
   "cell_type": "code",
   "execution_count": null,
   "metadata": {
    "colab": {
     "base_uri": "https://localhost:8080/"
    },
    "id": "uH2bgDaV9E-u",
    "outputId": "b798ec32-59e4-4e5e-96bb-c00fb9e5d37e"
   },
   "outputs": [],
   "source": [
    "print(results.summary())"
   ]
  },
  {
   "cell_type": "code",
   "execution_count": null,
   "metadata": {
    "id": "ZfLxNMlR9E-u"
   },
   "outputs": [],
   "source": [
    "#You can write your own Auto select ARIMA:\n",
    "\n",
    "def auto_arima(data, max_p, max_d, max_q):\n",
    "    resAIC = []\n",
    "    order = []\n",
    "    for p in range(max_p):\n",
    "        for d in range(max_d):\n",
    "            for q in range(max_q):\n",
    "                try:\n",
    "                    model = ARIMA(data, order=(p,d,q))\n",
    "                    results = model.fit()\n",
    "                    resAIC.append(results.aic)\n",
    "                    order.append([p,d,q])\n",
    "                    print('p=', p,'d=', d, 'q=', q, results.aic)\n",
    "                except ValueError:\n",
    "                    continue\n",
    "    return [resAIC, order]"
   ]
  },
  {
   "cell_type": "code",
   "execution_count": null,
   "metadata": {
    "colab": {
     "base_uri": "https://localhost:8080/"
    },
    "id": "dLbcnMoZ9E-v",
    "outputId": "2000615e-c239-4194-b8fc-701aacc13d03"
   },
   "outputs": [],
   "source": [
    "auto_arima(GSRtn,4,1,4)"
   ]
  },
  {
   "cell_type": "code",
   "execution_count": null,
   "metadata": {
    "colab": {
     "base_uri": "https://localhost:8080/"
    },
    "id": "a0G04JD29E-v",
    "outputId": "4308dad1-0a82-4132-dfbf-5a3efab01180"
   },
   "outputs": [],
   "source": [
    "model = ARIMA(GSRtn.values, order=(1,0,2))\n",
    "ARMA_res = model.fit()\n",
    "print(ARMA_res.summary());"
   ]
  },
  {
   "cell_type": "code",
   "execution_count": null,
   "metadata": {
    "colab": {
     "base_uri": "https://localhost:8080/",
     "height": 399
    },
    "id": "2CW2Kb699E-w",
    "outputId": "0016d57b-7c6f-441a-9b43-06cc663e03f4"
   },
   "outputs": [],
   "source": [
    "#Box Ljung test for the residuals\n",
    "resid = ARMA_res.resid\n",
    "print(resid)\n",
    "ljbox_test_resid_ARMA = sm.stats.acorr_ljungbox(resid,10,model_df=3)\n",
    "ljbox_test_resid_ARMA\n"
   ]
  },
  {
   "cell_type": "code",
   "execution_count": null,
   "metadata": {
    "colab": {
     "base_uri": "https://localhost:8080/"
    },
    "id": "v92LA30q9E-w",
    "outputId": "4bd905bc-1e08-48e5-aef2-1047b910f8b6"
   },
   "outputs": [],
   "source": [
    "ljbox_test_resid_ARMA['lb_pvalue'][9]"
   ]
  },
  {
   "cell_type": "code",
   "execution_count": null,
   "metadata": {
    "colab": {
     "base_uri": "https://localhost:8080/",
     "height": 873
    },
    "id": "-6P6k-gi9E-w",
    "outputId": "20a350c3-c739-4b6c-bb84-d887a4fd0e5f"
   },
   "outputs": [],
   "source": [
    "plot_diagnosticsTight3(resid,3)"
   ]
  },
  {
   "cell_type": "code",
   "execution_count": null,
   "metadata": {
    "colab": {
     "base_uri": "https://localhost:8080/"
    },
    "id": "uolrTrE89E-x",
    "outputId": "986ee1d9-e14a-4b30-aaa5-ea07350ad646"
   },
   "outputs": [],
   "source": [
    "ARMA_res.params"
   ]
  },
  {
   "cell_type": "markdown",
   "metadata": {
    "id": "EIM-XFRo9E-2"
   },
   "source": [
    "Example with AEMO data for ARMA(1,1)\n",
    "==="
   ]
  },
  {
   "cell_type": "code",
   "execution_count": null,
   "metadata": {
    "id": "a1x1FkQ39E-2",
    "scrolled": true
   },
   "outputs": [],
   "source": [
    "# Retreiveing AEMO prices - retail prices of electricity\n",
    "\n",
    "df3 = pd.read_csv('AEMOPriceDataSimple.csv', index_col = 0)\n",
    "logprice = np.log(df3)"
   ]
  },
  {
   "cell_type": "code",
   "execution_count": null,
   "metadata": {
    "colab": {
     "base_uri": "https://localhost:8080/",
     "height": 522
    },
    "id": "xF-K2FZh9E-3",
    "outputId": "6d6f5628-34ce-42c7-8e4d-cfa49a215ef4"
   },
   "outputs": [],
   "source": [
    "plt.plot(logprice.values)\n",
    "plt.grid()\n",
    "plt.show()"
   ]
  },
  {
   "cell_type": "code",
   "execution_count": null,
   "metadata": {
    "id": "xkVo5GZ59E-4"
   },
   "outputs": [],
   "source": [
    "# Do something about outlier (it makes sense in this case)\n",
    "percent_replace = 4.266077 # replace with quantile 99%\n",
    "loc = logprice.idxmax()\n",
    "logprice['RRP'][loc]=percent_replace"
   ]
  },
  {
   "cell_type": "code",
   "execution_count": null,
   "metadata": {
    "colab": {
     "base_uri": "https://localhost:8080/",
     "height": 524
    },
    "id": "B4EkBC_o9E-4",
    "outputId": "f99c2526-ae46-4c45-fceb-1d089d6f1ab2"
   },
   "outputs": [],
   "source": [
    "plt.plot(logprice.values)\n",
    "plt.grid()\n",
    "plt.show()"
   ]
  },
  {
   "cell_type": "code",
   "execution_count": null,
   "metadata": {
    "colab": {
     "base_uri": "https://localhost:8080/",
     "height": 1000
    },
    "id": "cHjJXpPb9E-5",
    "outputId": "513d584e-98a2-49f9-d945-60fb78dac2b9"
   },
   "outputs": [],
   "source": [
    "plot_acf(logprice.values, lags = 25, zero=False)\n",
    "plt.title('ACF of AEMO log prices')\n",
    "plot_pacf(logprice.values, lags = 25, zero=False)\n",
    "plt.title('PACF of AEMO log prices')\n",
    "plt.show()"
   ]
  },
  {
   "cell_type": "code",
   "execution_count": null,
   "metadata": {
    "colab": {
     "base_uri": "https://localhost:8080/"
    },
    "id": "TNiSXWry9E-5",
    "outputId": "85acd699-43e4-4504-8563-3a1c0c152f7c"
   },
   "outputs": [],
   "source": [
    "model = ARIMA(logprice.values, order=(1,0,1)) #Order of AR is 1, MA is 1.\n",
    "AR1_MAl_res = model.fit()\n",
    "print(AR1_MAl_res.summary());"
   ]
  },
  {
   "cell_type": "code",
   "execution_count": null,
   "metadata": {
    "colab": {
     "base_uri": "https://localhost:8080/",
     "height": 873
    },
    "id": "ZhPUJY6_9E-5",
    "outputId": "c04a5269-9c41-4431-9295-234235c135a1"
   },
   "outputs": [],
   "source": [
    "resid = AR1_MAl_res.resid\n",
    "plot_diagnosticsTight3(resid,2)"
   ]
  },
  {
   "cell_type": "code",
   "execution_count": null,
   "metadata": {
    "colab": {
     "base_uri": "https://localhost:8080/",
     "height": 1000
    },
    "id": "yNrgUouN9E-5",
    "outputId": "8e682be1-9a73-41c3-8d5a-5fe719ff5ce2"
   },
   "outputs": [],
   "source": [
    "plot_acf(resid**2, lags = 40,zero =False)\n",
    "plt.title('ACF of residuals sqr for AEMO ARMA(1,1)')\n",
    "plt.show()\n",
    "plot_pacf(resid**2, lags = 40,zero =False)\n",
    "plt.title('PACF of residuals sqr for AEMO ARMA(1,1)')\n",
    "plt.show()"
   ]
  },
  {
   "cell_type": "markdown",
   "metadata": {
    "id": "UWIF-gxd9E-6"
   },
   "source": [
    "Example with AEMO log returns data for ARMA(2,1)\n",
    "==="
   ]
  },
  {
   "cell_type": "code",
   "execution_count": null,
   "metadata": {
    "colab": {
     "base_uri": "https://localhost:8080/",
     "height": 522
    },
    "id": "JQNQQwsb9E-6",
    "outputId": "e19ec790-8fae-4259-9c7b-48f96a1613e1"
   },
   "outputs": [],
   "source": [
    "logprice_diff = logprice.diff().dropna().values\n",
    "plt.plot(logprice_diff)\n",
    "plt.grid()\n",
    "plt.show()"
   ]
  },
  {
   "cell_type": "code",
   "execution_count": null,
   "metadata": {
    "colab": {
     "base_uri": "https://localhost:8080/",
     "height": 1000
    },
    "id": "rKEmbHmJ9E-6",
    "outputId": "5c77414a-4613-4b90-fd45-6537ca7e1dd9"
   },
   "outputs": [],
   "source": [
    "plot_acf(logprice_diff, lags = 40,zero =False)\n",
    "plt.title('ACF of logprice_diff AEMO')\n",
    "plt.show()\n",
    "plot_pacf(logprice_diff, lags = 40,zero =False)\n",
    "plt.title('PACF of logprice_diff AEMO')\n",
    "plt.show()"
   ]
  },
  {
   "cell_type": "code",
   "execution_count": null,
   "metadata": {
    "colab": {
     "base_uri": "https://localhost:8080/",
     "height": 1000
    },
    "id": "-e6vpOhJ9E-6",
    "outputId": "53a0333d-121d-46da-8614-a8baf15a8962"
   },
   "outputs": [],
   "source": [
    "model = ARIMA(logprice.values, order=(2,0,1)) #Order of AR is 2, MA is 1.\n",
    "AR2_MAl_res = model.fit()\n",
    "print(AR2_MAl_res.summary());\n",
    "resid = AR2_MAl_res.resid\n",
    "plot_diagnosticsTight3(resid,3)"
   ]
  },
  {
   "cell_type": "code",
   "execution_count": null,
   "metadata": {
    "colab": {
     "base_uri": "https://localhost:8080/"
    },
    "id": "Hu7V1utb9E-6",
    "outputId": "d878b199-1f75-4c69-a5a9-d380c78c02be"
   },
   "outputs": [],
   "source": [
    "import pmdarima as pm\n",
    "model = pm.auto_arima(logprice_diff, start_p=1, start_q=1,\n",
    "                      test='adf',       # use adftest to find optimal 'd', not relevant here.\n",
    "                      max_p=3, max_q=3, # maximum p and q\n",
    "                      m=1,              # frequency of series\n",
    "                      d=None,           # let model determine 'd', not relevant\n",
    "                      seasonal=False,   # No Seasonality\n",
    "                      start_P=0,\n",
    "                      D=0,\n",
    "                      trace=True,\n",
    "                      error_action='ignore',\n",
    "                      suppress_warnings=True,\n",
    "                      stepwise=True)\n",
    "\n",
    "print(model.summary())"
   ]
  },
  {
   "cell_type": "markdown",
   "metadata": {
    "collapsed": true,
    "id": "I3uSlGiO9E-7"
   },
   "source": [
    "Stationary Tests: Augmented Dickey-Fuller and KPSS\n",
    "===="
   ]
  },
  {
   "cell_type": "markdown",
   "metadata": {
    "id": "Deb4tyRW9E-7"
   },
   "source": [
    "Let's start with some theoretical examples"
   ]
  },
  {
   "cell_type": "code",
   "execution_count": null,
   "metadata": {
    "id": "rEDTkVHB9E-7"
   },
   "outputs": [],
   "source": [
    "from statsmodels.tsa.stattools import adfuller\n",
    "from statsmodels.tsa.stattools import kpss"
   ]
  },
  {
   "cell_type": "markdown",
   "metadata": {
    "id": "zxkxERtJ9E-8"
   },
   "source": [
    "Let's start with some theoretical processes and run the ADF and KPSS tests."
   ]
  },
  {
   "cell_type": "markdown",
   "metadata": {
    "id": "IxgbgocD9E-8"
   },
   "source": [
    "Stationarity Test for MA(3)\n",
    "==="
   ]
  },
  {
   "cell_type": "code",
   "execution_count": null,
   "metadata": {
    "colab": {
     "base_uri": "https://localhost:8080/"
    },
    "id": "DD8a-XRm9E-8",
    "outputId": "39ec9bce-0c27-4da7-9c3b-909a27a7ff2d"
   },
   "outputs": [],
   "source": [
    "# Test ADF for MA(3) model\n",
    "\n",
    "ar1 = np.array([1])\n",
    "am1 = np.array([1,0.8,0.6,0.6])\n",
    "result1 = ArmaProcess(ar1, am1)\n",
    "data_ar1 = result1.generate_sample(nsample=1000)\n",
    "test = adfuller(data_ar1)\n",
    "test"
   ]
  },
  {
   "cell_type": "code",
   "execution_count": null,
   "metadata": {
    "colab": {
     "base_uri": "https://localhost:8080/"
    },
    "id": "yhHhqNQD9E-8",
    "outputId": "676371f0-cd52-45aa-e7ba-da7b5f4ad24e"
   },
   "outputs": [],
   "source": [
    "test = adfuller(data_ar1)\n",
    "print('ADF Statistic: %f' % test[0])\n",
    "print('p-value: %f' % test[1])\n",
    "print('Critical Values:i/')\n",
    "for item, value in test[4].items():\n",
    "    print('\\t%s: %.2f' % (item, value))"
   ]
  },
  {
   "cell_type": "markdown",
   "metadata": {
    "id": "qUXAOdRO9E-9"
   },
   "source": [
    "Hence we reject the hypothesis that the series has a unit root, or in other words, this series is stationary (as expected).\n",
    "\n",
    "What about the KPSS method?"
   ]
  },
  {
   "cell_type": "code",
   "execution_count": null,
   "metadata": {
    "colab": {
     "base_uri": "https://localhost:8080/"
    },
    "id": "Ebr-U-gM9E-9",
    "outputId": "fe86cd68-546b-40dc-98be-87e9b8241cac"
   },
   "outputs": [],
   "source": [
    "test = kpss(data_ar1)\n",
    "print('KPSS Statistic: %f' % test[0])\n",
    "print('p-value: %f' % test[1])\n",
    "print('Critical Values:')\n",
    "for item, value in test[3].items():\n",
    "    print('\\t%s: %.2f' % (item, value))"
   ]
  },
  {
   "cell_type": "markdown",
   "metadata": {
    "id": "Q4CrZvEx9E-9"
   },
   "source": [
    "In this case, we cannot reject the null hypothesis that the process is stationary - as expected again!"
   ]
  },
  {
   "cell_type": "markdown",
   "metadata": {
    "id": "i1W4st1B9E--"
   },
   "source": [
    "Stationarity Test Random Walk\n",
    "==="
   ]
  },
  {
   "cell_type": "code",
   "execution_count": null,
   "metadata": {
    "colab": {
     "base_uri": "https://localhost:8080/",
     "height": 522
    },
    "id": "cPik3lgt9E--",
    "outputId": "7169f8f0-4ce7-4d7e-f5b9-068b3b34fc0e"
   },
   "outputs": [],
   "source": [
    "np.random.seed(17)\n",
    "nSim = 1000\n",
    "\n",
    "rw = np.zeros(nSim)\n",
    "\n",
    "for i in range(1, nSim):\n",
    "    temp = np.random.normal()\n",
    "    if ( temp < 0.):\n",
    "        up_down = -1\n",
    "    else:\n",
    "        up_down = 1\n",
    "    rw[i] = rw[i-1] + up_down\n",
    "\n",
    "plt.plot(rw)\n",
    "plt.grid()\n",
    "plt.show()\n"
   ]
  },
  {
   "cell_type": "code",
   "execution_count": null,
   "metadata": {
    "colab": {
     "base_uri": "https://localhost:8080/"
    },
    "id": "uZkZUOvO9E--",
    "outputId": "7decb33e-290f-4192-c6fa-dc30320ec6c8"
   },
   "outputs": [],
   "source": [
    "test = adfuller(rw)\n",
    "print('ADF Statistic: %f' % test[0])\n",
    "print('p-value: %f' % test[1])\n",
    "print('Critical Values:i/')\n",
    "for item, value in test[4].items():\n",
    "    print('\\t%s: %.2f' % (item, value))"
   ]
  },
  {
   "cell_type": "markdown",
   "metadata": {
    "id": "rcy1Has59E--"
   },
   "source": [
    "Hence we cannot reject the hypothesis that the series has a unit root (as expected).\n"
   ]
  },
  {
   "cell_type": "code",
   "execution_count": null,
   "metadata": {
    "colab": {
     "base_uri": "https://localhost:8080/"
    },
    "id": "k8kw4g639E--",
    "outputId": "576555df-7cb6-41bb-cc66-e4adc940ee4f"
   },
   "outputs": [],
   "source": [
    "test = kpss(rw)\n",
    "print('KPSS Statistic: %f' % test[0])\n",
    "print('p-value: %f' % test[1])\n",
    "print('Critical Values:')\n",
    "for item, value in test[3].items():\n",
    "    print('\\t%s: %.2f' % (item, value))"
   ]
  },
  {
   "cell_type": "markdown",
   "metadata": {
    "id": "uFfSXeTu9E-_"
   },
   "source": [
    "In this case, we reject the null hypothesis that the process is stationary - as expected again!"
   ]
  },
  {
   "cell_type": "code",
   "execution_count": null,
   "metadata": {
    "id": "XSbc3ClV9E-_"
   },
   "outputs": [],
   "source": []
  }
 ],
 "metadata": {
  "colab": {
   "provenance": []
  },
  "kernelspec": {
   "display_name": "Python 3 (ipykernel)",
   "language": "python",
   "name": "python3"
  },
  "language_info": {
   "codemirror_mode": {
    "name": "ipython",
    "version": 3
   },
   "file_extension": ".py",
   "mimetype": "text/x-python",
   "name": "python",
   "nbconvert_exporter": "python",
   "pygments_lexer": "ipython3",
   "version": "3.9.12"
  },
  "latex_envs": {
   "LaTeX_envs_menu_present": true,
   "autoclose": false,
   "autocomplete": true,
   "bibliofile": "biblio.bib",
   "cite_by": "apalike",
   "current_citInitial": 1,
   "eqLabelWithNumbers": true,
   "eqNumInitial": 1,
   "hotkeys": {
    "equation": "Ctrl-E",
    "itemize": "Ctrl-I"
   },
   "labels_anchors": false,
   "latex_user_defs": false,
   "report_style_numbering": false,
   "user_envs_cfg": false
  },
  "toc": {
   "base_numbering": 1,
   "nav_menu": {},
   "number_sections": true,
   "sideBar": true,
   "skip_h1_title": false,
   "title_cell": "Table of Contents",
   "title_sidebar": "Contents",
   "toc_cell": false,
   "toc_position": {},
   "toc_section_display": true,
   "toc_window_display": false
  }
 },
 "nbformat": 4,
 "nbformat_minor": 1
}
